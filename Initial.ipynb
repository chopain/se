{
 "cells": [
  {
   "cell_type": "code",
   "execution_count": 1,
   "metadata": {
    "_cell_guid": "b1076dfc-b9ad-4769-8c92-a6c4dae69d19",
    "_uuid": "8f2839f25d086af736a60e9eeb907d3b93b6e0e5"
   },
   "outputs": [],
   "source": [
    "import numpy as np # linear algebra\n",
    "import pandas as pd # data processing, CSV file I/O \n",
    "import os\n",
    "from sklearn.model_selection import train_test_split\n",
    "%load_ext autotime"
   ]
  },
  {
   "cell_type": "code",
   "execution_count": 2,
   "metadata": {
    "_cell_guid": "79c7e3d0-c299-4dcb-8224-4455121ee9b0",
    "_uuid": "d629ff2d2480ee46fbb7e2d37f6b5fab8052498a"
   },
   "outputs": [
    {
     "name": "stdout",
     "output_type": "stream",
     "text": [
      "time: 12.5 ms\n"
     ]
    }
   ],
   "source": [
    "from sklearn.feature_extraction.text import TfidfVectorizer"
   ]
  },
  {
   "cell_type": "code",
   "execution_count": 3,
   "metadata": {},
   "outputs": [
    {
     "name": "stdout",
     "output_type": "stream",
     "text": [
      "time: 19.6 s\n"
     ]
    }
   ],
   "source": [
    "train = pd.read_csv('train.csv')\n",
    "test = pd.read_csv('test.csv')"
   ]
  },
  {
   "cell_type": "code",
   "execution_count": 64,
   "metadata": {},
   "outputs": [
    {
     "name": "stdout",
     "output_type": "stream",
     "text": [
      "time: 44.3 ms\n"
     ]
    }
   ],
   "source": [
    "train = train.head(10000)"
   ]
  },
  {
   "cell_type": "code",
   "execution_count": 66,
   "metadata": {},
   "outputs": [
    {
     "data": {
      "text/html": [
       "<div>\n",
       "<style scoped>\n",
       "    .dataframe tbody tr th:only-of-type {\n",
       "        vertical-align: middle;\n",
       "    }\n",
       "\n",
       "    .dataframe tbody tr th {\n",
       "        vertical-align: top;\n",
       "    }\n",
       "\n",
       "    .dataframe thead th {\n",
       "        text-align: right;\n",
       "    }\n",
       "</style>\n",
       "<table border=\"1\" class=\"dataframe\">\n",
       "  <thead>\n",
       "    <tr style=\"text-align: right;\">\n",
       "      <th></th>\n",
       "      <th>id</th>\n",
       "      <th>target</th>\n",
       "      <th>comment_text</th>\n",
       "      <th>severe_toxicity</th>\n",
       "      <th>obscene</th>\n",
       "      <th>identity_attack</th>\n",
       "      <th>insult</th>\n",
       "      <th>threat</th>\n",
       "      <th>asian</th>\n",
       "      <th>atheist</th>\n",
       "      <th>...</th>\n",
       "      <th>sad</th>\n",
       "      <th>likes</th>\n",
       "      <th>disagree</th>\n",
       "      <th>sexual_explicit</th>\n",
       "      <th>identity_annotator_count</th>\n",
       "      <th>toxicity_annotator_count</th>\n",
       "      <th>num_asterisks</th>\n",
       "      <th>num_characters</th>\n",
       "      <th>num_capitals</th>\n",
       "      <th>bad_words</th>\n",
       "    </tr>\n",
       "  </thead>\n",
       "  <tbody>\n",
       "    <tr>\n",
       "      <th>0</th>\n",
       "      <td>59848</td>\n",
       "      <td>0.000000</td>\n",
       "      <td>This is so cool. It's like, 'would you want yo...</td>\n",
       "      <td>0.000000</td>\n",
       "      <td>0.0</td>\n",
       "      <td>0.000000</td>\n",
       "      <td>0.00000</td>\n",
       "      <td>0.0</td>\n",
       "      <td>74</td>\n",
       "      <td>NaN</td>\n",
       "      <td>...</td>\n",
       "      <td>0</td>\n",
       "      <td>0</td>\n",
       "      <td>0</td>\n",
       "      <td>0.0</td>\n",
       "      <td>0</td>\n",
       "      <td>4</td>\n",
       "      <td>0</td>\n",
       "      <td>101</td>\n",
       "      <td>3</td>\n",
       "      <td>74</td>\n",
       "    </tr>\n",
       "    <tr>\n",
       "      <th>1</th>\n",
       "      <td>59849</td>\n",
       "      <td>0.000000</td>\n",
       "      <td>Thank you!! This would make my life a lot less...</td>\n",
       "      <td>0.000000</td>\n",
       "      <td>0.0</td>\n",
       "      <td>0.000000</td>\n",
       "      <td>0.00000</td>\n",
       "      <td>0.0</td>\n",
       "      <td>85</td>\n",
       "      <td>NaN</td>\n",
       "      <td>...</td>\n",
       "      <td>0</td>\n",
       "      <td>0</td>\n",
       "      <td>0</td>\n",
       "      <td>0.0</td>\n",
       "      <td>0</td>\n",
       "      <td>4</td>\n",
       "      <td>0</td>\n",
       "      <td>114</td>\n",
       "      <td>3</td>\n",
       "      <td>86</td>\n",
       "    </tr>\n",
       "    <tr>\n",
       "      <th>2</th>\n",
       "      <td>59852</td>\n",
       "      <td>0.000000</td>\n",
       "      <td>This is such an urgent design problem; kudos t...</td>\n",
       "      <td>0.000000</td>\n",
       "      <td>0.0</td>\n",
       "      <td>0.000000</td>\n",
       "      <td>0.00000</td>\n",
       "      <td>0.0</td>\n",
       "      <td>68</td>\n",
       "      <td>NaN</td>\n",
       "      <td>...</td>\n",
       "      <td>0</td>\n",
       "      <td>0</td>\n",
       "      <td>0</td>\n",
       "      <td>0.0</td>\n",
       "      <td>0</td>\n",
       "      <td>4</td>\n",
       "      <td>0</td>\n",
       "      <td>86</td>\n",
       "      <td>2</td>\n",
       "      <td>68</td>\n",
       "    </tr>\n",
       "    <tr>\n",
       "      <th>3</th>\n",
       "      <td>59855</td>\n",
       "      <td>0.000000</td>\n",
       "      <td>Is this something I'll be able to install on m...</td>\n",
       "      <td>0.000000</td>\n",
       "      <td>0.0</td>\n",
       "      <td>0.000000</td>\n",
       "      <td>0.00000</td>\n",
       "      <td>0.0</td>\n",
       "      <td>65</td>\n",
       "      <td>NaN</td>\n",
       "      <td>...</td>\n",
       "      <td>0</td>\n",
       "      <td>0</td>\n",
       "      <td>0</td>\n",
       "      <td>0.0</td>\n",
       "      <td>0</td>\n",
       "      <td>4</td>\n",
       "      <td>0</td>\n",
       "      <td>84</td>\n",
       "      <td>3</td>\n",
       "      <td>65</td>\n",
       "    </tr>\n",
       "    <tr>\n",
       "      <th>4</th>\n",
       "      <td>59856</td>\n",
       "      <td>0.893617</td>\n",
       "      <td>haha you guys are a bunch of losers.</td>\n",
       "      <td>0.021277</td>\n",
       "      <td>0.0</td>\n",
       "      <td>0.021277</td>\n",
       "      <td>0.87234</td>\n",
       "      <td>0.0</td>\n",
       "      <td>28</td>\n",
       "      <td>0.0</td>\n",
       "      <td>...</td>\n",
       "      <td>0</td>\n",
       "      <td>1</td>\n",
       "      <td>0</td>\n",
       "      <td>0.0</td>\n",
       "      <td>4</td>\n",
       "      <td>47</td>\n",
       "      <td>0</td>\n",
       "      <td>36</td>\n",
       "      <td>0</td>\n",
       "      <td>28</td>\n",
       "    </tr>\n",
       "  </tbody>\n",
       "</table>\n",
       "<p>5 rows × 49 columns</p>\n",
       "</div>"
      ],
      "text/plain": [
       "      id    target                                       comment_text  \\\n",
       "0  59848  0.000000  This is so cool. It's like, 'would you want yo...   \n",
       "1  59849  0.000000  Thank you!! This would make my life a lot less...   \n",
       "2  59852  0.000000  This is such an urgent design problem; kudos t...   \n",
       "3  59855  0.000000  Is this something I'll be able to install on m...   \n",
       "4  59856  0.893617               haha you guys are a bunch of losers.   \n",
       "\n",
       "   severe_toxicity  obscene  identity_attack   insult  threat  asian  atheist  \\\n",
       "0         0.000000      0.0         0.000000  0.00000     0.0     74      NaN   \n",
       "1         0.000000      0.0         0.000000  0.00000     0.0     85      NaN   \n",
       "2         0.000000      0.0         0.000000  0.00000     0.0     68      NaN   \n",
       "3         0.000000      0.0         0.000000  0.00000     0.0     65      NaN   \n",
       "4         0.021277      0.0         0.021277  0.87234     0.0     28      0.0   \n",
       "\n",
       "     ...      sad  likes  disagree  sexual_explicit  identity_annotator_count  \\\n",
       "0    ...        0      0         0              0.0                         0   \n",
       "1    ...        0      0         0              0.0                         0   \n",
       "2    ...        0      0         0              0.0                         0   \n",
       "3    ...        0      0         0              0.0                         0   \n",
       "4    ...        0      1         0              0.0                         4   \n",
       "\n",
       "   toxicity_annotator_count  num_asterisks  num_characters  num_capitals  \\\n",
       "0                         4              0             101             3   \n",
       "1                         4              0             114             3   \n",
       "2                         4              0              86             2   \n",
       "3                         4              0              84             3   \n",
       "4                        47              0              36             0   \n",
       "\n",
       "   bad_words  \n",
       "0         74  \n",
       "1         86  \n",
       "2         68  \n",
       "3         65  \n",
       "4         28  \n",
       "\n",
       "[5 rows x 49 columns]"
      ]
     },
     "execution_count": 66,
     "metadata": {},
     "output_type": "execute_result"
    },
    {
     "name": "stdout",
     "output_type": "stream",
     "text": [
      "time: 179 ms\n"
     ]
    }
   ],
   "source": [
    "train.head()"
   ]
  },
  {
   "cell_type": "code",
   "execution_count": null,
   "metadata": {},
   "outputs": [],
   "source": []
  },
  {
   "cell_type": "code",
   "execution_count": 42,
   "metadata": {},
   "outputs": [
    {
     "data": {
      "text/plain": [
       "100000"
      ]
     },
     "execution_count": 42,
     "metadata": {},
     "output_type": "execute_result"
    }
   ],
   "source": [
    "train.shape[0]"
   ]
  },
  {
   "cell_type": "code",
   "execution_count": 67,
   "metadata": {},
   "outputs": [
    {
     "name": "stdout",
     "output_type": "stream",
     "text": [
      "time: 3.55 s\n"
     ]
    }
   ],
   "source": [
    "train['num_asterisks'] = train.apply(lambda row: row['comment_text'].count('*'), axis=1)\n",
    "test['num_asterisks'] = test.apply(lambda row: row['comment_text'].count('*'), axis=1)"
   ]
  },
  {
   "cell_type": "code",
   "execution_count": 68,
   "metadata": {},
   "outputs": [
    {
     "name": "stdout",
     "output_type": "stream",
     "text": [
      "time: 2.19 s\n"
     ]
    }
   ],
   "source": [
    "train['num_characters'] = train.apply(lambda row: len(row['comment_text']), axis=1)\n",
    "test['num_characters'] = test.apply(lambda row: len(row['comment_text']), axis=1)"
   ]
  },
  {
   "cell_type": "code",
   "execution_count": 69,
   "metadata": {},
   "outputs": [
    {
     "name": "stdout",
     "output_type": "stream",
     "text": [
      "time: 5.34 s\n"
     ]
    }
   ],
   "source": [
    "train['num_capitals'] = train.apply(lambda row: len([l for l in row['comment_text'] if l.isupper()]), axis=1)\n",
    "test['num_capitals'] = test.apply(lambda row: len([l for l in row['comment_text'] if l.isupper()]), axis=1)"
   ]
  },
  {
   "cell_type": "code",
   "execution_count": 55,
   "metadata": {},
   "outputs": [],
   "source": [
    "# train['rating'] = train.apply(lambda row: 1 if row['rating'] == 'approved' else 0, axis=1)"
   ]
  },
  {
   "cell_type": "code",
   "execution_count": 70,
   "metadata": {},
   "outputs": [
    {
     "name": "stdout",
     "output_type": "stream",
     "text": [
      "time: 45.7 ms\n"
     ]
    }
   ],
   "source": [
    "#dictionary is a list of words\n",
    "def parse_dictionary(dictionary):\n",
    "    dictionary_trie = {}\n",
    "    for word in dictionary:\n",
    "        tmp_trie = dictionary_trie\n",
    "        for letter in word:\n",
    "            if letter not in tmp_trie:\n",
    "                tmp_trie[letter] = {}\n",
    "            if 'words' not in tmp_trie[letter]:\n",
    "                tmp_trie[letter]['words'] = []\n",
    "\n",
    "            tmp_trie[letter]['words'].append(word)\n",
    "            tmp_trie = tmp_trie[letter]\n",
    "    return dictionary_trie\n",
    "\n",
    "def matches(substring, trie):\n",
    "    d = trie\n",
    "    for letter in substring:\n",
    "        try:\n",
    "            d = d[letter]\n",
    "        except KeyError:\n",
    "            return []\n",
    "    return d['words']"
   ]
  },
  {
   "cell_type": "code",
   "execution_count": 71,
   "metadata": {},
   "outputs": [
    {
     "name": "stdout",
     "output_type": "stream",
     "text": [
      "time: 17.6 ms\n"
     ]
    }
   ],
   "source": [
    "with open('bad-words.txt') as f:\n",
    "    lines = f.read().splitlines()"
   ]
  },
  {
   "cell_type": "code",
   "execution_count": 72,
   "metadata": {},
   "outputs": [
    {
     "name": "stdout",
     "output_type": "stream",
     "text": [
      "time: 18.2 ms\n"
     ]
    }
   ],
   "source": [
    "trie = parse_dictionary(lines)"
   ]
  },
  {
   "cell_type": "code",
   "execution_count": 73,
   "metadata": {},
   "outputs": [
    {
     "name": "stdout",
     "output_type": "stream",
     "text": [
      "time: 21.7 s\n"
     ]
    }
   ],
   "source": [
    "train['bad_words'] = train.apply(lambda row: sum(1 for w in row['comment_text'] if matches(w.lower(), trie)), axis=1)\n",
    "test['bad_words'] = test.apply(lambda row: sum(1 for w in row['comment_text'] if matches(w.lower(), trie)), axis=1)"
   ]
  },
  {
   "cell_type": "code",
   "execution_count": 74,
   "metadata": {},
   "outputs": [
    {
     "name": "stdout",
     "output_type": "stream",
     "text": [
      "time: 3.04 ms\n"
     ]
    }
   ],
   "source": [
    "with open('asian.txt') as f:\n",
    "    lines = f.read().splitlines()"
   ]
  },
  {
   "cell_type": "code",
   "execution_count": 75,
   "metadata": {},
   "outputs": [
    {
     "name": "stdout",
     "output_type": "stream",
     "text": [
      "time: 6.09 ms\n"
     ]
    }
   ],
   "source": [
    "asian_trie = parse_dictionary(lines)"
   ]
  },
  {
   "cell_type": "code",
   "execution_count": 76,
   "metadata": {},
   "outputs": [
    {
     "name": "stdout",
     "output_type": "stream",
     "text": [
      "time: 21 s\n"
     ]
    }
   ],
   "source": [
    "train['asian'] = train.apply(lambda row: sum(1 for w in row['comment_text'] if matches(w.lower(), asian_trie)), axis=1)\n",
    "test['asian'] = test.apply(lambda row: sum(1 for w in row['comment_text'] if matches(w.lower(), asian_trie)), axis=1)"
   ]
  },
  {
   "cell_type": "code",
   "execution_count": 77,
   "metadata": {},
   "outputs": [
    {
     "name": "stdout",
     "output_type": "stream",
     "text": [
      "time: 7.06 ms\n"
     ]
    }
   ],
   "source": [
    "X = train[['id', 'num_asterisks', 'num_characters','num_capitals','bad_words', 'asian']]"
   ]
  },
  {
   "cell_type": "code",
   "execution_count": 78,
   "metadata": {},
   "outputs": [
    {
     "name": "stdout",
     "output_type": "stream",
     "text": [
      "time: 7.89 ms\n"
     ]
    }
   ],
   "source": [
    "y = train['target']"
   ]
  },
  {
   "cell_type": "code",
   "execution_count": 79,
   "metadata": {},
   "outputs": [
    {
     "name": "stdout",
     "output_type": "stream",
     "text": [
      "time: 34.6 ms\n"
     ]
    }
   ],
   "source": [
    "X_train, X_test, y_train, y_test = train_test_split(X, y, test_size=0.33, random_state=42)"
   ]
  },
  {
   "cell_type": "code",
   "execution_count": 80,
   "metadata": {},
   "outputs": [
    {
     "name": "stdout",
     "output_type": "stream",
     "text": [
      "time: 1.81 ms\n"
     ]
    }
   ],
   "source": [
    "feature_list = list(X.columns)"
   ]
  },
  {
   "cell_type": "code",
   "execution_count": 21,
   "metadata": {},
   "outputs": [
    {
     "name": "stdout",
     "output_type": "stream",
     "text": [
      "time: 66.6 ms\n"
     ]
    }
   ],
   "source": [
    "from sklearn.ensemble import RandomForestRegressor"
   ]
  },
  {
   "cell_type": "code",
   "execution_count": 22,
   "metadata": {},
   "outputs": [
    {
     "name": "stdout",
     "output_type": "stream",
     "text": [
      "time: 961 µs\n"
     ]
    }
   ],
   "source": [
    "min_estimators = 15\n",
    "max_estimators = 175"
   ]
  },
  {
   "cell_type": "code",
   "execution_count": 23,
   "metadata": {},
   "outputs": [
    {
     "name": "stdout",
     "output_type": "stream",
     "text": [
      "CPU times: user 1min 49s, sys: 1.41 s, total: 1min 51s\n",
      "Wall time: 1min 52s\n",
      "time: 1min 52s\n"
     ]
    }
   ],
   "source": [
    "%%time\n",
    "rf = RandomForestRegressor(n_estimators=250, warm_start=True, oob_score=True, random_state=0)  \n",
    "rf.fit(X_train, y_train)  \n",
    "y_pred = rf.predict(X_test)  "
   ]
  },
  {
   "cell_type": "code",
   "execution_count": 49,
   "metadata": {},
   "outputs": [
    {
     "name": "stdout",
     "output_type": "stream",
     "text": [
      "time: 678 µs\n"
     ]
    }
   ],
   "source": [
    "y_test_conv = y_test"
   ]
  },
  {
   "cell_type": "code",
   "execution_count": 50,
   "metadata": {},
   "outputs": [
    {
     "name": "stdout",
     "output_type": "stream",
     "text": [
      "time: 14.8 ms\n"
     ]
    }
   ],
   "source": [
    "y_test_conv[y_test_conv >= 0.5] = 1\n",
    "y_test_conv[y_test_conv < 0.5] = 0"
   ]
  },
  {
   "cell_type": "code",
   "execution_count": 52,
   "metadata": {},
   "outputs": [
    {
     "data": {
      "text/plain": [
       "33000"
      ]
     },
     "execution_count": 52,
     "metadata": {},
     "output_type": "execute_result"
    },
    {
     "name": "stdout",
     "output_type": "stream",
     "text": [
      "time: 3.35 ms\n"
     ]
    }
   ],
   "source": [
    "len(y_test_conv)"
   ]
  },
  {
   "cell_type": "code",
   "execution_count": 47,
   "metadata": {},
   "outputs": [
    {
     "data": {
      "text/plain": [
       "33000"
      ]
     },
     "execution_count": 47,
     "metadata": {},
     "output_type": "execute_result"
    },
    {
     "name": "stdout",
     "output_type": "stream",
     "text": [
      "time: 3.04 ms\n"
     ]
    }
   ],
   "source": [
    "len(y_pred)"
   ]
  },
  {
   "cell_type": "code",
   "execution_count": 30,
   "metadata": {},
   "outputs": [
    {
     "name": "stdout",
     "output_type": "stream",
     "text": [
      "time: 1.39 ms\n"
     ]
    }
   ],
   "source": [
    "predictions = pd.DataFrame(y_pred)"
   ]
  },
  {
   "cell_type": "code",
   "execution_count": 54,
   "metadata": {},
   "outputs": [
    {
     "name": "stdout",
     "output_type": "stream",
     "text": [
      "time: 29.9 ms\n"
     ]
    }
   ],
   "source": [
    "import matplotlib.pyplot as plt\n",
    "from sklearn.metrics import (confusion_matrix, precision_recall_curve, auc,\n",
    "                             roc_curve, recall_score, classification_report, f1_score,\n",
    "                             precision_recall_fscore_support)\n",
    "\n",
    "fpr, tpr, thresholds = roc_curve(y_test_conv, predictions)\n",
    "roc_auc = auc(fpr, tpr)\n"
   ]
  },
  {
   "cell_type": "code",
   "execution_count": 55,
   "metadata": {},
   "outputs": [
    {
     "data": {
      "image/png": "[encoded data removed]",
      "text/plain": [
       "<matplotlib.figure.Figure at 0x11ef01fd0>"
      ]
     },
     "metadata": {},
     "output_type": "display_data"
    },
    {
     "name": "stdout",
     "output_type": "stream",
     "text": [
      "time: 1.04 s\n"
     ]
    }
   ],
   "source": [
    "plt.title('Receiver Operating Characteristic')\n",
    "plt.plot(fpr, tpr, label='AUC = %0.4f'% roc_auc)\n",
    "plt.legend(loc='lower right')\n",
    "plt.plot([0,1],[0,1],'r--')\n",
    "plt.xlim([-0.001, 1])\n",
    "plt.ylim([0, 1.001])\n",
    "plt.ylabel('True Positive Rate')\n",
    "plt.xlabel('False Positive Rate')\n",
    "plt.show();"
   ]
  },
  {
   "cell_type": "code",
   "execution_count": 81,
   "metadata": {},
   "outputs": [
    {
     "name": "stdout",
     "output_type": "stream",
     "text": [
      "{'bootstrap': [True, False],\n",
      " 'max_depth': [10, 20, 30, 40, 50, 60, 70, 80, 90, 100, 110, None],\n",
      " 'min_samples_split': [2, 5, 10],\n",
      " 'n_estimators': [200, 400, 600, 800, 1000, 1200, 1400, 1600, 1800, 2000]}\n",
      "time: 62 ms\n"
     ]
    }
   ],
   "source": [
    "from sklearn.model_selection import RandomizedSearchCV\n",
    "from pprint import pprint\n",
    "# Number of trees in random forest\n",
    "n_estimators = [int(x) for x in np.linspace(start = 200, stop = 2000, num = 10)]\n",
    "# Number of features to consider at every split\n",
    "max_features = ['auto', 'sqrt']\n",
    "# Maximum number of levels in tree\n",
    "max_depth = [int(x) for x in np.linspace(10, 110, num = 11)]\n",
    "max_depth.append(None)\n",
    "# Minimum number of samples required to split a node\n",
    "min_samples_split = [2, 5, 10]\n",
    "# Minimum number of samples required at each leaf node\n",
    "min_samples_leaf = [1, 2, 4]\n",
    "# Method of selecting samples for training each tree\n",
    "bootstrap = [True, False]\n",
    "\n",
    "# Create the random grid\n",
    "random_grid = {'n_estimators': n_estimators,\n",
    "               'max_depth': max_depth,\n",
    "               'min_samples_split': min_samples_split,\n",
    "               'bootstrap': bootstrap}\n",
    "\n",
    "pprint(random_grid)"
   ]
  },
  {
   "cell_type": "code",
   "execution_count": 59,
   "metadata": {},
   "outputs": [
    {
     "name": "stdout",
     "output_type": "stream",
     "text": [
      "Fitting 3 folds for each of 100 candidates, totalling 300 fits\n",
      "[CV] n_estimators=200, min_samples_split=5, max_depth=None, bootstrap=True \n",
      "[CV] n_estimators=200, min_samples_split=5, max_depth=None, bootstrap=True \n",
      "[CV] n_estimators=200, min_samples_split=5, max_depth=None, bootstrap=True \n",
      "[CV] n_estimators=200, min_samples_split=10, max_depth=100, bootstrap=True \n",
      "[CV] n_estimators=200, min_samples_split=10, max_depth=100, bootstrap=True \n",
      "[CV] n_estimators=200, min_samples_split=10, max_depth=100, bootstrap=True \n",
      "[CV] n_estimators=1000, min_samples_split=10, max_depth=20, bootstrap=True \n",
      "[CV] n_estimators=1000, min_samples_split=10, max_depth=20, bootstrap=True \n",
      "[CV]  n_estimators=200, min_samples_split=10, max_depth=100, bootstrap=True, total= 1.3min\n",
      "[CV] n_estimators=1000, min_samples_split=10, max_depth=20, bootstrap=True \n",
      "[CV]  n_estimators=200, min_samples_split=5, max_depth=None, bootstrap=True, total= 1.3min\n",
      "[CV] n_estimators=1800, min_samples_split=5, max_depth=70, bootstrap=True \n",
      "[CV]  n_estimators=200, min_samples_split=5, max_depth=None, bootstrap=True, total= 1.4min\n",
      "[CV] n_estimators=1800, min_samples_split=5, max_depth=70, bootstrap=True \n",
      "[CV]  n_estimators=200, min_samples_split=10, max_depth=100, bootstrap=True, total= 1.4min\n",
      "[CV] n_estimators=1800, min_samples_split=5, max_depth=70, bootstrap=True \n",
      "[CV]  n_estimators=200, min_samples_split=10, max_depth=100, bootstrap=True, total= 1.5min\n",
      "[CV] n_estimators=800, min_samples_split=2, max_depth=40, bootstrap=False \n",
      "[CV]  n_estimators=200, min_samples_split=5, max_depth=None, bootstrap=True, total= 1.5min\n",
      "[CV] n_estimators=800, min_samples_split=2, max_depth=40, bootstrap=False \n",
      "[CV]  n_estimators=1000, min_samples_split=10, max_depth=20, bootstrap=True, total= 5.2min\n",
      "[CV] n_estimators=800, min_samples_split=2, max_depth=40, bootstrap=False \n",
      "[CV]  n_estimators=1000, min_samples_split=10, max_depth=20, bootstrap=True, total= 5.3min\n",
      "[CV] n_estimators=1200, min_samples_split=2, max_depth=30, bootstrap=True \n",
      "[CV]  n_estimators=1000, min_samples_split=10, max_depth=20, bootstrap=True, total= 5.3min\n",
      "[CV] n_estimators=1200, min_samples_split=2, max_depth=30, bootstrap=True \n",
      "[CV]  n_estimators=800, min_samples_split=2, max_depth=40, bootstrap=False, total= 8.6min\n",
      "[CV] n_estimators=1200, min_samples_split=2, max_depth=30, bootstrap=True \n",
      "[CV]  n_estimators=800, min_samples_split=2, max_depth=40, bootstrap=False, total= 9.4min\n",
      "[CV] n_estimators=800, min_samples_split=2, max_depth=30, bootstrap=True \n",
      "[CV]  n_estimators=1200, min_samples_split=2, max_depth=30, bootstrap=True, total= 8.9min\n",
      "[CV] n_estimators=800, min_samples_split=2, max_depth=30, bootstrap=True \n",
      "[CV]  n_estimators=1800, min_samples_split=5, max_depth=70, bootstrap=True, total=13.3min\n",
      "[CV] n_estimators=800, min_samples_split=2, max_depth=30, bootstrap=True \n",
      "[CV]  n_estimators=1800, min_samples_split=5, max_depth=70, bootstrap=True, total=13.8min\n",
      "[CV] n_estimators=1200, min_samples_split=10, max_depth=50, bootstrap=True \n",
      "[CV]  n_estimators=1200, min_samples_split=2, max_depth=30, bootstrap=True, total= 8.7min\n",
      "[CV] n_estimators=1200, min_samples_split=10, max_depth=50, bootstrap=True \n",
      "[CV]  n_estimators=800, min_samples_split=2, max_depth=40, bootstrap=False, total=10.6min\n",
      "[CV] n_estimators=1200, min_samples_split=10, max_depth=50, bootstrap=True \n",
      "[CV]  n_estimators=1800, min_samples_split=5, max_depth=70, bootstrap=True, total=14.4min\n",
      "[CV] n_estimators=600, min_samples_split=10, max_depth=100, bootstrap=True \n",
      "[CV]  n_estimators=800, min_samples_split=2, max_depth=30, bootstrap=True, total= 5.6min\n",
      "[CV] n_estimators=600, min_samples_split=10, max_depth=100, bootstrap=True \n",
      "[CV]  n_estimators=1200, min_samples_split=2, max_depth=30, bootstrap=True, total= 8.6min\n",
      "[CV] n_estimators=600, min_samples_split=10, max_depth=100, bootstrap=True \n",
      "[CV]  n_estimators=800, min_samples_split=2, max_depth=30, bootstrap=True, total= 5.3min\n",
      "[CV] n_estimators=200, min_samples_split=2, max_depth=20, bootstrap=False \n",
      "[CV]  n_estimators=600, min_samples_split=10, max_depth=100, bootstrap=True, total= 4.5min\n",
      "[CV] n_estimators=200, min_samples_split=2, max_depth=20, bootstrap=False \n",
      "[CV]  n_estimators=800, min_samples_split=2, max_depth=30, bootstrap=True, total= 5.7min\n",
      "[CV] n_estimators=200, min_samples_split=2, max_depth=20, bootstrap=False \n",
      "[CV]  n_estimators=600, min_samples_split=10, max_depth=100, bootstrap=True, total= 4.3min\n",
      "[CV] n_estimators=1400, min_samples_split=5, max_depth=None, bootstrap=False \n",
      "[CV]  n_estimators=200, min_samples_split=2, max_depth=20, bootstrap=False, total= 1.6min\n",
      "[CV] n_estimators=1400, min_samples_split=5, max_depth=None, bootstrap=False \n",
      "[CV]  n_estimators=200, min_samples_split=2, max_depth=20, bootstrap=False, total= 1.5min\n",
      "[CV] n_estimators=1400, min_samples_split=5, max_depth=None, bootstrap=False \n"
     ]
    },
    {
     "name": "stderr",
     "output_type": "stream",
     "text": [
      "[Parallel(n_jobs=-1)]: Done  25 tasks      | elapsed: 22.3min\n"
     ]
    },
    {
     "name": "stdout",
     "output_type": "stream",
     "text": [
      "[CV]  n_estimators=200, min_samples_split=2, max_depth=20, bootstrap=False, total= 1.6min\n",
      "[CV] n_estimators=1800, min_samples_split=10, max_depth=30, bootstrap=False \n",
      "[CV]  n_estimators=600, min_samples_split=10, max_depth=100, bootstrap=True, total= 4.5min\n",
      "[CV] n_estimators=1800, min_samples_split=10, max_depth=30, bootstrap=False \n",
      "[CV]  n_estimators=1200, min_samples_split=10, max_depth=50, bootstrap=True, total= 8.3min\n",
      "[CV] n_estimators=1800, min_samples_split=10, max_depth=30, bootstrap=False \n",
      "[CV]  n_estimators=1200, min_samples_split=10, max_depth=50, bootstrap=True, total= 8.6min\n",
      "[CV] n_estimators=2000, min_samples_split=2, max_depth=20, bootstrap=True \n",
      "[CV]  n_estimators=1200, min_samples_split=10, max_depth=50, bootstrap=True, total= 9.0min\n",
      "[CV] n_estimators=2000, min_samples_split=2, max_depth=20, bootstrap=True \n"
     ]
    },
    {
     "ename": "KeyboardInterrupt",
     "evalue": "",
     "output_type": "error",
     "traceback": [
      "\u001b[0;31m---------------------------------------------------------------------------\u001b[0m",
      "\u001b[0;31mKeyboardInterrupt\u001b[0m                         Traceback (most recent call last)",
      "\u001b[0;32m<ipython-input-59-d1c412018707>\u001b[0m in \u001b[0;36m<module>\u001b[0;34m()\u001b[0m\n\u001b[1;32m      7\u001b[0m \u001b[0;34m\u001b[0m\u001b[0m\n\u001b[1;32m      8\u001b[0m \u001b[0;31m# Fit the random search model\u001b[0m\u001b[0;34m\u001b[0m\u001b[0;34m\u001b[0m\u001b[0m\n\u001b[0;32m----> 9\u001b[0;31m \u001b[0mrf_random\u001b[0m\u001b[0;34m.\u001b[0m\u001b[0mfit\u001b[0m\u001b[0;34m(\u001b[0m\u001b[0mX_train\u001b[0m\u001b[0;34m,\u001b[0m \u001b[0my_train\u001b[0m\u001b[0;34m)\u001b[0m\u001b[0;34m\u001b[0m\u001b[0m\n\u001b[0m",
      "\u001b[0;32m/usr/local/lib/python3.6/site-packages/sklearn/model_selection/_search.py\u001b[0m in \u001b[0;36mfit\u001b[0;34m(self, X, y, groups, **fit_params)\u001b[0m\n\u001b[1;32m    637\u001b[0m                                   error_score=self.error_score)\n\u001b[1;32m    638\u001b[0m           for parameters, (train, test) in product(candidate_params,\n\u001b[0;32m--> 639\u001b[0;31m                                                    cv.split(X, y, groups)))\n\u001b[0m\u001b[1;32m    640\u001b[0m \u001b[0;34m\u001b[0m\u001b[0m\n\u001b[1;32m    641\u001b[0m         \u001b[0;31m# if one choose to see train score, \"out\" will contain train score info\u001b[0m\u001b[0;34m\u001b[0m\u001b[0;34m\u001b[0m\u001b[0m\n",
      "\u001b[0;32m/usr/local/lib/python3.6/site-packages/sklearn/externals/joblib/parallel.py\u001b[0m in \u001b[0;36m__call__\u001b[0;34m(self, iterable)\u001b[0m\n\u001b[1;32m    787\u001b[0m                 \u001b[0;31m# consumption.\u001b[0m\u001b[0;34m\u001b[0m\u001b[0;34m\u001b[0m\u001b[0m\n\u001b[1;32m    788\u001b[0m                 \u001b[0mself\u001b[0m\u001b[0;34m.\u001b[0m\u001b[0m_iterating\u001b[0m \u001b[0;34m=\u001b[0m \u001b[0;32mFalse\u001b[0m\u001b[0;34m\u001b[0m\u001b[0m\n\u001b[0;32m--> 789\u001b[0;31m             \u001b[0mself\u001b[0m\u001b[0;34m.\u001b[0m\u001b[0mretrieve\u001b[0m\u001b[0;34m(\u001b[0m\u001b[0;34m)\u001b[0m\u001b[0;34m\u001b[0m\u001b[0m\n\u001b[0m\u001b[1;32m    790\u001b[0m             \u001b[0;31m# Make sure that we get a last message telling us we are done\u001b[0m\u001b[0;34m\u001b[0m\u001b[0;34m\u001b[0m\u001b[0m\n\u001b[1;32m    791\u001b[0m             \u001b[0melapsed_time\u001b[0m \u001b[0;34m=\u001b[0m \u001b[0mtime\u001b[0m\u001b[0;34m.\u001b[0m\u001b[0mtime\u001b[0m\u001b[0;34m(\u001b[0m\u001b[0;34m)\u001b[0m \u001b[0;34m-\u001b[0m \u001b[0mself\u001b[0m\u001b[0;34m.\u001b[0m\u001b[0m_start_time\u001b[0m\u001b[0;34m\u001b[0m\u001b[0m\n",
      "\u001b[0;32m/usr/local/lib/python3.6/site-packages/sklearn/externals/joblib/parallel.py\u001b[0m in \u001b[0;36mretrieve\u001b[0;34m(self)\u001b[0m\n\u001b[1;32m    697\u001b[0m             \u001b[0;32mtry\u001b[0m\u001b[0;34m:\u001b[0m\u001b[0;34m\u001b[0m\u001b[0m\n\u001b[1;32m    698\u001b[0m                 \u001b[0;32mif\u001b[0m \u001b[0mgetattr\u001b[0m\u001b[0;34m(\u001b[0m\u001b[0mself\u001b[0m\u001b[0;34m.\u001b[0m\u001b[0m_backend\u001b[0m\u001b[0;34m,\u001b[0m \u001b[0;34m'supports_timeout'\u001b[0m\u001b[0;34m,\u001b[0m \u001b[0;32mFalse\u001b[0m\u001b[0;34m)\u001b[0m\u001b[0;34m:\u001b[0m\u001b[0;34m\u001b[0m\u001b[0m\n\u001b[0;32m--> 699\u001b[0;31m                     \u001b[0mself\u001b[0m\u001b[0;34m.\u001b[0m\u001b[0m_output\u001b[0m\u001b[0;34m.\u001b[0m\u001b[0mextend\u001b[0m\u001b[0;34m(\u001b[0m\u001b[0mjob\u001b[0m\u001b[0;34m.\u001b[0m\u001b[0mget\u001b[0m\u001b[0;34m(\u001b[0m\u001b[0mtimeout\u001b[0m\u001b[0;34m=\u001b[0m\u001b[0mself\u001b[0m\u001b[0;34m.\u001b[0m\u001b[0mtimeout\u001b[0m\u001b[0;34m)\u001b[0m\u001b[0;34m)\u001b[0m\u001b[0;34m\u001b[0m\u001b[0m\n\u001b[0m\u001b[1;32m    700\u001b[0m                 \u001b[0;32melse\u001b[0m\u001b[0;34m:\u001b[0m\u001b[0;34m\u001b[0m\u001b[0m\n\u001b[1;32m    701\u001b[0m                     \u001b[0mself\u001b[0m\u001b[0;34m.\u001b[0m\u001b[0m_output\u001b[0m\u001b[0;34m.\u001b[0m\u001b[0mextend\u001b[0m\u001b[0;34m(\u001b[0m\u001b[0mjob\u001b[0m\u001b[0;34m.\u001b[0m\u001b[0mget\u001b[0m\u001b[0;34m(\u001b[0m\u001b[0;34m)\u001b[0m\u001b[0;34m)\u001b[0m\u001b[0;34m\u001b[0m\u001b[0m\n",
      "\u001b[0;32m/usr/local/Cellar/python/3.6.5_1/Frameworks/Python.framework/Versions/3.6/lib/python3.6/multiprocessing/pool.py\u001b[0m in \u001b[0;36mget\u001b[0;34m(self, timeout)\u001b[0m\n\u001b[1;32m    636\u001b[0m \u001b[0;34m\u001b[0m\u001b[0m\n\u001b[1;32m    637\u001b[0m     \u001b[0;32mdef\u001b[0m \u001b[0mget\u001b[0m\u001b[0;34m(\u001b[0m\u001b[0mself\u001b[0m\u001b[0;34m,\u001b[0m \u001b[0mtimeout\u001b[0m\u001b[0;34m=\u001b[0m\u001b[0;32mNone\u001b[0m\u001b[0;34m)\u001b[0m\u001b[0;34m:\u001b[0m\u001b[0;34m\u001b[0m\u001b[0m\n\u001b[0;32m--> 638\u001b[0;31m         \u001b[0mself\u001b[0m\u001b[0;34m.\u001b[0m\u001b[0mwait\u001b[0m\u001b[0;34m(\u001b[0m\u001b[0mtimeout\u001b[0m\u001b[0;34m)\u001b[0m\u001b[0;34m\u001b[0m\u001b[0m\n\u001b[0m\u001b[1;32m    639\u001b[0m         \u001b[0;32mif\u001b[0m \u001b[0;32mnot\u001b[0m \u001b[0mself\u001b[0m\u001b[0;34m.\u001b[0m\u001b[0mready\u001b[0m\u001b[0;34m(\u001b[0m\u001b[0;34m)\u001b[0m\u001b[0;34m:\u001b[0m\u001b[0;34m\u001b[0m\u001b[0m\n\u001b[1;32m    640\u001b[0m             \u001b[0;32mraise\u001b[0m \u001b[0mTimeoutError\u001b[0m\u001b[0;34m\u001b[0m\u001b[0m\n",
      "\u001b[0;32m/usr/local/Cellar/python/3.6.5_1/Frameworks/Python.framework/Versions/3.6/lib/python3.6/multiprocessing/pool.py\u001b[0m in \u001b[0;36mwait\u001b[0;34m(self, timeout)\u001b[0m\n\u001b[1;32m    633\u001b[0m \u001b[0;34m\u001b[0m\u001b[0m\n\u001b[1;32m    634\u001b[0m     \u001b[0;32mdef\u001b[0m \u001b[0mwait\u001b[0m\u001b[0;34m(\u001b[0m\u001b[0mself\u001b[0m\u001b[0;34m,\u001b[0m \u001b[0mtimeout\u001b[0m\u001b[0;34m=\u001b[0m\u001b[0;32mNone\u001b[0m\u001b[0;34m)\u001b[0m\u001b[0;34m:\u001b[0m\u001b[0;34m\u001b[0m\u001b[0m\n\u001b[0;32m--> 635\u001b[0;31m         \u001b[0mself\u001b[0m\u001b[0;34m.\u001b[0m\u001b[0m_event\u001b[0m\u001b[0;34m.\u001b[0m\u001b[0mwait\u001b[0m\u001b[0;34m(\u001b[0m\u001b[0mtimeout\u001b[0m\u001b[0;34m)\u001b[0m\u001b[0;34m\u001b[0m\u001b[0m\n\u001b[0m\u001b[1;32m    636\u001b[0m \u001b[0;34m\u001b[0m\u001b[0m\n\u001b[1;32m    637\u001b[0m     \u001b[0;32mdef\u001b[0m \u001b[0mget\u001b[0m\u001b[0;34m(\u001b[0m\u001b[0mself\u001b[0m\u001b[0;34m,\u001b[0m \u001b[0mtimeout\u001b[0m\u001b[0;34m=\u001b[0m\u001b[0;32mNone\u001b[0m\u001b[0;34m)\u001b[0m\u001b[0;34m:\u001b[0m\u001b[0;34m\u001b[0m\u001b[0m\n",
      "\u001b[0;32m/usr/local/Cellar/python/3.6.5_1/Frameworks/Python.framework/Versions/3.6/lib/python3.6/threading.py\u001b[0m in \u001b[0;36mwait\u001b[0;34m(self, timeout)\u001b[0m\n\u001b[1;32m    549\u001b[0m             \u001b[0msignaled\u001b[0m \u001b[0;34m=\u001b[0m \u001b[0mself\u001b[0m\u001b[0;34m.\u001b[0m\u001b[0m_flag\u001b[0m\u001b[0;34m\u001b[0m\u001b[0m\n\u001b[1;32m    550\u001b[0m             \u001b[0;32mif\u001b[0m \u001b[0;32mnot\u001b[0m \u001b[0msignaled\u001b[0m\u001b[0;34m:\u001b[0m\u001b[0;34m\u001b[0m\u001b[0m\n\u001b[0;32m--> 551\u001b[0;31m                 \u001b[0msignaled\u001b[0m \u001b[0;34m=\u001b[0m \u001b[0mself\u001b[0m\u001b[0;34m.\u001b[0m\u001b[0m_cond\u001b[0m\u001b[0;34m.\u001b[0m\u001b[0mwait\u001b[0m\u001b[0;34m(\u001b[0m\u001b[0mtimeout\u001b[0m\u001b[0;34m)\u001b[0m\u001b[0;34m\u001b[0m\u001b[0m\n\u001b[0m\u001b[1;32m    552\u001b[0m             \u001b[0;32mreturn\u001b[0m \u001b[0msignaled\u001b[0m\u001b[0;34m\u001b[0m\u001b[0m\n\u001b[1;32m    553\u001b[0m \u001b[0;34m\u001b[0m\u001b[0m\n",
      "\u001b[0;32m/usr/local/Cellar/python/3.6.5_1/Frameworks/Python.framework/Versions/3.6/lib/python3.6/threading.py\u001b[0m in \u001b[0;36mwait\u001b[0;34m(self, timeout)\u001b[0m\n\u001b[1;32m    293\u001b[0m         \u001b[0;32mtry\u001b[0m\u001b[0;34m:\u001b[0m    \u001b[0;31m# restore state no matter what (e.g., KeyboardInterrupt)\u001b[0m\u001b[0;34m\u001b[0m\u001b[0m\n\u001b[1;32m    294\u001b[0m             \u001b[0;32mif\u001b[0m \u001b[0mtimeout\u001b[0m \u001b[0;32mis\u001b[0m \u001b[0;32mNone\u001b[0m\u001b[0;34m:\u001b[0m\u001b[0;34m\u001b[0m\u001b[0m\n\u001b[0;32m--> 295\u001b[0;31m                 \u001b[0mwaiter\u001b[0m\u001b[0;34m.\u001b[0m\u001b[0macquire\u001b[0m\u001b[0;34m(\u001b[0m\u001b[0;34m)\u001b[0m\u001b[0;34m\u001b[0m\u001b[0m\n\u001b[0m\u001b[1;32m    296\u001b[0m                 \u001b[0mgotit\u001b[0m \u001b[0;34m=\u001b[0m \u001b[0;32mTrue\u001b[0m\u001b[0;34m\u001b[0m\u001b[0m\n\u001b[1;32m    297\u001b[0m             \u001b[0;32melse\u001b[0m\u001b[0;34m:\u001b[0m\u001b[0;34m\u001b[0m\u001b[0m\n",
      "\u001b[0;31mKeyboardInterrupt\u001b[0m: "
     ]
    },
    {
     "name": "stdout",
     "output_type": "stream",
     "text": [
      "time: 31min 40s\n"
     ]
    }
   ],
   "source": [
    "# Use the random grid to search for best hyperparameters\n",
    "# First create the base model to tune\n",
    "rf = RandomForestRegressor()\n",
    "# Random search of parameters, using 3 fold cross validation, \n",
    "# search across 100 different combinations, and use all available cores\n",
    "rf_random = RandomizedSearchCV(estimator = rf, param_distributions = random_grid, n_iter = 100, cv = 3, verbose=2, random_state=42, n_jobs = -1)\n",
    "\n",
    "# Fit the random search model\n",
    "rf_random.fit(X_train, y_train)"
   ]
  },
  {
   "cell_type": "code",
   "execution_count": 82,
   "metadata": {},
   "outputs": [
    {
     "name": "stdout",
     "output_type": "stream",
     "text": [
      "Fitting 3 folds for each of 100 candidates, totalling 300 fits\n",
      "[CV] n_estimators=200, min_samples_split=5, max_depth=None, bootstrap=True \n",
      "[CV] n_estimators=200, min_samples_split=5, max_depth=None, bootstrap=True \n",
      "[CV] n_estimators=200, min_samples_split=5, max_depth=None, bootstrap=True \n",
      "[CV] n_estimators=200, min_samples_split=10, max_depth=100, bootstrap=True \n",
      "[CV] n_estimators=200, min_samples_split=10, max_depth=100, bootstrap=True \n",
      "[CV] n_estimators=200, min_samples_split=10, max_depth=100, bootstrap=True \n",
      "[CV] n_estimators=1000, min_samples_split=10, max_depth=20, bootstrap=True \n",
      "[CV] n_estimators=1000, min_samples_split=10, max_depth=20, bootstrap=True \n",
      "[CV]  n_estimators=200, min_samples_split=10, max_depth=100, bootstrap=True, total=   5.5s\n",
      "[CV] n_estimators=1000, min_samples_split=10, max_depth=20, bootstrap=True \n",
      "[CV]  n_estimators=200, min_samples_split=5, max_depth=None, bootstrap=True, total=   5.6s\n",
      "[CV] n_estimators=1800, min_samples_split=5, max_depth=70, bootstrap=True \n",
      "[CV]  n_estimators=200, min_samples_split=10, max_depth=100, bootstrap=True, total=   5.6s\n",
      "[CV]  n_estimators=200, min_samples_split=5, max_depth=None, bootstrap=True, total=   5.7s\n",
      "[CV] n_estimators=1800, min_samples_split=5, max_depth=70, bootstrap=True \n",
      "[CV] n_estimators=1800, min_samples_split=5, max_depth=70, bootstrap=True \n",
      "[CV]  n_estimators=200, min_samples_split=10, max_depth=100, bootstrap=True, total=   5.9s\n",
      "[CV] n_estimators=800, min_samples_split=2, max_depth=40, bootstrap=False \n",
      "[CV]  n_estimators=200, min_samples_split=5, max_depth=None, bootstrap=True, total=   6.1s\n",
      "[CV] n_estimators=800, min_samples_split=2, max_depth=40, bootstrap=False \n",
      "[CV]  n_estimators=1000, min_samples_split=10, max_depth=20, bootstrap=True, total=  29.9s\n",
      "[CV] n_estimators=800, min_samples_split=2, max_depth=40, bootstrap=False \n",
      "[CV]  n_estimators=1000, min_samples_split=10, max_depth=20, bootstrap=True, total=  31.2s\n",
      "[CV] n_estimators=1200, min_samples_split=2, max_depth=30, bootstrap=True \n",
      "[CV]  n_estimators=1000, min_samples_split=10, max_depth=20, bootstrap=True, total=  30.2s\n",
      "[CV] n_estimators=1200, min_samples_split=2, max_depth=30, bootstrap=True \n",
      "[CV]  n_estimators=800, min_samples_split=2, max_depth=40, bootstrap=False, total=  40.4s\n",
      "[CV] n_estimators=1200, min_samples_split=2, max_depth=30, bootstrap=True \n",
      "[CV]  n_estimators=800, min_samples_split=2, max_depth=40, bootstrap=False, total=  41.1s\n",
      "[CV] n_estimators=800, min_samples_split=2, max_depth=30, bootstrap=True \n",
      "[CV]  n_estimators=1800, min_samples_split=5, max_depth=70, bootstrap=True, total=  57.5s\n",
      "[CV] n_estimators=800, min_samples_split=2, max_depth=30, bootstrap=True \n",
      "[CV]  n_estimators=1800, min_samples_split=5, max_depth=70, bootstrap=True, total=  57.7s\n",
      "[CV] n_estimators=800, min_samples_split=2, max_depth=30, bootstrap=True \n",
      "[CV]  n_estimators=1800, min_samples_split=5, max_depth=70, bootstrap=True, total= 1.0min\n",
      "[CV] n_estimators=1200, min_samples_split=10, max_depth=50, bootstrap=True \n",
      "[CV]  n_estimators=800, min_samples_split=2, max_depth=40, bootstrap=False, total=  41.3s\n",
      "[CV] n_estimators=1200, min_samples_split=10, max_depth=50, bootstrap=True \n",
      "[CV]  n_estimators=1200, min_samples_split=2, max_depth=30, bootstrap=True, total=  41.1s\n",
      "[CV] n_estimators=1200, min_samples_split=10, max_depth=50, bootstrap=True \n",
      "[CV]  n_estimators=800, min_samples_split=2, max_depth=30, bootstrap=True, total=  28.9s\n",
      "[CV] n_estimators=600, min_samples_split=10, max_depth=100, bootstrap=True \n",
      "[CV]  n_estimators=1200, min_samples_split=2, max_depth=30, bootstrap=True, total=  39.8s\n",
      "[CV] n_estimators=600, min_samples_split=10, max_depth=100, bootstrap=True \n",
      "[CV]  n_estimators=1200, min_samples_split=2, max_depth=30, bootstrap=True, total=  41.3s\n",
      "[CV] n_estimators=600, min_samples_split=10, max_depth=100, bootstrap=True \n",
      "[CV]  n_estimators=800, min_samples_split=2, max_depth=30, bootstrap=True, total=  27.9s\n",
      "[CV] n_estimators=200, min_samples_split=2, max_depth=20, bootstrap=False \n",
      "[CV]  n_estimators=800, min_samples_split=2, max_depth=30, bootstrap=True, total=  27.9s\n",
      "[CV] n_estimators=200, min_samples_split=2, max_depth=20, bootstrap=False \n",
      "[CV]  n_estimators=600, min_samples_split=10, max_depth=100, bootstrap=True, total=  19.8s\n",
      "[CV] n_estimators=200, min_samples_split=2, max_depth=20, bootstrap=False \n",
      "[CV]  n_estimators=600, min_samples_split=10, max_depth=100, bootstrap=True, total=  20.8s\n",
      "[CV] n_estimators=1400, min_samples_split=5, max_depth=None, bootstrap=False \n",
      "[CV]  n_estimators=200, min_samples_split=2, max_depth=20, bootstrap=False, total=  10.9s\n",
      "[CV]  n_estimators=200, min_samples_split=2, max_depth=20, bootstrap=False, total=  11.1s\n",
      "[CV] n_estimators=1400, min_samples_split=5, max_depth=None, bootstrap=False \n",
      "[CV] n_estimators=1400, min_samples_split=5, max_depth=None, bootstrap=False \n"
     ]
    },
    {
     "name": "stderr",
     "output_type": "stream",
     "text": [
      "[Parallel(n_jobs=-1)]: Done  25 tasks      | elapsed:  1.8min\n"
     ]
    },
    {
     "name": "stdout",
     "output_type": "stream",
     "text": [
      "[CV]  n_estimators=200, min_samples_split=2, max_depth=20, bootstrap=False, total=  11.0s\n",
      "[CV] n_estimators=1800, min_samples_split=10, max_depth=30, bootstrap=False \n",
      "[CV]  n_estimators=1200, min_samples_split=10, max_depth=50, bootstrap=True, total=  42.1s\n",
      "[CV] n_estimators=1800, min_samples_split=10, max_depth=30, bootstrap=False \n",
      "[CV]  n_estimators=600, min_samples_split=10, max_depth=100, bootstrap=True, total=  21.0s\n",
      "[CV] n_estimators=1800, min_samples_split=10, max_depth=30, bootstrap=False \n",
      "[CV]  n_estimators=1200, min_samples_split=10, max_depth=50, bootstrap=True, total=  40.6s\n",
      "[CV] n_estimators=2000, min_samples_split=2, max_depth=20, bootstrap=True \n",
      "[CV]  n_estimators=1200, min_samples_split=10, max_depth=50, bootstrap=True, total=  40.6s\n",
      "[CV] n_estimators=2000, min_samples_split=2, max_depth=20, bootstrap=True \n",
      "[CV]  n_estimators=1400, min_samples_split=5, max_depth=None, bootstrap=False, total= 1.2min\n",
      "[CV] n_estimators=2000, min_samples_split=2, max_depth=20, bootstrap=True \n",
      "[CV]  n_estimators=1400, min_samples_split=5, max_depth=None, bootstrap=False, total= 1.1min\n",
      "[CV] n_estimators=400, min_samples_split=5, max_depth=40, bootstrap=True \n",
      "[CV]  n_estimators=1400, min_samples_split=5, max_depth=None, bootstrap=False, total= 1.2min\n",
      "[CV] n_estimators=400, min_samples_split=5, max_depth=40, bootstrap=True \n",
      "[CV]  n_estimators=2000, min_samples_split=2, max_depth=20, bootstrap=True, total= 1.0min\n",
      "[CV] n_estimators=400, min_samples_split=5, max_depth=40, bootstrap=True \n",
      "[CV]  n_estimators=2000, min_samples_split=2, max_depth=20, bootstrap=True, total= 1.0min\n",
      "[CV] n_estimators=200, min_samples_split=5, max_depth=30, bootstrap=False \n",
      "[CV]  n_estimators=400, min_samples_split=5, max_depth=40, bootstrap=True, total=  11.6s\n",
      "[CV] n_estimators=200, min_samples_split=5, max_depth=30, bootstrap=False \n",
      "[CV]  n_estimators=200, min_samples_split=5, max_depth=30, bootstrap=False, total=   8.8s\n",
      "[CV] n_estimators=200, min_samples_split=5, max_depth=30, bootstrap=False \n",
      "[CV]  n_estimators=400, min_samples_split=5, max_depth=40, bootstrap=True, total=  11.2s\n",
      "[CV] n_estimators=1800, min_samples_split=10, max_depth=110, bootstrap=True \n",
      "[CV]  n_estimators=400, min_samples_split=5, max_depth=40, bootstrap=True, total=  11.1s\n",
      "[CV] n_estimators=1800, min_samples_split=10, max_depth=110, bootstrap=True \n",
      "[CV]  n_estimators=1800, min_samples_split=10, max_depth=30, bootstrap=False, total= 1.4min\n",
      "[CV] n_estimators=1800, min_samples_split=10, max_depth=110, bootstrap=True \n",
      "[CV]  n_estimators=1800, min_samples_split=10, max_depth=30, bootstrap=False, total= 1.4min\n",
      "[CV] n_estimators=1400, min_samples_split=10, max_depth=30, bootstrap=True \n",
      "[CV]  n_estimators=200, min_samples_split=5, max_depth=30, bootstrap=False, total=   8.4s\n",
      "[CV] n_estimators=1400, min_samples_split=10, max_depth=30, bootstrap=True \n",
      "[CV]  n_estimators=1800, min_samples_split=10, max_depth=30, bootstrap=False, total= 1.4min\n",
      "[CV] n_estimators=1400, min_samples_split=10, max_depth=30, bootstrap=True \n",
      "[CV]  n_estimators=200, min_samples_split=5, max_depth=30, bootstrap=False, total=   8.5s\n",
      "[CV] n_estimators=1600, min_samples_split=10, max_depth=90, bootstrap=False \n",
      "[CV]  n_estimators=2000, min_samples_split=2, max_depth=20, bootstrap=True, total=  54.0s\n",
      "[CV] n_estimators=1600, min_samples_split=10, max_depth=90, bootstrap=False \n",
      "[CV]  n_estimators=1400, min_samples_split=10, max_depth=30, bootstrap=True, total=  36.2s\n",
      "[CV] n_estimators=1600, min_samples_split=10, max_depth=90, bootstrap=False \n",
      "[CV]  n_estimators=1400, min_samples_split=10, max_depth=30, bootstrap=True, total=  36.2s\n",
      "[CV] n_estimators=2000, min_samples_split=5, max_depth=90, bootstrap=True \n",
      "[CV]  n_estimators=1400, min_samples_split=10, max_depth=30, bootstrap=True, total=  37.7s\n",
      "[CV] n_estimators=2000, min_samples_split=5, max_depth=90, bootstrap=True \n",
      "[CV]  n_estimators=1800, min_samples_split=10, max_depth=110, bootstrap=True, total=  46.4s\n",
      "[CV] n_estimators=2000, min_samples_split=5, max_depth=90, bootstrap=True \n",
      "[CV]  n_estimators=1800, min_samples_split=10, max_depth=110, bootstrap=True, total=  48.4s\n",
      "[CV] n_estimators=800, min_samples_split=2, max_depth=80, bootstrap=True \n",
      "[CV]  n_estimators=1800, min_samples_split=10, max_depth=110, bootstrap=True, total=  46.5s\n",
      "[CV] n_estimators=800, min_samples_split=2, max_depth=80, bootstrap=True \n",
      "[CV]  n_estimators=800, min_samples_split=2, max_depth=80, bootstrap=True, total=  22.2s\n",
      "[CV] n_estimators=800, min_samples_split=2, max_depth=80, bootstrap=True \n",
      "[CV]  n_estimators=1600, min_samples_split=10, max_depth=90, bootstrap=False, total= 1.1min\n",
      "[CV] n_estimators=1400, min_samples_split=10, max_depth=30, bootstrap=False \n",
      "[CV]  n_estimators=800, min_samples_split=2, max_depth=80, bootstrap=True, total=  20.8s\n",
      "[CV] n_estimators=1400, min_samples_split=10, max_depth=30, bootstrap=False \n",
      "[CV]  n_estimators=800, min_samples_split=2, max_depth=80, bootstrap=True, total=  22.7s\n",
      "[CV] n_estimators=1400, min_samples_split=10, max_depth=30, bootstrap=False \n",
      "[CV]  n_estimators=2000, min_samples_split=5, max_depth=90, bootstrap=True, total=  52.9s\n",
      "[CV] n_estimators=1600, min_samples_split=2, max_depth=10, bootstrap=False \n",
      "[CV]  n_estimators=2000, min_samples_split=5, max_depth=90, bootstrap=True, total=  55.4s\n",
      "[CV] n_estimators=1600, min_samples_split=2, max_depth=10, bootstrap=False \n",
      "[CV]  n_estimators=1600, min_samples_split=10, max_depth=90, bootstrap=False, total= 1.1min\n",
      "[CV] n_estimators=1600, min_samples_split=2, max_depth=10, bootstrap=False \n",
      "[CV]  n_estimators=2000, min_samples_split=5, max_depth=90, bootstrap=True, total=  54.6s\n",
      "[CV] n_estimators=800, min_samples_split=2, max_depth=20, bootstrap=True \n",
      "[CV]  n_estimators=1600, min_samples_split=10, max_depth=90, bootstrap=False, total= 1.1min\n",
      "[CV] n_estimators=800, min_samples_split=2, max_depth=20, bootstrap=True \n",
      "[CV]  n_estimators=800, min_samples_split=2, max_depth=20, bootstrap=True, total=  24.0s\n",
      "[CV] n_estimators=800, min_samples_split=2, max_depth=20, bootstrap=True \n",
      "[CV]  n_estimators=800, min_samples_split=2, max_depth=20, bootstrap=True, total=  22.6s\n",
      "[CV] n_estimators=1400, min_samples_split=10, max_depth=110, bootstrap=False \n",
      "[CV]  n_estimators=1400, min_samples_split=10, max_depth=30, bootstrap=False, total= 1.0min\n",
      "[CV] n_estimators=1400, min_samples_split=10, max_depth=110, bootstrap=False \n",
      "[CV]  n_estimators=1400, min_samples_split=10, max_depth=30, bootstrap=False, total= 1.0min\n",
      "[CV] n_estimators=1400, min_samples_split=10, max_depth=110, bootstrap=False \n",
      "[CV]  n_estimators=1600, min_samples_split=2, max_depth=10, bootstrap=False, total=  46.3s\n",
      "[CV] n_estimators=1800, min_samples_split=10, max_depth=40, bootstrap=False \n",
      "[CV]  n_estimators=1600, min_samples_split=2, max_depth=10, bootstrap=False, total=  44.5s\n",
      "[CV] n_estimators=1800, min_samples_split=10, max_depth=40, bootstrap=False \n",
      "[CV]  n_estimators=1600, min_samples_split=2, max_depth=10, bootstrap=False, total=  43.9s\n",
      "[CV] n_estimators=1800, min_samples_split=10, max_depth=40, bootstrap=False \n",
      "[CV]  n_estimators=800, min_samples_split=2, max_depth=20, bootstrap=True, total=  21.6s\n",
      "[CV] n_estimators=800, min_samples_split=10, max_depth=110, bootstrap=True \n",
      "[CV]  n_estimators=1400, min_samples_split=10, max_depth=30, bootstrap=False, total= 1.0min\n",
      "[CV] n_estimators=800, min_samples_split=10, max_depth=110, bootstrap=True \n",
      "[CV]  n_estimators=800, min_samples_split=10, max_depth=110, bootstrap=True, total=  23.0s\n",
      "[CV] n_estimators=800, min_samples_split=10, max_depth=110, bootstrap=True \n",
      "[CV]  n_estimators=800, min_samples_split=10, max_depth=110, bootstrap=True, total=  22.5s\n",
      "[CV] n_estimators=1000, min_samples_split=5, max_depth=90, bootstrap=True \n",
      "[CV]  n_estimators=1400, min_samples_split=10, max_depth=110, bootstrap=False, total=  59.7s\n",
      "[CV] n_estimators=1000, min_samples_split=5, max_depth=90, bootstrap=True \n",
      "[CV]  n_estimators=1400, min_samples_split=10, max_depth=110, bootstrap=False, total= 1.0min\n",
      "[CV] n_estimators=1000, min_samples_split=5, max_depth=90, bootstrap=True \n",
      "[CV]  n_estimators=1400, min_samples_split=10, max_depth=110, bootstrap=False, total= 1.0min\n",
      "[CV] n_estimators=200, min_samples_split=2, max_depth=80, bootstrap=True \n",
      "[CV]  n_estimators=800, min_samples_split=10, max_depth=110, bootstrap=True, total=  23.1s\n"
     ]
    },
    {
     "name": "stdout",
     "output_type": "stream",
     "text": [
      "[CV] n_estimators=200, min_samples_split=2, max_depth=80, bootstrap=True \n",
      "[CV]  n_estimators=200, min_samples_split=2, max_depth=80, bootstrap=True, total=   6.5s\n",
      "[CV] n_estimators=200, min_samples_split=2, max_depth=80, bootstrap=True \n",
      "[CV]  n_estimators=200, min_samples_split=2, max_depth=80, bootstrap=True, total=   6.6s\n",
      "[CV] n_estimators=200, min_samples_split=2, max_depth=50, bootstrap=True \n",
      "[CV]  n_estimators=200, min_samples_split=2, max_depth=80, bootstrap=True, total=   8.1s\n",
      "[CV] n_estimators=200, min_samples_split=2, max_depth=50, bootstrap=True \n",
      "[CV]  n_estimators=200, min_samples_split=2, max_depth=50, bootstrap=True, total=   8.2s\n",
      "[CV] n_estimators=200, min_samples_split=2, max_depth=50, bootstrap=True \n",
      "[CV]  n_estimators=1000, min_samples_split=5, max_depth=90, bootstrap=True, total=  32.6s\n",
      "[CV] n_estimators=800, min_samples_split=5, max_depth=50, bootstrap=True \n",
      "[CV]  n_estimators=200, min_samples_split=2, max_depth=50, bootstrap=True, total=   5.5s\n",
      "[CV] n_estimators=800, min_samples_split=5, max_depth=50, bootstrap=True \n",
      "[CV]  n_estimators=200, min_samples_split=2, max_depth=50, bootstrap=True, total=   5.6s\n",
      "[CV] n_estimators=800, min_samples_split=5, max_depth=50, bootstrap=True \n",
      "[CV]  n_estimators=1800, min_samples_split=10, max_depth=40, bootstrap=False, total= 1.3min\n",
      "[CV] n_estimators=1600, min_samples_split=10, max_depth=20, bootstrap=False \n",
      "[CV]  n_estimators=1800, min_samples_split=10, max_depth=40, bootstrap=False, total= 1.4min\n",
      "[CV] n_estimators=1600, min_samples_split=10, max_depth=20, bootstrap=False \n",
      "[CV]  n_estimators=1000, min_samples_split=5, max_depth=90, bootstrap=True, total=  30.6s\n",
      "[CV] n_estimators=1600, min_samples_split=10, max_depth=20, bootstrap=False \n",
      "[CV]  n_estimators=1000, min_samples_split=5, max_depth=90, bootstrap=True, total=  30.3s\n",
      "[CV] n_estimators=800, min_samples_split=2, max_depth=10, bootstrap=False \n",
      "[CV]  n_estimators=1800, min_samples_split=10, max_depth=40, bootstrap=False, total= 1.3min\n",
      "[CV] n_estimators=800, min_samples_split=2, max_depth=10, bootstrap=False \n",
      "[CV]  n_estimators=800, min_samples_split=5, max_depth=50, bootstrap=True, total=  22.2s\n",
      "[CV] n_estimators=800, min_samples_split=2, max_depth=10, bootstrap=False \n",
      "[CV]  n_estimators=800, min_samples_split=5, max_depth=50, bootstrap=True, total=  21.2s\n",
      "[CV] n_estimators=1400, min_samples_split=2, max_depth=None, bootstrap=True \n",
      "[CV]  n_estimators=800, min_samples_split=5, max_depth=50, bootstrap=True, total=  21.2s\n",
      "[CV] n_estimators=1400, min_samples_split=2, max_depth=None, bootstrap=True \n",
      "[CV]  n_estimators=800, min_samples_split=2, max_depth=10, bootstrap=False, total=  19.8s\n",
      "[CV] n_estimators=1400, min_samples_split=2, max_depth=None, bootstrap=True \n",
      "[CV]  n_estimators=800, min_samples_split=2, max_depth=10, bootstrap=False, total=  20.4s\n",
      "[CV] n_estimators=1200, min_samples_split=5, max_depth=10, bootstrap=False \n",
      "[CV]  n_estimators=800, min_samples_split=2, max_depth=10, bootstrap=False, total=  19.5s\n",
      "[CV] n_estimators=1200, min_samples_split=5, max_depth=10, bootstrap=False \n",
      "[CV]  n_estimators=1200, min_samples_split=5, max_depth=10, bootstrap=False, total=  29.6s\n",
      "[CV] n_estimators=1200, min_samples_split=5, max_depth=10, bootstrap=False \n",
      "[CV]  n_estimators=1400, min_samples_split=2, max_depth=None, bootstrap=True, total=  36.5s\n",
      "[CV] n_estimators=400, min_samples_split=2, max_depth=80, bootstrap=False \n",
      "[CV]  n_estimators=1400, min_samples_split=2, max_depth=None, bootstrap=True, total=  38.0s\n",
      "[CV] n_estimators=400, min_samples_split=2, max_depth=80, bootstrap=False \n",
      "[CV]  n_estimators=1200, min_samples_split=5, max_depth=10, bootstrap=False, total=  28.4s\n",
      "[CV] n_estimators=400, min_samples_split=2, max_depth=80, bootstrap=False \n",
      "[CV]  n_estimators=1400, min_samples_split=2, max_depth=None, bootstrap=True, total=  36.4s\n",
      "[CV] n_estimators=1400, min_samples_split=2, max_depth=100, bootstrap=False \n",
      "[CV]  n_estimators=1600, min_samples_split=10, max_depth=20, bootstrap=False, total=  58.2s\n",
      "[CV] n_estimators=1400, min_samples_split=2, max_depth=100, bootstrap=False \n",
      "[CV]  n_estimators=1600, min_samples_split=10, max_depth=20, bootstrap=False, total=  59.6s\n",
      "[CV] n_estimators=1400, min_samples_split=2, max_depth=100, bootstrap=False \n",
      "[CV]  n_estimators=1600, min_samples_split=10, max_depth=20, bootstrap=False, total=  59.5s\n",
      "[CV] n_estimators=1400, min_samples_split=10, max_depth=None, bootstrap=False \n",
      "[CV]  n_estimators=400, min_samples_split=2, max_depth=80, bootstrap=False, total=  17.8s\n",
      "[CV] n_estimators=1400, min_samples_split=10, max_depth=None, bootstrap=False \n",
      "[CV]  n_estimators=400, min_samples_split=2, max_depth=80, bootstrap=False, total=  17.6s\n",
      "[CV] n_estimators=1400, min_samples_split=10, max_depth=None, bootstrap=False \n",
      "[CV]  n_estimators=400, min_samples_split=2, max_depth=80, bootstrap=False, total=  18.1s\n",
      "[CV] n_estimators=2000, min_samples_split=10, max_depth=70, bootstrap=False \n",
      "[CV]  n_estimators=1200, min_samples_split=5, max_depth=10, bootstrap=False, total=  30.3s\n",
      "[CV] n_estimators=2000, min_samples_split=10, max_depth=70, bootstrap=False \n",
      "[CV]  n_estimators=1400, min_samples_split=10, max_depth=None, bootstrap=False, total=  58.1s\n",
      "[CV] n_estimators=2000, min_samples_split=10, max_depth=70, bootstrap=False \n",
      "[CV]  n_estimators=1400, min_samples_split=2, max_depth=100, bootstrap=False, total= 1.0min\n",
      "[CV] n_estimators=800, min_samples_split=5, max_depth=80, bootstrap=False \n",
      "[CV]  n_estimators=1400, min_samples_split=2, max_depth=100, bootstrap=False, total= 1.0min\n",
      "[CV] n_estimators=800, min_samples_split=5, max_depth=80, bootstrap=False \n",
      "[CV]  n_estimators=1400, min_samples_split=2, max_depth=100, bootstrap=False, total= 1.0min\n",
      "[CV] n_estimators=800, min_samples_split=5, max_depth=80, bootstrap=False \n",
      "[CV]  n_estimators=1400, min_samples_split=10, max_depth=None, bootstrap=False, total=  56.7s\n",
      "[CV] n_estimators=800, min_samples_split=5, max_depth=50, bootstrap=False \n",
      "[CV]  n_estimators=1400, min_samples_split=10, max_depth=None, bootstrap=False, total=  57.8s\n",
      "[CV] n_estimators=800, min_samples_split=5, max_depth=50, bootstrap=False \n",
      "[CV]  n_estimators=800, min_samples_split=5, max_depth=80, bootstrap=False, total=  35.5s\n",
      "[CV] n_estimators=800, min_samples_split=5, max_depth=50, bootstrap=False \n",
      "[CV]  n_estimators=800, min_samples_split=5, max_depth=80, bootstrap=False, total=  35.9s\n",
      "[CV] n_estimators=200, min_samples_split=2, max_depth=110, bootstrap=True \n",
      "[CV]  n_estimators=800, min_samples_split=5, max_depth=80, bootstrap=False, total=  36.3s\n",
      "[CV] n_estimators=200, min_samples_split=2, max_depth=110, bootstrap=True \n",
      "[CV]  n_estimators=2000, min_samples_split=10, max_depth=70, bootstrap=False, total= 1.4min\n",
      "[CV] n_estimators=200, min_samples_split=2, max_depth=110, bootstrap=True \n",
      "[CV]  n_estimators=800, min_samples_split=5, max_depth=50, bootstrap=False, total=  36.6s\n",
      "[CV] n_estimators=1200, min_samples_split=5, max_depth=50, bootstrap=True \n",
      "[CV]  n_estimators=200, min_samples_split=2, max_depth=110, bootstrap=True, total=   6.9s\n",
      "[CV] n_estimators=1200, min_samples_split=5, max_depth=50, bootstrap=True \n",
      "[CV]  n_estimators=800, min_samples_split=5, max_depth=50, bootstrap=False, total=  35.7s\n",
      "[CV] n_estimators=1200, min_samples_split=5, max_depth=50, bootstrap=True \n",
      "[CV]  n_estimators=200, min_samples_split=2, max_depth=110, bootstrap=True, total=   6.1s\n",
      "[CV] n_estimators=2000, min_samples_split=5, max_depth=20, bootstrap=True \n",
      "[CV]  n_estimators=2000, min_samples_split=10, max_depth=70, bootstrap=False, total= 1.4min\n",
      "[CV] n_estimators=2000, min_samples_split=5, max_depth=20, bootstrap=True \n",
      "[CV]  n_estimators=200, min_samples_split=2, max_depth=110, bootstrap=True, total=   6.2s\n",
      "[CV] n_estimators=2000, min_samples_split=5, max_depth=20, bootstrap=True \n",
      "[CV]  n_estimators=800, min_samples_split=5, max_depth=50, bootstrap=False, total=  38.3s\n",
      "[CV] n_estimators=600, min_samples_split=10, max_depth=None, bootstrap=False \n",
      "[CV]  n_estimators=1200, min_samples_split=5, max_depth=50, bootstrap=True, total=  35.7s\n",
      "[CV] n_estimators=600, min_samples_split=10, max_depth=None, bootstrap=False \n",
      "[CV]  n_estimators=1200, min_samples_split=5, max_depth=50, bootstrap=True, total=  35.6s\n",
      "[CV] n_estimators=600, min_samples_split=10, max_depth=None, bootstrap=False \n"
     ]
    },
    {
     "name": "stdout",
     "output_type": "stream",
     "text": [
      "[CV]  n_estimators=1200, min_samples_split=5, max_depth=50, bootstrap=True, total=  37.0s\n",
      "[CV] n_estimators=1400, min_samples_split=10, max_depth=20, bootstrap=False \n",
      "[CV]  n_estimators=2000, min_samples_split=10, max_depth=70, bootstrap=False, total= 1.5min\n",
      "[CV] n_estimators=1400, min_samples_split=10, max_depth=20, bootstrap=False \n",
      "[CV]  n_estimators=600, min_samples_split=10, max_depth=None, bootstrap=False, total=  24.8s\n",
      "[CV] n_estimators=1400, min_samples_split=10, max_depth=20, bootstrap=False \n",
      "[CV]  n_estimators=2000, min_samples_split=5, max_depth=20, bootstrap=True, total=  54.4s\n",
      "[CV] n_estimators=600, min_samples_split=5, max_depth=30, bootstrap=True \n",
      "[CV]  n_estimators=2000, min_samples_split=5, max_depth=20, bootstrap=True, total=  56.8s\n",
      "[CV] n_estimators=600, min_samples_split=5, max_depth=30, bootstrap=True \n",
      "[CV]  n_estimators=2000, min_samples_split=5, max_depth=20, bootstrap=True, total=  53.8s\n",
      "[CV] n_estimators=600, min_samples_split=5, max_depth=30, bootstrap=True \n",
      "[CV]  n_estimators=600, min_samples_split=10, max_depth=None, bootstrap=False, total=  24.7s\n",
      "[CV] n_estimators=600, min_samples_split=5, max_depth=None, bootstrap=True \n",
      "[CV]  n_estimators=600, min_samples_split=10, max_depth=None, bootstrap=False, total=  25.2s\n",
      "[CV] n_estimators=600, min_samples_split=5, max_depth=None, bootstrap=True \n",
      "[CV]  n_estimators=600, min_samples_split=5, max_depth=30, bootstrap=True, total=  17.3s\n",
      "[CV] n_estimators=600, min_samples_split=5, max_depth=None, bootstrap=True \n",
      "[CV]  n_estimators=600, min_samples_split=5, max_depth=30, bootstrap=True, total=  16.7s\n",
      "[CV] n_estimators=1600, min_samples_split=10, max_depth=80, bootstrap=False \n",
      "[CV]  n_estimators=600, min_samples_split=5, max_depth=30, bootstrap=True, total=  16.8s\n",
      "[CV] n_estimators=1600, min_samples_split=10, max_depth=80, bootstrap=False \n",
      "[CV]  n_estimators=600, min_samples_split=5, max_depth=None, bootstrap=True, total=  17.1s\n",
      "[CV] n_estimators=1600, min_samples_split=10, max_depth=80, bootstrap=False \n",
      "[CV]  n_estimators=600, min_samples_split=5, max_depth=None, bootstrap=True, total=  16.6s\n",
      "[CV] n_estimators=400, min_samples_split=10, max_depth=100, bootstrap=False \n",
      "[CV]  n_estimators=600, min_samples_split=5, max_depth=None, bootstrap=True, total=  15.2s\n",
      "[CV] n_estimators=400, min_samples_split=10, max_depth=100, bootstrap=False \n",
      "[CV]  n_estimators=1400, min_samples_split=10, max_depth=20, bootstrap=False, total=  55.0s\n",
      "[CV] n_estimators=400, min_samples_split=10, max_depth=100, bootstrap=False \n",
      "[CV]  n_estimators=400, min_samples_split=10, max_depth=100, bootstrap=False, total=  15.6s\n",
      "[CV] n_estimators=1600, min_samples_split=5, max_depth=30, bootstrap=True \n",
      "[CV]  n_estimators=1400, min_samples_split=10, max_depth=20, bootstrap=False, total=  54.2s\n",
      "[CV] n_estimators=1600, min_samples_split=5, max_depth=30, bootstrap=True \n",
      "[CV]  n_estimators=400, min_samples_split=10, max_depth=100, bootstrap=False, total=  16.3s\n",
      "[CV] n_estimators=1600, min_samples_split=5, max_depth=30, bootstrap=True \n",
      "[CV]  n_estimators=400, min_samples_split=10, max_depth=100, bootstrap=False, total=  16.6s\n",
      "[CV] n_estimators=600, min_samples_split=5, max_depth=60, bootstrap=False \n",
      "[CV]  n_estimators=1400, min_samples_split=10, max_depth=20, bootstrap=False, total=  55.5s\n",
      "[CV] n_estimators=600, min_samples_split=5, max_depth=60, bootstrap=False \n",
      "[CV]  n_estimators=600, min_samples_split=5, max_depth=60, bootstrap=False, total=  27.7s\n",
      "[CV] n_estimators=600, min_samples_split=5, max_depth=60, bootstrap=False \n",
      "[CV]  n_estimators=600, min_samples_split=5, max_depth=60, bootstrap=False, total=  26.6s\n",
      "[CV] n_estimators=600, min_samples_split=5, max_depth=110, bootstrap=False \n"
     ]
    },
    {
     "name": "stderr",
     "output_type": "stream",
     "text": [
      "[Parallel(n_jobs=-1)]: Done 146 tasks      | elapsed: 12.1min\n"
     ]
    },
    {
     "name": "stdout",
     "output_type": "stream",
     "text": [
      "[CV]  n_estimators=1600, min_samples_split=5, max_depth=30, bootstrap=True, total=  47.6s\n",
      "[CV] n_estimators=600, min_samples_split=5, max_depth=110, bootstrap=False \n",
      "[CV]  n_estimators=1600, min_samples_split=10, max_depth=80, bootstrap=False, total= 1.1min\n",
      "[CV] n_estimators=600, min_samples_split=5, max_depth=110, bootstrap=False \n",
      "[CV]  n_estimators=1600, min_samples_split=10, max_depth=80, bootstrap=False, total= 1.1min\n",
      "[CV] n_estimators=1600, min_samples_split=5, max_depth=30, bootstrap=False \n",
      "[CV]  n_estimators=1600, min_samples_split=5, max_depth=30, bootstrap=True, total=  45.7s\n",
      "[CV] n_estimators=1600, min_samples_split=5, max_depth=30, bootstrap=False \n",
      "[CV]  n_estimators=1600, min_samples_split=10, max_depth=80, bootstrap=False, total= 1.1min\n",
      "[CV] n_estimators=1600, min_samples_split=5, max_depth=30, bootstrap=False \n",
      "[CV]  n_estimators=1600, min_samples_split=5, max_depth=30, bootstrap=True, total=  46.9s\n",
      "[CV] n_estimators=400, min_samples_split=10, max_depth=80, bootstrap=False \n",
      "[CV]  n_estimators=600, min_samples_split=5, max_depth=60, bootstrap=False, total=  26.6s\n",
      "[CV] n_estimators=400, min_samples_split=10, max_depth=80, bootstrap=False \n",
      "[CV]  n_estimators=600, min_samples_split=5, max_depth=110, bootstrap=False, total=  26.8s\n",
      "[CV] n_estimators=400, min_samples_split=10, max_depth=80, bootstrap=False \n",
      "[CV]  n_estimators=600, min_samples_split=5, max_depth=110, bootstrap=False, total=  26.1s\n",
      "[CV] n_estimators=400, min_samples_split=5, max_depth=50, bootstrap=True \n",
      "[CV]  n_estimators=600, min_samples_split=5, max_depth=110, bootstrap=False, total=  26.7s\n",
      "[CV] n_estimators=400, min_samples_split=5, max_depth=50, bootstrap=True \n",
      "[CV]  n_estimators=400, min_samples_split=10, max_depth=80, bootstrap=False, total=  16.7s\n",
      "[CV] n_estimators=400, min_samples_split=5, max_depth=50, bootstrap=True \n",
      "[CV]  n_estimators=400, min_samples_split=10, max_depth=80, bootstrap=False, total=  16.5s\n",
      "[CV] n_estimators=600, min_samples_split=10, max_depth=None, bootstrap=True \n",
      "[CV]  n_estimators=400, min_samples_split=5, max_depth=50, bootstrap=True, total=  11.7s\n",
      "[CV] n_estimators=600, min_samples_split=10, max_depth=None, bootstrap=True \n",
      "[CV]  n_estimators=400, min_samples_split=5, max_depth=50, bootstrap=True, total=  11.1s\n",
      "[CV] n_estimators=600, min_samples_split=10, max_depth=None, bootstrap=True \n",
      "[CV]  n_estimators=400, min_samples_split=10, max_depth=80, bootstrap=False, total=  17.0s\n",
      "[CV] n_estimators=400, min_samples_split=2, max_depth=80, bootstrap=True \n",
      "[CV]  n_estimators=400, min_samples_split=5, max_depth=50, bootstrap=True, total=  11.2s\n",
      "[CV] n_estimators=400, min_samples_split=2, max_depth=80, bootstrap=True \n",
      "[CV]  n_estimators=400, min_samples_split=2, max_depth=80, bootstrap=True, total=  10.9s\n",
      "[CV] n_estimators=400, min_samples_split=2, max_depth=80, bootstrap=True \n",
      "[CV]  n_estimators=400, min_samples_split=2, max_depth=80, bootstrap=True, total=  10.4s\n",
      "[CV] n_estimators=1200, min_samples_split=2, max_depth=80, bootstrap=True \n",
      "[CV]  n_estimators=600, min_samples_split=10, max_depth=None, bootstrap=True, total=  15.9s\n",
      "[CV] n_estimators=1200, min_samples_split=2, max_depth=80, bootstrap=True \n",
      "[CV]  n_estimators=600, min_samples_split=10, max_depth=None, bootstrap=True, total=  15.1s\n",
      "[CV] n_estimators=1200, min_samples_split=2, max_depth=80, bootstrap=True \n",
      "[CV]  n_estimators=600, min_samples_split=10, max_depth=None, bootstrap=True, total=  14.9s\n",
      "[CV] n_estimators=1000, min_samples_split=10, max_depth=30, bootstrap=True \n",
      "[CV]  n_estimators=400, min_samples_split=2, max_depth=80, bootstrap=True, total=  12.9s\n",
      "[CV] n_estimators=1000, min_samples_split=10, max_depth=30, bootstrap=True \n",
      "[CV]  n_estimators=1600, min_samples_split=5, max_depth=30, bootstrap=False, total= 1.2min\n",
      "[CV] n_estimators=1000, min_samples_split=10, max_depth=30, bootstrap=True \n",
      "[CV]  n_estimators=1600, min_samples_split=5, max_depth=30, bootstrap=False, total= 1.2min\n",
      "[CV] n_estimators=2000, min_samples_split=10, max_depth=110, bootstrap=True \n",
      "[CV]  n_estimators=1600, min_samples_split=5, max_depth=30, bootstrap=False, total= 1.2min\n",
      "[CV] n_estimators=2000, min_samples_split=10, max_depth=110, bootstrap=True \n",
      "[CV]  n_estimators=1000, min_samples_split=10, max_depth=30, bootstrap=True, total=  36.0s\n",
      "[CV] n_estimators=2000, min_samples_split=10, max_depth=110, bootstrap=True \n",
      "[CV]  n_estimators=1200, min_samples_split=2, max_depth=80, bootstrap=True, total=  43.6s\n",
      "[CV] n_estimators=600, min_samples_split=10, max_depth=60, bootstrap=False \n",
      "[CV]  n_estimators=1200, min_samples_split=2, max_depth=80, bootstrap=True, total=  42.7s\n",
      "[CV] n_estimators=600, min_samples_split=10, max_depth=60, bootstrap=False \n",
      "[CV]  n_estimators=1200, min_samples_split=2, max_depth=80, bootstrap=True, total=  42.4s\n",
      "[CV] n_estimators=600, min_samples_split=10, max_depth=60, bootstrap=False \n",
      "[CV]  n_estimators=1000, min_samples_split=10, max_depth=30, bootstrap=True, total=  33.1s\n",
      "[CV] n_estimators=200, min_samples_split=5, max_depth=10, bootstrap=True \n",
      "[CV]  n_estimators=200, min_samples_split=5, max_depth=10, bootstrap=True, total=   3.6s\n",
      "[CV] n_estimators=200, min_samples_split=5, max_depth=10, bootstrap=True \n",
      "[CV]  n_estimators=200, min_samples_split=5, max_depth=10, bootstrap=True, total=   3.7s\n",
      "[CV] n_estimators=200, min_samples_split=5, max_depth=10, bootstrap=True \n",
      "[CV]  n_estimators=1000, min_samples_split=10, max_depth=30, bootstrap=True, total=  32.3s\n",
      "[CV] n_estimators=1800, min_samples_split=5, max_depth=30, bootstrap=True \n",
      "[CV]  n_estimators=200, min_samples_split=5, max_depth=10, bootstrap=True, total=   3.3s\n",
      "[CV] n_estimators=1800, min_samples_split=5, max_depth=30, bootstrap=True \n",
      "[CV]  n_estimators=600, min_samples_split=10, max_depth=60, bootstrap=False, total=  24.9s\n",
      "[CV] n_estimators=1800, min_samples_split=5, max_depth=30, bootstrap=True \n",
      "[CV]  n_estimators=600, min_samples_split=10, max_depth=60, bootstrap=False, total=  24.8s\n",
      "[CV] n_estimators=800, min_samples_split=2, max_depth=20, bootstrap=False \n",
      "[CV]  n_estimators=600, min_samples_split=10, max_depth=60, bootstrap=False, total=  25.0s\n",
      "[CV] n_estimators=800, min_samples_split=2, max_depth=20, bootstrap=False \n",
      "[CV]  n_estimators=2000, min_samples_split=10, max_depth=110, bootstrap=True, total= 1.0min\n",
      "[CV] n_estimators=800, min_samples_split=2, max_depth=20, bootstrap=False \n",
      "[CV]  n_estimators=2000, min_samples_split=10, max_depth=110, bootstrap=True, total=  57.1s\n",
      "[CV] n_estimators=200, min_samples_split=5, max_depth=90, bootstrap=True \n",
      "[CV]  n_estimators=200, min_samples_split=5, max_depth=90, bootstrap=True, total=   5.2s\n",
      "[CV] n_estimators=200, min_samples_split=5, max_depth=90, bootstrap=True \n",
      "[CV]  n_estimators=2000, min_samples_split=10, max_depth=110, bootstrap=True, total=  51.7s\n",
      "[CV] n_estimators=200, min_samples_split=5, max_depth=90, bootstrap=True \n",
      "[CV]  n_estimators=200, min_samples_split=5, max_depth=90, bootstrap=True, total=   5.3s\n",
      "[CV] n_estimators=1600, min_samples_split=2, max_depth=40, bootstrap=True \n",
      "[CV]  n_estimators=200, min_samples_split=5, max_depth=90, bootstrap=True, total=   5.3s\n",
      "[CV] n_estimators=1600, min_samples_split=2, max_depth=40, bootstrap=True \n",
      "[CV]  n_estimators=800, min_samples_split=2, max_depth=20, bootstrap=False, total=  30.7s\n",
      "[CV] n_estimators=1600, min_samples_split=2, max_depth=40, bootstrap=True \n",
      "[CV]  n_estimators=800, min_samples_split=2, max_depth=20, bootstrap=False, total=  31.5s\n",
      "[CV] n_estimators=1000, min_samples_split=10, max_depth=100, bootstrap=False \n",
      "[CV]  n_estimators=1800, min_samples_split=5, max_depth=30, bootstrap=True, total=  49.4s\n",
      "[CV] n_estimators=1000, min_samples_split=10, max_depth=100, bootstrap=False \n",
      "[CV]  n_estimators=1800, min_samples_split=5, max_depth=30, bootstrap=True, total=  47.3s\n",
      "[CV] n_estimators=1000, min_samples_split=10, max_depth=100, bootstrap=False \n",
      "[CV]  n_estimators=800, min_samples_split=2, max_depth=20, bootstrap=False, total=  31.2s\n",
      "[CV] n_estimators=1200, min_samples_split=2, max_depth=60, bootstrap=True \n",
      "[CV]  n_estimators=1800, min_samples_split=5, max_depth=30, bootstrap=True, total=  46.3s\n",
      "[CV] n_estimators=1200, min_samples_split=2, max_depth=60, bootstrap=True \n",
      "[CV]  n_estimators=1600, min_samples_split=2, max_depth=40, bootstrap=True, total=  44.0s\n"
     ]
    },
    {
     "name": "stdout",
     "output_type": "stream",
     "text": [
      "[CV] n_estimators=1200, min_samples_split=2, max_depth=60, bootstrap=True \n",
      "[CV]  n_estimators=1600, min_samples_split=2, max_depth=40, bootstrap=True, total=  42.2s\n",
      "[CV] n_estimators=1600, min_samples_split=5, max_depth=60, bootstrap=False \n",
      "[CV]  n_estimators=1000, min_samples_split=10, max_depth=100, bootstrap=False, total=  39.0s\n",
      "[CV] n_estimators=1600, min_samples_split=5, max_depth=60, bootstrap=False \n",
      "[CV]  n_estimators=1000, min_samples_split=10, max_depth=100, bootstrap=False, total=  38.2s\n",
      "[CV] n_estimators=1600, min_samples_split=5, max_depth=60, bootstrap=False \n",
      "[CV]  n_estimators=1600, min_samples_split=2, max_depth=40, bootstrap=True, total=  42.3s\n",
      "[CV] n_estimators=1400, min_samples_split=10, max_depth=80, bootstrap=False \n",
      "[CV]  n_estimators=1000, min_samples_split=10, max_depth=100, bootstrap=False, total=  38.9s\n",
      "[CV] n_estimators=1400, min_samples_split=10, max_depth=80, bootstrap=False \n",
      "[CV]  n_estimators=1200, min_samples_split=2, max_depth=60, bootstrap=True, total=  33.0s\n",
      "[CV] n_estimators=1400, min_samples_split=10, max_depth=80, bootstrap=False \n",
      "[CV]  n_estimators=1200, min_samples_split=2, max_depth=60, bootstrap=True, total=  31.9s\n",
      "[CV] n_estimators=1800, min_samples_split=2, max_depth=110, bootstrap=False \n",
      "[CV]  n_estimators=1200, min_samples_split=2, max_depth=60, bootstrap=True, total=  31.6s\n",
      "[CV] n_estimators=1800, min_samples_split=2, max_depth=110, bootstrap=False \n",
      "[CV]  n_estimators=1400, min_samples_split=10, max_depth=80, bootstrap=False, total=  53.3s\n",
      "[CV] n_estimators=1800, min_samples_split=2, max_depth=110, bootstrap=False \n",
      "[CV]  n_estimators=1400, min_samples_split=10, max_depth=80, bootstrap=False, total=  54.4s\n",
      "[CV] n_estimators=1800, min_samples_split=5, max_depth=20, bootstrap=False \n",
      "[CV]  n_estimators=1400, min_samples_split=10, max_depth=80, bootstrap=False, total=  54.2s\n",
      "[CV] n_estimators=1800, min_samples_split=5, max_depth=20, bootstrap=False \n",
      "[CV]  n_estimators=1600, min_samples_split=5, max_depth=60, bootstrap=False, total= 1.1min\n",
      "[CV] n_estimators=1800, min_samples_split=5, max_depth=20, bootstrap=False \n",
      "[CV]  n_estimators=1600, min_samples_split=5, max_depth=60, bootstrap=False, total= 1.1min\n",
      "[CV] n_estimators=400, min_samples_split=10, max_depth=30, bootstrap=True \n",
      "[CV]  n_estimators=1600, min_samples_split=5, max_depth=60, bootstrap=False, total= 1.1min\n",
      "[CV] n_estimators=400, min_samples_split=10, max_depth=30, bootstrap=True \n",
      "[CV]  n_estimators=400, min_samples_split=10, max_depth=30, bootstrap=True, total=  10.7s\n",
      "[CV] n_estimators=400, min_samples_split=10, max_depth=30, bootstrap=True \n",
      "[CV]  n_estimators=400, min_samples_split=10, max_depth=30, bootstrap=True, total=  10.6s\n",
      "[CV] n_estimators=600, min_samples_split=10, max_depth=10, bootstrap=False \n",
      "[CV]  n_estimators=1800, min_samples_split=2, max_depth=110, bootstrap=False, total= 1.3min\n",
      "[CV] n_estimators=600, min_samples_split=10, max_depth=10, bootstrap=False \n",
      "[CV]  n_estimators=400, min_samples_split=10, max_depth=30, bootstrap=True, total=  10.9s\n",
      "[CV] n_estimators=600, min_samples_split=10, max_depth=10, bootstrap=False \n",
      "[CV]  n_estimators=600, min_samples_split=10, max_depth=10, bootstrap=False, total=  16.3s\n",
      "[CV] n_estimators=1800, min_samples_split=10, max_depth=50, bootstrap=True \n",
      "[CV]  n_estimators=600, min_samples_split=10, max_depth=10, bootstrap=False, total=  15.7s\n",
      "[CV] n_estimators=1800, min_samples_split=10, max_depth=50, bootstrap=True \n",
      "[CV]  n_estimators=600, min_samples_split=10, max_depth=10, bootstrap=False, total=  15.6s\n",
      "[CV] n_estimators=1800, min_samples_split=10, max_depth=50, bootstrap=True \n",
      "[CV]  n_estimators=1800, min_samples_split=2, max_depth=110, bootstrap=False, total= 1.3min\n",
      "[CV] n_estimators=1400, min_samples_split=10, max_depth=60, bootstrap=False \n",
      "[CV]  n_estimators=1800, min_samples_split=5, max_depth=20, bootstrap=False, total= 1.2min\n",
      "[CV] n_estimators=1400, min_samples_split=10, max_depth=60, bootstrap=False \n",
      "[CV]  n_estimators=1800, min_samples_split=5, max_depth=20, bootstrap=False, total= 1.2min\n",
      "[CV] n_estimators=1400, min_samples_split=10, max_depth=60, bootstrap=False \n",
      "[CV]  n_estimators=1800, min_samples_split=5, max_depth=20, bootstrap=False, total= 1.2min\n",
      "[CV] n_estimators=400, min_samples_split=5, max_depth=80, bootstrap=False \n",
      "[CV]  n_estimators=1800, min_samples_split=2, max_depth=110, bootstrap=False, total= 1.3min\n",
      "[CV] n_estimators=400, min_samples_split=5, max_depth=80, bootstrap=False \n",
      "[CV]  n_estimators=1800, min_samples_split=10, max_depth=50, bootstrap=True, total=  48.5s\n",
      "[CV] n_estimators=400, min_samples_split=5, max_depth=80, bootstrap=False \n",
      "[CV]  n_estimators=1800, min_samples_split=10, max_depth=50, bootstrap=True, total=  46.6s\n",
      "[CV] n_estimators=1000, min_samples_split=5, max_depth=None, bootstrap=True \n",
      "[CV]  n_estimators=1800, min_samples_split=10, max_depth=50, bootstrap=True, total=  46.3s\n",
      "[CV] n_estimators=1000, min_samples_split=5, max_depth=None, bootstrap=True \n",
      "[CV]  n_estimators=400, min_samples_split=5, max_depth=80, bootstrap=False, total=  18.0s\n",
      "[CV] n_estimators=1000, min_samples_split=5, max_depth=None, bootstrap=True \n",
      "[CV]  n_estimators=400, min_samples_split=5, max_depth=80, bootstrap=False, total=  17.9s\n",
      "[CV] n_estimators=1000, min_samples_split=10, max_depth=None, bootstrap=False \n",
      "[CV]  n_estimators=400, min_samples_split=5, max_depth=80, bootstrap=False, total=  21.0s\n",
      "[CV] n_estimators=1000, min_samples_split=10, max_depth=None, bootstrap=False \n",
      "[CV]  n_estimators=1400, min_samples_split=10, max_depth=60, bootstrap=False, total= 1.0min\n",
      "[CV] n_estimators=1000, min_samples_split=10, max_depth=None, bootstrap=False \n",
      "[CV]  n_estimators=1000, min_samples_split=5, max_depth=None, bootstrap=True, total=  35.0s\n",
      "[CV] n_estimators=1800, min_samples_split=2, max_depth=90, bootstrap=True \n",
      "[CV]  n_estimators=1000, min_samples_split=5, max_depth=None, bootstrap=True, total=  33.7s\n",
      "[CV] n_estimators=1800, min_samples_split=2, max_depth=90, bootstrap=True \n",
      "[CV]  n_estimators=1000, min_samples_split=5, max_depth=None, bootstrap=True, total=  33.2s\n",
      "[CV] n_estimators=1800, min_samples_split=2, max_depth=90, bootstrap=True \n",
      "[CV]  n_estimators=1400, min_samples_split=10, max_depth=60, bootstrap=False, total= 1.1min\n",
      "[CV] n_estimators=800, min_samples_split=10, max_depth=60, bootstrap=False \n",
      "[CV]  n_estimators=1400, min_samples_split=10, max_depth=60, bootstrap=False, total= 1.1min\n",
      "[CV] n_estimators=800, min_samples_split=10, max_depth=60, bootstrap=False \n",
      "[CV]  n_estimators=1000, min_samples_split=10, max_depth=None, bootstrap=False, total=  48.2s\n",
      "[CV] n_estimators=800, min_samples_split=10, max_depth=60, bootstrap=False \n",
      "[CV]  n_estimators=1000, min_samples_split=10, max_depth=None, bootstrap=False, total=  45.0s\n",
      "[CV] n_estimators=1400, min_samples_split=2, max_depth=110, bootstrap=True \n",
      "[CV]  n_estimators=1000, min_samples_split=10, max_depth=None, bootstrap=False, total=  44.7s\n",
      "[CV] n_estimators=1400, min_samples_split=2, max_depth=110, bootstrap=True \n",
      "[CV]  n_estimators=800, min_samples_split=10, max_depth=60, bootstrap=False, total=  35.0s\n",
      "[CV] n_estimators=1400, min_samples_split=2, max_depth=110, bootstrap=True \n",
      "[CV]  n_estimators=800, min_samples_split=10, max_depth=60, bootstrap=False, total=  34.4s\n",
      "[CV] n_estimators=600, min_samples_split=5, max_depth=70, bootstrap=True \n",
      "[CV]  n_estimators=1800, min_samples_split=2, max_depth=90, bootstrap=True, total=  55.7s\n",
      "[CV] n_estimators=600, min_samples_split=5, max_depth=70, bootstrap=True \n",
      "[CV]  n_estimators=800, min_samples_split=10, max_depth=60, bootstrap=False, total=  35.8s\n",
      "[CV] n_estimators=600, min_samples_split=5, max_depth=70, bootstrap=True \n",
      "[CV]  n_estimators=1800, min_samples_split=2, max_depth=90, bootstrap=True, total=  57.7s\n",
      "[CV] n_estimators=2000, min_samples_split=10, max_depth=100, bootstrap=True \n",
      "[CV]  n_estimators=1800, min_samples_split=2, max_depth=90, bootstrap=True, total=  55.1s\n",
      "[CV] n_estimators=2000, min_samples_split=10, max_depth=100, bootstrap=True \n",
      "[CV]  n_estimators=600, min_samples_split=5, max_depth=70, bootstrap=True, total=  20.0s\n",
      "[CV] n_estimators=2000, min_samples_split=10, max_depth=100, bootstrap=True \n",
      "[CV]  n_estimators=1400, min_samples_split=2, max_depth=110, bootstrap=True, total=  46.3s\n"
     ]
    },
    {
     "name": "stdout",
     "output_type": "stream",
     "text": [
      "[CV] n_estimators=400, min_samples_split=2, max_depth=20, bootstrap=True \n",
      "[CV]  n_estimators=600, min_samples_split=5, max_depth=70, bootstrap=True, total=  19.3s\n",
      "[CV] n_estimators=400, min_samples_split=2, max_depth=20, bootstrap=True \n",
      "[CV]  n_estimators=600, min_samples_split=5, max_depth=70, bootstrap=True, total=  19.0s\n",
      "[CV] n_estimators=400, min_samples_split=2, max_depth=20, bootstrap=True \n",
      "[CV]  n_estimators=1400, min_samples_split=2, max_depth=110, bootstrap=True, total=  45.3s\n",
      "[CV] n_estimators=800, min_samples_split=10, max_depth=50, bootstrap=False \n",
      "[CV]  n_estimators=400, min_samples_split=2, max_depth=20, bootstrap=True, total=  12.1s\n",
      "[CV] n_estimators=800, min_samples_split=10, max_depth=50, bootstrap=False \n",
      "[CV]  n_estimators=400, min_samples_split=2, max_depth=20, bootstrap=True, total=  11.6s\n",
      "[CV] n_estimators=800, min_samples_split=10, max_depth=50, bootstrap=False \n",
      "[CV]  n_estimators=400, min_samples_split=2, max_depth=20, bootstrap=True, total=  11.6s\n",
      "[CV] n_estimators=2000, min_samples_split=2, max_depth=70, bootstrap=False \n",
      "[CV]  n_estimators=1400, min_samples_split=2, max_depth=110, bootstrap=True, total=  44.3s\n",
      "[CV] n_estimators=2000, min_samples_split=2, max_depth=70, bootstrap=False \n",
      "[CV]  n_estimators=800, min_samples_split=10, max_depth=50, bootstrap=False, total=  34.2s\n",
      "[CV] n_estimators=2000, min_samples_split=2, max_depth=70, bootstrap=False \n",
      "[CV]  n_estimators=2000, min_samples_split=10, max_depth=100, bootstrap=True, total=  58.6s\n",
      "[CV] n_estimators=400, min_samples_split=10, max_depth=80, bootstrap=True \n",
      "[CV]  n_estimators=2000, min_samples_split=10, max_depth=100, bootstrap=True, total=  55.9s\n",
      "[CV] n_estimators=400, min_samples_split=10, max_depth=80, bootstrap=True \n",
      "[CV]  n_estimators=800, min_samples_split=10, max_depth=50, bootstrap=False, total=  32.8s\n",
      "[CV] n_estimators=400, min_samples_split=10, max_depth=80, bootstrap=True \n",
      "[CV]  n_estimators=800, min_samples_split=10, max_depth=50, bootstrap=False, total=  33.9s\n",
      "[CV] n_estimators=1600, min_samples_split=2, max_depth=40, bootstrap=False \n",
      "[CV]  n_estimators=2000, min_samples_split=10, max_depth=100, bootstrap=True, total=  56.3s\n",
      "[CV] n_estimators=1600, min_samples_split=2, max_depth=40, bootstrap=False \n",
      "[CV]  n_estimators=400, min_samples_split=10, max_depth=80, bootstrap=True, total=  13.4s\n",
      "[CV] n_estimators=1600, min_samples_split=2, max_depth=40, bootstrap=False \n",
      "[CV]  n_estimators=400, min_samples_split=10, max_depth=80, bootstrap=True, total=  13.0s\n",
      "[CV] n_estimators=200, min_samples_split=2, max_depth=110, bootstrap=False \n",
      "[CV]  n_estimators=400, min_samples_split=10, max_depth=80, bootstrap=True, total=  13.0s\n",
      "[CV] n_estimators=200, min_samples_split=2, max_depth=110, bootstrap=False \n",
      "[CV]  n_estimators=200, min_samples_split=2, max_depth=110, bootstrap=False, total=   9.1s\n",
      "[CV] n_estimators=200, min_samples_split=2, max_depth=110, bootstrap=False \n",
      "[CV]  n_estimators=200, min_samples_split=2, max_depth=110, bootstrap=False, total=   8.9s\n",
      "[CV] n_estimators=1000, min_samples_split=10, max_depth=80, bootstrap=True \n",
      "[CV]  n_estimators=200, min_samples_split=2, max_depth=110, bootstrap=False, total=   9.0s\n",
      "[CV] n_estimators=1000, min_samples_split=10, max_depth=80, bootstrap=True \n",
      "[CV]  n_estimators=1000, min_samples_split=10, max_depth=80, bootstrap=True, total=  27.7s\n",
      "[CV] n_estimators=1000, min_samples_split=10, max_depth=80, bootstrap=True \n",
      "[CV]  n_estimators=1000, min_samples_split=10, max_depth=80, bootstrap=True, total=  27.3s\n",
      "[CV] n_estimators=1200, min_samples_split=10, max_depth=20, bootstrap=True \n",
      "[CV]  n_estimators=2000, min_samples_split=2, max_depth=70, bootstrap=False, total= 1.6min\n",
      "[CV] n_estimators=1200, min_samples_split=10, max_depth=20, bootstrap=True \n",
      "[CV]  n_estimators=2000, min_samples_split=2, max_depth=70, bootstrap=False, total= 1.5min\n",
      "[CV] n_estimators=1200, min_samples_split=10, max_depth=20, bootstrap=True \n",
      "[CV]  n_estimators=1600, min_samples_split=2, max_depth=40, bootstrap=False, total= 1.2min\n",
      "[CV] n_estimators=2000, min_samples_split=10, max_depth=70, bootstrap=True \n",
      "[CV]  n_estimators=1000, min_samples_split=10, max_depth=80, bootstrap=True, total=  27.5s\n",
      "[CV] n_estimators=2000, min_samples_split=10, max_depth=70, bootstrap=True \n",
      "[CV]  n_estimators=1600, min_samples_split=2, max_depth=40, bootstrap=False, total= 1.2min\n",
      "[CV] n_estimators=2000, min_samples_split=10, max_depth=70, bootstrap=True \n",
      "[CV]  n_estimators=1600, min_samples_split=2, max_depth=40, bootstrap=False, total= 1.2min\n",
      "[CV] n_estimators=1800, min_samples_split=2, max_depth=None, bootstrap=True \n",
      "[CV]  n_estimators=2000, min_samples_split=2, max_depth=70, bootstrap=False, total= 1.5min\n",
      "[CV] n_estimators=1800, min_samples_split=2, max_depth=None, bootstrap=True \n",
      "[CV]  n_estimators=1200, min_samples_split=10, max_depth=20, bootstrap=True, total=  31.1s\n",
      "[CV] n_estimators=1800, min_samples_split=2, max_depth=None, bootstrap=True \n",
      "[CV]  n_estimators=1200, min_samples_split=10, max_depth=20, bootstrap=True, total=  29.7s\n",
      "[CV] n_estimators=1000, min_samples_split=10, max_depth=60, bootstrap=True \n",
      "[CV]  n_estimators=1200, min_samples_split=10, max_depth=20, bootstrap=True, total=  29.9s\n",
      "[CV] n_estimators=1000, min_samples_split=10, max_depth=60, bootstrap=True \n",
      "[CV]  n_estimators=1000, min_samples_split=10, max_depth=60, bootstrap=True, total=  27.8s\n",
      "[CV] n_estimators=1000, min_samples_split=10, max_depth=60, bootstrap=True \n",
      "[CV]  n_estimators=1000, min_samples_split=10, max_depth=60, bootstrap=True, total=  26.7s\n",
      "[CV] n_estimators=200, min_samples_split=10, max_depth=None, bootstrap=True \n",
      "[CV]  n_estimators=200, min_samples_split=10, max_depth=None, bootstrap=True, total=   5.2s\n",
      "[CV] n_estimators=200, min_samples_split=10, max_depth=None, bootstrap=True \n",
      "[CV]  n_estimators=2000, min_samples_split=10, max_depth=70, bootstrap=True, total=  52.0s\n",
      "[CV] n_estimators=200, min_samples_split=10, max_depth=None, bootstrap=True \n",
      "[CV]  n_estimators=2000, min_samples_split=10, max_depth=70, bootstrap=True, total=  53.9s\n",
      "[CV] n_estimators=1400, min_samples_split=5, max_depth=30, bootstrap=True \n",
      "[CV]  n_estimators=200, min_samples_split=10, max_depth=None, bootstrap=True, total=   5.3s\n",
      "[CV] n_estimators=1400, min_samples_split=5, max_depth=30, bootstrap=True \n",
      "[CV]  n_estimators=2000, min_samples_split=10, max_depth=70, bootstrap=True, total=  52.0s\n",
      "[CV] n_estimators=1400, min_samples_split=5, max_depth=30, bootstrap=True \n",
      "[CV]  n_estimators=200, min_samples_split=10, max_depth=None, bootstrap=True, total=   6.1s\n",
      "[CV] n_estimators=600, min_samples_split=2, max_depth=10, bootstrap=True \n",
      "[CV]  n_estimators=1800, min_samples_split=2, max_depth=None, bootstrap=True, total=  53.0s\n",
      "[CV] n_estimators=600, min_samples_split=2, max_depth=10, bootstrap=True \n",
      "[CV]  n_estimators=1800, min_samples_split=2, max_depth=None, bootstrap=True, total=  51.2s\n",
      "[CV] n_estimators=600, min_samples_split=2, max_depth=10, bootstrap=True \n",
      "[CV]  n_estimators=1800, min_samples_split=2, max_depth=None, bootstrap=True, total=  51.8s\n",
      "[CV] n_estimators=1800, min_samples_split=2, max_depth=70, bootstrap=False \n",
      "[CV]  n_estimators=1000, min_samples_split=10, max_depth=60, bootstrap=True, total=  26.7s\n",
      "[CV] n_estimators=1800, min_samples_split=2, max_depth=70, bootstrap=False \n",
      "[CV]  n_estimators=600, min_samples_split=2, max_depth=10, bootstrap=True, total=  11.2s\n",
      "[CV] n_estimators=1800, min_samples_split=2, max_depth=70, bootstrap=False \n",
      "[CV]  n_estimators=600, min_samples_split=2, max_depth=10, bootstrap=True, total=  10.7s\n",
      "[CV] n_estimators=2000, min_samples_split=5, max_depth=40, bootstrap=True \n",
      "[CV]  n_estimators=600, min_samples_split=2, max_depth=10, bootstrap=True, total=  10.7s\n",
      "[CV] n_estimators=2000, min_samples_split=5, max_depth=40, bootstrap=True \n",
      "[CV]  n_estimators=1400, min_samples_split=5, max_depth=30, bootstrap=True, total=  39.5s\n",
      "[CV] n_estimators=2000, min_samples_split=5, max_depth=40, bootstrap=True \n",
      "[CV]  n_estimators=1400, min_samples_split=5, max_depth=30, bootstrap=True, total=  41.3s\n",
      "[CV]  n_estimators=1400, min_samples_split=5, max_depth=30, bootstrap=True, total=  39.8s\n",
      "[CV]  n_estimators=2000, min_samples_split=5, max_depth=40, bootstrap=True, total=  53.1s\n",
      "[CV]  n_estimators=2000, min_samples_split=5, max_depth=40, bootstrap=True, total=  55.2s\n"
     ]
    },
    {
     "name": "stdout",
     "output_type": "stream",
     "text": [
      "[CV]  n_estimators=1800, min_samples_split=2, max_depth=70, bootstrap=False, total= 1.2min\n",
      "[CV]  n_estimators=1800, min_samples_split=2, max_depth=70, bootstrap=False, total= 1.2min\n",
      "[CV]  n_estimators=2000, min_samples_split=5, max_depth=40, bootstrap=True, total=  44.1s\n",
      "[CV]  n_estimators=1800, min_samples_split=2, max_depth=70, bootstrap=False, total= 1.2min\n"
     ]
    },
    {
     "name": "stderr",
     "output_type": "stream",
     "text": [
      "[Parallel(n_jobs=-1)]: Done 300 out of 300 | elapsed: 24.3min finished\n"
     ]
    },
    {
     "data": {
      "text/plain": [
       "RandomizedSearchCV(cv=3, error_score='raise',\n",
       "          estimator=RandomForestRegressor(bootstrap=True, criterion='mse', max_depth=None,\n",
       "           max_features='auto', max_leaf_nodes=None,\n",
       "           min_impurity_decrease=0.0, min_impurity_split=None,\n",
       "           min_samples_leaf=1, min_samples_split=2,\n",
       "           min_weight_fraction_leaf=0.0, n_estimators=10, n_jobs=1,\n",
       "           oob_score=False, random_state=None, verbose=0, warm_start=False),\n",
       "          fit_params=None, iid=True, n_iter=100, n_jobs=-1,\n",
       "          param_distributions={'n_estimators': [200, 400, 600, 800, 1000, 1200, 1400, 1600, 1800, 2000], 'max_depth': [10, 20, 30, 40, 50, 60, 70, 80, 90, 100, 110, None], 'min_samples_split': [2, 5, 10], 'bootstrap': [True, False]},\n",
       "          pre_dispatch='2*n_jobs', random_state=42, refit=True,\n",
       "          return_train_score='warn', scoring=None, verbose=2)"
      ]
     },
     "execution_count": 82,
     "metadata": {},
     "output_type": "execute_result"
    },
    {
     "name": "stdout",
     "output_type": "stream",
     "text": [
      "time: 24min 26s\n"
     ]
    }
   ],
   "source": [
    "# Use the random grid to search for best hyperparameters\n",
    "# First create the base model to tune\n",
    "rf = RandomForestRegressor()\n",
    "# Random search of parameters, using 3 fold cross validation, \n",
    "# search across 100 different combinations, and use all available cores\n",
    "rf_random = RandomizedSearchCV(estimator = rf, param_distributions = random_grid, n_iter = 100, cv = 3, verbose=2, random_state=42, n_jobs = -1)\n",
    "\n",
    "# Fit the random search model\n",
    "rf_random.fit(X_train, y_train)"
   ]
  },
  {
   "cell_type": "code",
   "execution_count": 83,
   "metadata": {},
   "outputs": [
    {
     "data": {
      "text/plain": [
       "{'bootstrap': True,\n",
       " 'max_depth': 10,\n",
       " 'min_samples_split': 2,\n",
       " 'n_estimators': 600}"
      ]
     },
     "execution_count": 83,
     "metadata": {},
     "output_type": "execute_result"
    },
    {
     "name": "stdout",
     "output_type": "stream",
     "text": [
      "time: 7.96 ms\n"
     ]
    }
   ],
   "source": [
    "rf_random.best_params_"
   ]
  },
  {
   "cell_type": "code",
   "execution_count": 115,
   "metadata": {},
   "outputs": [
    {
     "name": "stderr",
     "output_type": "stream",
     "text": [
      "/usr/local/lib/python3.6/site-packages/sklearn/ensemble/forest.py:724: UserWarning: Some inputs do not have OOB scores. This probably means too few trees were used to compute any reliable oob estimates.\n",
      "  warn(\"Some inputs do not have OOB scores. \"\n",
      "/usr/local/lib/python3.6/site-packages/sklearn/ensemble/forest.py:724: UserWarning: Some inputs do not have OOB scores. This probably means too few trees were used to compute any reliable oob estimates.\n",
      "  warn(\"Some inputs do not have OOB scores. \"\n",
      "/usr/local/lib/python3.6/site-packages/sklearn/ensemble/forest.py:724: UserWarning: Some inputs do not have OOB scores. This probably means too few trees were used to compute any reliable oob estimates.\n",
      "  warn(\"Some inputs do not have OOB scores. \"\n",
      "/usr/local/lib/python3.6/site-packages/sklearn/ensemble/forest.py:724: UserWarning: Some inputs do not have OOB scores. This probably means too few trees were used to compute any reliable oob estimates.\n",
      "  warn(\"Some inputs do not have OOB scores. \"\n",
      "/usr/local/lib/python3.6/site-packages/sklearn/ensemble/forest.py:724: UserWarning: Some inputs do not have OOB scores. This probably means too few trees were used to compute any reliable oob estimates.\n",
      "  warn(\"Some inputs do not have OOB scores. \"\n",
      "/usr/local/lib/python3.6/site-packages/sklearn/ensemble/forest.py:724: UserWarning: Some inputs do not have OOB scores. This probably means too few trees were used to compute any reliable oob estimates.\n",
      "  warn(\"Some inputs do not have OOB scores. \"\n",
      "/usr/local/lib/python3.6/site-packages/sklearn/ensemble/forest.py:724: UserWarning: Some inputs do not have OOB scores. This probably means too few trees were used to compute any reliable oob estimates.\n",
      "  warn(\"Some inputs do not have OOB scores. \"\n",
      "/usr/local/lib/python3.6/site-packages/sklearn/ensemble/forest.py:724: UserWarning: Some inputs do not have OOB scores. This probably means too few trees were used to compute any reliable oob estimates.\n",
      "  warn(\"Some inputs do not have OOB scores. \"\n",
      "/usr/local/lib/python3.6/site-packages/sklearn/ensemble/forest.py:724: UserWarning: Some inputs do not have OOB scores. This probably means too few trees were used to compute any reliable oob estimates.\n",
      "  warn(\"Some inputs do not have OOB scores. \"\n",
      "/usr/local/lib/python3.6/site-packages/sklearn/ensemble/forest.py:724: UserWarning: Some inputs do not have OOB scores. This probably means too few trees were used to compute any reliable oob estimates.\n",
      "  warn(\"Some inputs do not have OOB scores. \"\n",
      "/usr/local/lib/python3.6/site-packages/sklearn/ensemble/forest.py:724: UserWarning: Some inputs do not have OOB scores. This probably means too few trees were used to compute any reliable oob estimates.\n",
      "  warn(\"Some inputs do not have OOB scores. \"\n",
      "/usr/local/lib/python3.6/site-packages/sklearn/ensemble/forest.py:724: UserWarning: Some inputs do not have OOB scores. This probably means too few trees were used to compute any reliable oob estimates.\n",
      "  warn(\"Some inputs do not have OOB scores. \"\n"
     ]
    },
    {
     "ename": "KeyboardInterrupt",
     "evalue": "",
     "output_type": "error",
     "traceback": [
      "\u001b[0;31m---------------------------------------------------------------------------\u001b[0m",
      "\u001b[0;31mKeyboardInterrupt\u001b[0m                         Traceback (most recent call last)",
      "\u001b[0;32m<ipython-input-115-ad886f61810e>\u001b[0m in \u001b[0;36m<module>\u001b[0;34m()\u001b[0m\n\u001b[1;32m      1\u001b[0m \u001b[0;32mfor\u001b[0m \u001b[0mi\u001b[0m \u001b[0;32min\u001b[0m \u001b[0mrange\u001b[0m\u001b[0;34m(\u001b[0m\u001b[0mmin_estimators\u001b[0m\u001b[0;34m,\u001b[0m \u001b[0mmax_estimators\u001b[0m \u001b[0;34m+\u001b[0m \u001b[0;36m1\u001b[0m\u001b[0;34m)\u001b[0m\u001b[0;34m:\u001b[0m\u001b[0;34m\u001b[0m\u001b[0m\n\u001b[1;32m      2\u001b[0m     \u001b[0mrf\u001b[0m\u001b[0;34m.\u001b[0m\u001b[0mset_params\u001b[0m\u001b[0;34m(\u001b[0m\u001b[0mn_estimators\u001b[0m\u001b[0;34m=\u001b[0m\u001b[0mi\u001b[0m\u001b[0;34m)\u001b[0m\u001b[0;34m\u001b[0m\u001b[0m\n\u001b[0;32m----> 3\u001b[0;31m     \u001b[0mrf\u001b[0m\u001b[0;34m.\u001b[0m\u001b[0mfit\u001b[0m\u001b[0;34m(\u001b[0m\u001b[0mX\u001b[0m\u001b[0;34m,\u001b[0m \u001b[0my\u001b[0m\u001b[0;34m)\u001b[0m\u001b[0;34m\u001b[0m\u001b[0m\n\u001b[0m\u001b[1;32m      4\u001b[0m \u001b[0;34m\u001b[0m\u001b[0m\n\u001b[1;32m      5\u001b[0m     \u001b[0;31m# Record the OOB error for each `n_estimators=i` setting.\u001b[0m\u001b[0;34m\u001b[0m\u001b[0;34m\u001b[0m\u001b[0m\n",
      "\u001b[0;32m/usr/local/lib/python3.6/site-packages/sklearn/ensemble/forest.py\u001b[0m in \u001b[0;36mfit\u001b[0;34m(self, X, y, sample_weight)\u001b[0m\n\u001b[1;32m    326\u001b[0m                     \u001b[0mt\u001b[0m\u001b[0;34m,\u001b[0m \u001b[0mself\u001b[0m\u001b[0;34m,\u001b[0m \u001b[0mX\u001b[0m\u001b[0;34m,\u001b[0m \u001b[0my\u001b[0m\u001b[0;34m,\u001b[0m \u001b[0msample_weight\u001b[0m\u001b[0;34m,\u001b[0m \u001b[0mi\u001b[0m\u001b[0;34m,\u001b[0m \u001b[0mlen\u001b[0m\u001b[0;34m(\u001b[0m\u001b[0mtrees\u001b[0m\u001b[0;34m)\u001b[0m\u001b[0;34m,\u001b[0m\u001b[0;34m\u001b[0m\u001b[0m\n\u001b[1;32m    327\u001b[0m                     verbose=self.verbose, class_weight=self.class_weight)\n\u001b[0;32m--> 328\u001b[0;31m                 for i, t in enumerate(trees))\n\u001b[0m\u001b[1;32m    329\u001b[0m \u001b[0;34m\u001b[0m\u001b[0m\n\u001b[1;32m    330\u001b[0m             \u001b[0;31m# Collect newly grown trees\u001b[0m\u001b[0;34m\u001b[0m\u001b[0;34m\u001b[0m\u001b[0m\n",
      "\u001b[0;32m/usr/local/lib/python3.6/site-packages/sklearn/externals/joblib/parallel.py\u001b[0m in \u001b[0;36m__call__\u001b[0;34m(self, iterable)\u001b[0m\n\u001b[1;32m    777\u001b[0m             \u001b[0;31m# was dispatched. In particular this covers the edge\u001b[0m\u001b[0;34m\u001b[0m\u001b[0;34m\u001b[0m\u001b[0m\n\u001b[1;32m    778\u001b[0m             \u001b[0;31m# case of Parallel used with an exhausted iterator.\u001b[0m\u001b[0;34m\u001b[0m\u001b[0;34m\u001b[0m\u001b[0m\n\u001b[0;32m--> 779\u001b[0;31m             \u001b[0;32mwhile\u001b[0m \u001b[0mself\u001b[0m\u001b[0;34m.\u001b[0m\u001b[0mdispatch_one_batch\u001b[0m\u001b[0;34m(\u001b[0m\u001b[0miterator\u001b[0m\u001b[0;34m)\u001b[0m\u001b[0;34m:\u001b[0m\u001b[0;34m\u001b[0m\u001b[0m\n\u001b[0m\u001b[1;32m    780\u001b[0m                 \u001b[0mself\u001b[0m\u001b[0;34m.\u001b[0m\u001b[0m_iterating\u001b[0m \u001b[0;34m=\u001b[0m \u001b[0;32mTrue\u001b[0m\u001b[0;34m\u001b[0m\u001b[0m\n\u001b[1;32m    781\u001b[0m             \u001b[0;32melse\u001b[0m\u001b[0;34m:\u001b[0m\u001b[0;34m\u001b[0m\u001b[0m\n",
      "\u001b[0;32m/usr/local/lib/python3.6/site-packages/sklearn/externals/joblib/parallel.py\u001b[0m in \u001b[0;36mdispatch_one_batch\u001b[0;34m(self, iterator)\u001b[0m\n\u001b[1;32m    623\u001b[0m                 \u001b[0;32mreturn\u001b[0m \u001b[0;32mFalse\u001b[0m\u001b[0;34m\u001b[0m\u001b[0m\n\u001b[1;32m    624\u001b[0m             \u001b[0;32melse\u001b[0m\u001b[0;34m:\u001b[0m\u001b[0;34m\u001b[0m\u001b[0m\n\u001b[0;32m--> 625\u001b[0;31m                 \u001b[0mself\u001b[0m\u001b[0;34m.\u001b[0m\u001b[0m_dispatch\u001b[0m\u001b[0;34m(\u001b[0m\u001b[0mtasks\u001b[0m\u001b[0;34m)\u001b[0m\u001b[0;34m\u001b[0m\u001b[0m\n\u001b[0m\u001b[1;32m    626\u001b[0m                 \u001b[0;32mreturn\u001b[0m \u001b[0;32mTrue\u001b[0m\u001b[0;34m\u001b[0m\u001b[0m\n\u001b[1;32m    627\u001b[0m \u001b[0;34m\u001b[0m\u001b[0m\n",
      "\u001b[0;32m/usr/local/lib/python3.6/site-packages/sklearn/externals/joblib/parallel.py\u001b[0m in \u001b[0;36m_dispatch\u001b[0;34m(self, batch)\u001b[0m\n\u001b[1;32m    586\u001b[0m         \u001b[0mdispatch_timestamp\u001b[0m \u001b[0;34m=\u001b[0m \u001b[0mtime\u001b[0m\u001b[0;34m.\u001b[0m\u001b[0mtime\u001b[0m\u001b[0;34m(\u001b[0m\u001b[0;34m)\u001b[0m\u001b[0;34m\u001b[0m\u001b[0m\n\u001b[1;32m    587\u001b[0m         \u001b[0mcb\u001b[0m \u001b[0;34m=\u001b[0m \u001b[0mBatchCompletionCallBack\u001b[0m\u001b[0;34m(\u001b[0m\u001b[0mdispatch_timestamp\u001b[0m\u001b[0;34m,\u001b[0m \u001b[0mlen\u001b[0m\u001b[0;34m(\u001b[0m\u001b[0mbatch\u001b[0m\u001b[0;34m)\u001b[0m\u001b[0;34m,\u001b[0m \u001b[0mself\u001b[0m\u001b[0;34m)\u001b[0m\u001b[0;34m\u001b[0m\u001b[0m\n\u001b[0;32m--> 588\u001b[0;31m         \u001b[0mjob\u001b[0m \u001b[0;34m=\u001b[0m \u001b[0mself\u001b[0m\u001b[0;34m.\u001b[0m\u001b[0m_backend\u001b[0m\u001b[0;34m.\u001b[0m\u001b[0mapply_async\u001b[0m\u001b[0;34m(\u001b[0m\u001b[0mbatch\u001b[0m\u001b[0;34m,\u001b[0m \u001b[0mcallback\u001b[0m\u001b[0;34m=\u001b[0m\u001b[0mcb\u001b[0m\u001b[0;34m)\u001b[0m\u001b[0;34m\u001b[0m\u001b[0m\n\u001b[0m\u001b[1;32m    589\u001b[0m         \u001b[0mself\u001b[0m\u001b[0;34m.\u001b[0m\u001b[0m_jobs\u001b[0m\u001b[0;34m.\u001b[0m\u001b[0mappend\u001b[0m\u001b[0;34m(\u001b[0m\u001b[0mjob\u001b[0m\u001b[0;34m)\u001b[0m\u001b[0;34m\u001b[0m\u001b[0m\n\u001b[1;32m    590\u001b[0m \u001b[0;34m\u001b[0m\u001b[0m\n",
      "\u001b[0;32m/usr/local/lib/python3.6/site-packages/sklearn/externals/joblib/_parallel_backends.py\u001b[0m in \u001b[0;36mapply_async\u001b[0;34m(self, func, callback)\u001b[0m\n\u001b[1;32m    109\u001b[0m     \u001b[0;32mdef\u001b[0m \u001b[0mapply_async\u001b[0m\u001b[0;34m(\u001b[0m\u001b[0mself\u001b[0m\u001b[0;34m,\u001b[0m \u001b[0mfunc\u001b[0m\u001b[0;34m,\u001b[0m \u001b[0mcallback\u001b[0m\u001b[0;34m=\u001b[0m\u001b[0;32mNone\u001b[0m\u001b[0;34m)\u001b[0m\u001b[0;34m:\u001b[0m\u001b[0;34m\u001b[0m\u001b[0m\n\u001b[1;32m    110\u001b[0m         \u001b[0;34m\"\"\"Schedule a func to be run\"\"\"\u001b[0m\u001b[0;34m\u001b[0m\u001b[0m\n\u001b[0;32m--> 111\u001b[0;31m         \u001b[0mresult\u001b[0m \u001b[0;34m=\u001b[0m \u001b[0mImmediateResult\u001b[0m\u001b[0;34m(\u001b[0m\u001b[0mfunc\u001b[0m\u001b[0;34m)\u001b[0m\u001b[0;34m\u001b[0m\u001b[0m\n\u001b[0m\u001b[1;32m    112\u001b[0m         \u001b[0;32mif\u001b[0m \u001b[0mcallback\u001b[0m\u001b[0;34m:\u001b[0m\u001b[0;34m\u001b[0m\u001b[0m\n\u001b[1;32m    113\u001b[0m             \u001b[0mcallback\u001b[0m\u001b[0;34m(\u001b[0m\u001b[0mresult\u001b[0m\u001b[0;34m)\u001b[0m\u001b[0;34m\u001b[0m\u001b[0m\n",
      "\u001b[0;32m/usr/local/lib/python3.6/site-packages/sklearn/externals/joblib/_parallel_backends.py\u001b[0m in \u001b[0;36m__init__\u001b[0;34m(self, batch)\u001b[0m\n\u001b[1;32m    330\u001b[0m         \u001b[0;31m# Don't delay the application, to avoid keeping the input\u001b[0m\u001b[0;34m\u001b[0m\u001b[0;34m\u001b[0m\u001b[0m\n\u001b[1;32m    331\u001b[0m         \u001b[0;31m# arguments in memory\u001b[0m\u001b[0;34m\u001b[0m\u001b[0;34m\u001b[0m\u001b[0m\n\u001b[0;32m--> 332\u001b[0;31m         \u001b[0mself\u001b[0m\u001b[0;34m.\u001b[0m\u001b[0mresults\u001b[0m \u001b[0;34m=\u001b[0m \u001b[0mbatch\u001b[0m\u001b[0;34m(\u001b[0m\u001b[0;34m)\u001b[0m\u001b[0;34m\u001b[0m\u001b[0m\n\u001b[0m\u001b[1;32m    333\u001b[0m \u001b[0;34m\u001b[0m\u001b[0m\n\u001b[1;32m    334\u001b[0m     \u001b[0;32mdef\u001b[0m \u001b[0mget\u001b[0m\u001b[0;34m(\u001b[0m\u001b[0mself\u001b[0m\u001b[0;34m)\u001b[0m\u001b[0;34m:\u001b[0m\u001b[0;34m\u001b[0m\u001b[0m\n",
      "\u001b[0;32m/usr/local/lib/python3.6/site-packages/sklearn/externals/joblib/parallel.py\u001b[0m in \u001b[0;36m__call__\u001b[0;34m(self)\u001b[0m\n\u001b[1;32m    129\u001b[0m \u001b[0;34m\u001b[0m\u001b[0m\n\u001b[1;32m    130\u001b[0m     \u001b[0;32mdef\u001b[0m \u001b[0m__call__\u001b[0m\u001b[0;34m(\u001b[0m\u001b[0mself\u001b[0m\u001b[0;34m)\u001b[0m\u001b[0;34m:\u001b[0m\u001b[0;34m\u001b[0m\u001b[0m\n\u001b[0;32m--> 131\u001b[0;31m         \u001b[0;32mreturn\u001b[0m \u001b[0;34m[\u001b[0m\u001b[0mfunc\u001b[0m\u001b[0;34m(\u001b[0m\u001b[0;34m*\u001b[0m\u001b[0margs\u001b[0m\u001b[0;34m,\u001b[0m \u001b[0;34m**\u001b[0m\u001b[0mkwargs\u001b[0m\u001b[0;34m)\u001b[0m \u001b[0;32mfor\u001b[0m \u001b[0mfunc\u001b[0m\u001b[0;34m,\u001b[0m \u001b[0margs\u001b[0m\u001b[0;34m,\u001b[0m \u001b[0mkwargs\u001b[0m \u001b[0;32min\u001b[0m \u001b[0mself\u001b[0m\u001b[0;34m.\u001b[0m\u001b[0mitems\u001b[0m\u001b[0;34m]\u001b[0m\u001b[0;34m\u001b[0m\u001b[0m\n\u001b[0m\u001b[1;32m    132\u001b[0m \u001b[0;34m\u001b[0m\u001b[0m\n\u001b[1;32m    133\u001b[0m     \u001b[0;32mdef\u001b[0m \u001b[0m__len__\u001b[0m\u001b[0;34m(\u001b[0m\u001b[0mself\u001b[0m\u001b[0;34m)\u001b[0m\u001b[0;34m:\u001b[0m\u001b[0;34m\u001b[0m\u001b[0m\n",
      "\u001b[0;32m/usr/local/lib/python3.6/site-packages/sklearn/externals/joblib/parallel.py\u001b[0m in \u001b[0;36m<listcomp>\u001b[0;34m(.0)\u001b[0m\n\u001b[1;32m    129\u001b[0m \u001b[0;34m\u001b[0m\u001b[0m\n\u001b[1;32m    130\u001b[0m     \u001b[0;32mdef\u001b[0m \u001b[0m__call__\u001b[0m\u001b[0;34m(\u001b[0m\u001b[0mself\u001b[0m\u001b[0;34m)\u001b[0m\u001b[0;34m:\u001b[0m\u001b[0;34m\u001b[0m\u001b[0m\n\u001b[0;32m--> 131\u001b[0;31m         \u001b[0;32mreturn\u001b[0m \u001b[0;34m[\u001b[0m\u001b[0mfunc\u001b[0m\u001b[0;34m(\u001b[0m\u001b[0;34m*\u001b[0m\u001b[0margs\u001b[0m\u001b[0;34m,\u001b[0m \u001b[0;34m**\u001b[0m\u001b[0mkwargs\u001b[0m\u001b[0;34m)\u001b[0m \u001b[0;32mfor\u001b[0m \u001b[0mfunc\u001b[0m\u001b[0;34m,\u001b[0m \u001b[0margs\u001b[0m\u001b[0;34m,\u001b[0m \u001b[0mkwargs\u001b[0m \u001b[0;32min\u001b[0m \u001b[0mself\u001b[0m\u001b[0;34m.\u001b[0m\u001b[0mitems\u001b[0m\u001b[0;34m]\u001b[0m\u001b[0;34m\u001b[0m\u001b[0m\n\u001b[0m\u001b[1;32m    132\u001b[0m \u001b[0;34m\u001b[0m\u001b[0m\n\u001b[1;32m    133\u001b[0m     \u001b[0;32mdef\u001b[0m \u001b[0m__len__\u001b[0m\u001b[0;34m(\u001b[0m\u001b[0mself\u001b[0m\u001b[0;34m)\u001b[0m\u001b[0;34m:\u001b[0m\u001b[0;34m\u001b[0m\u001b[0m\n",
      "\u001b[0;32m/usr/local/lib/python3.6/site-packages/sklearn/ensemble/forest.py\u001b[0m in \u001b[0;36m_parallel_build_trees\u001b[0;34m(tree, forest, X, y, sample_weight, tree_idx, n_trees, verbose, class_weight)\u001b[0m\n\u001b[1;32m    119\u001b[0m             \u001b[0mcurr_sample_weight\u001b[0m \u001b[0;34m*=\u001b[0m \u001b[0mcompute_sample_weight\u001b[0m\u001b[0;34m(\u001b[0m\u001b[0;34m'balanced'\u001b[0m\u001b[0;34m,\u001b[0m \u001b[0my\u001b[0m\u001b[0;34m,\u001b[0m \u001b[0mindices\u001b[0m\u001b[0;34m)\u001b[0m\u001b[0;34m\u001b[0m\u001b[0m\n\u001b[1;32m    120\u001b[0m \u001b[0;34m\u001b[0m\u001b[0m\n\u001b[0;32m--> 121\u001b[0;31m         \u001b[0mtree\u001b[0m\u001b[0;34m.\u001b[0m\u001b[0mfit\u001b[0m\u001b[0;34m(\u001b[0m\u001b[0mX\u001b[0m\u001b[0;34m,\u001b[0m \u001b[0my\u001b[0m\u001b[0;34m,\u001b[0m \u001b[0msample_weight\u001b[0m\u001b[0;34m=\u001b[0m\u001b[0mcurr_sample_weight\u001b[0m\u001b[0;34m,\u001b[0m \u001b[0mcheck_input\u001b[0m\u001b[0;34m=\u001b[0m\u001b[0;32mFalse\u001b[0m\u001b[0;34m)\u001b[0m\u001b[0;34m\u001b[0m\u001b[0m\n\u001b[0m\u001b[1;32m    122\u001b[0m     \u001b[0;32melse\u001b[0m\u001b[0;34m:\u001b[0m\u001b[0;34m\u001b[0m\u001b[0m\n\u001b[1;32m    123\u001b[0m         \u001b[0mtree\u001b[0m\u001b[0;34m.\u001b[0m\u001b[0mfit\u001b[0m\u001b[0;34m(\u001b[0m\u001b[0mX\u001b[0m\u001b[0;34m,\u001b[0m \u001b[0my\u001b[0m\u001b[0;34m,\u001b[0m \u001b[0msample_weight\u001b[0m\u001b[0;34m=\u001b[0m\u001b[0msample_weight\u001b[0m\u001b[0;34m,\u001b[0m \u001b[0mcheck_input\u001b[0m\u001b[0;34m=\u001b[0m\u001b[0;32mFalse\u001b[0m\u001b[0;34m)\u001b[0m\u001b[0;34m\u001b[0m\u001b[0m\n",
      "\u001b[0;32m/usr/local/lib/python3.6/site-packages/sklearn/tree/tree.py\u001b[0m in \u001b[0;36mfit\u001b[0;34m(self, X, y, sample_weight, check_input, X_idx_sorted)\u001b[0m\n\u001b[1;32m   1122\u001b[0m             \u001b[0msample_weight\u001b[0m\u001b[0;34m=\u001b[0m\u001b[0msample_weight\u001b[0m\u001b[0;34m,\u001b[0m\u001b[0;34m\u001b[0m\u001b[0m\n\u001b[1;32m   1123\u001b[0m             \u001b[0mcheck_input\u001b[0m\u001b[0;34m=\u001b[0m\u001b[0mcheck_input\u001b[0m\u001b[0;34m,\u001b[0m\u001b[0;34m\u001b[0m\u001b[0m\n\u001b[0;32m-> 1124\u001b[0;31m             X_idx_sorted=X_idx_sorted)\n\u001b[0m\u001b[1;32m   1125\u001b[0m         \u001b[0;32mreturn\u001b[0m \u001b[0mself\u001b[0m\u001b[0;34m\u001b[0m\u001b[0m\n\u001b[1;32m   1126\u001b[0m \u001b[0;34m\u001b[0m\u001b[0m\n",
      "\u001b[0;32m/usr/local/lib/python3.6/site-packages/sklearn/tree/tree.py\u001b[0m in \u001b[0;36mfit\u001b[0;34m(self, X, y, sample_weight, check_input, X_idx_sorted)\u001b[0m\n\u001b[1;32m    360\u001b[0m                                            min_impurity_split)\n\u001b[1;32m    361\u001b[0m \u001b[0;34m\u001b[0m\u001b[0m\n\u001b[0;32m--> 362\u001b[0;31m         \u001b[0mbuilder\u001b[0m\u001b[0;34m.\u001b[0m\u001b[0mbuild\u001b[0m\u001b[0;34m(\u001b[0m\u001b[0mself\u001b[0m\u001b[0;34m.\u001b[0m\u001b[0mtree_\u001b[0m\u001b[0;34m,\u001b[0m \u001b[0mX\u001b[0m\u001b[0;34m,\u001b[0m \u001b[0my\u001b[0m\u001b[0;34m,\u001b[0m \u001b[0msample_weight\u001b[0m\u001b[0;34m,\u001b[0m \u001b[0mX_idx_sorted\u001b[0m\u001b[0;34m)\u001b[0m\u001b[0;34m\u001b[0m\u001b[0m\n\u001b[0m\u001b[1;32m    363\u001b[0m \u001b[0;34m\u001b[0m\u001b[0m\n\u001b[1;32m    364\u001b[0m         \u001b[0;32mif\u001b[0m \u001b[0mself\u001b[0m\u001b[0;34m.\u001b[0m\u001b[0mn_outputs_\u001b[0m \u001b[0;34m==\u001b[0m \u001b[0;36m1\u001b[0m\u001b[0;34m:\u001b[0m\u001b[0;34m\u001b[0m\u001b[0m\n",
      "\u001b[0;31mKeyboardInterrupt\u001b[0m: "
     ]
    }
   ],
   "source": [
    "for i in range(min_estimators, max_estimators + 1):\n",
    "    rf.set_params(n_estimators=i)\n",
    "    rf.fit(X, y)\n",
    "\n",
    "    # Record the OOB error for each `n_estimators=i` setting.\n",
    "    oob_error = 1 - rf.oob_score_\n",
    "    error_rate[label].append((i, oob_error))"
   ]
  },
  {
   "cell_type": "code",
   "execution_count": 116,
   "metadata": {},
   "outputs": [
    {
     "data": {
      "image/png": "[encoded data removed]",
      "text/plain": [
       "<matplotlib.figure.Figure at 0x1164107f0>"
      ]
     },
     "metadata": {},
     "output_type": "display_data"
    }
   ],
   "source": [
    "# Generate the \"OOB error rate\" vs. \"n_estimators\" plot.\n",
    "for label, clf_err in error_rate.items():\n",
    "    xs, ys = zip(*clf_err)\n",
    "    plt.plot(xs, ys, label=label)"
   ]
  },
  {
   "cell_type": "code",
   "execution_count": 146,
   "metadata": {},
   "outputs": [
    {
     "name": "stdout",
     "output_type": "stream",
     "text": [
      "Mean Absolute Error: 0.13699618769215194\n"
     ]
    }
   ],
   "source": [
    "errors = abs(y_pred - y_test)\n",
    "print('Mean Absolute Error:', np.mean(errors))"
   ]
  },
  {
   "cell_type": "code",
   "execution_count": 147,
   "metadata": {},
   "outputs": [
    {
     "name": "stdout",
     "output_type": "stream",
     "text": [
      "Variable: id                   Importance: 0.42\n",
      "Variable: num_characters       Importance: 0.2\n",
      "Variable: bad_words            Importance: 0.13\n",
      "Variable: asian                Importance: 0.13\n",
      "Variable: num_capitals         Importance: 0.12\n",
      "Variable: num_asterisks        Importance: 0.0\n"
     ]
    }
   ],
   "source": [
    "feature_list = list(X.columns)\n",
    "\n",
    "# Get numerical feature importances\n",
    "importances = list(rf.feature_importances_)\n",
    "\n",
    "# List of tuples with variable and importance\n",
    "feature_importances = [(feature, round(importance, 2)) for feature, importance in zip(feature_list, importances)]\n",
    "\n",
    "# Sort the feature importances by most important first\n",
    "feature_importances = sorted(feature_importances, key = lambda x: x[1], reverse = True)\n",
    "\n",
    "# Print out the feature and importances \n",
    "[print('Variable: {:20} Importance: {}'.format(*pair)) for pair in feature_importances];"
   ]
  },
  {
   "cell_type": "code",
   "execution_count": 142,
   "metadata": {},
   "outputs": [
    {
     "data": {
      "text/plain": [
       "['id', 'num_asterisks', 'num_characters', 'num_capitals', 'bad_words', 'asian']"
      ]
     },
     "execution_count": 142,
     "metadata": {},
     "output_type": "execute_result"
    }
   ],
   "source": [
    "feature_list"
   ]
  },
  {
   "cell_type": "code",
   "execution_count": 75,
   "metadata": {
    "scrolled": false
   },
   "outputs": [
    {
     "name": "stderr",
     "output_type": "stream",
     "text": [
      "/usr/local/lib/python3.6/site-packages/sklearn/ensemble/forest.py:724: UserWarning: Some inputs do not have OOB scores. This probably means too few trees were used to compute any reliable oob estimates.\n",
      "  warn(\"Some inputs do not have OOB scores. \"\n"
     ]
    },
    {
     "name": "stdout",
     "output_type": "stream",
     "text": [
      "1 -0.5452094562289558\n"
     ]
    },
    {
     "name": "stderr",
     "output_type": "stream",
     "text": [
      "/usr/local/lib/python3.6/site-packages/sklearn/ensemble/forest.py:724: UserWarning: Some inputs do not have OOB scores. This probably means too few trees were used to compute any reliable oob estimates.\n",
      "  warn(\"Some inputs do not have OOB scores. \"\n"
     ]
    },
    {
     "name": "stdout",
     "output_type": "stream",
     "text": [
      "2 -0.6691334235155151\n"
     ]
    },
    {
     "name": "stderr",
     "output_type": "stream",
     "text": [
      "/usr/local/lib/python3.6/site-packages/sklearn/ensemble/forest.py:724: UserWarning: Some inputs do not have OOB scores. This probably means too few trees were used to compute any reliable oob estimates.\n",
      "  warn(\"Some inputs do not have OOB scores. \"\n"
     ]
    },
    {
     "name": "stdout",
     "output_type": "stream",
     "text": [
      "3 -0.6914265003370708\n"
     ]
    },
    {
     "name": "stderr",
     "output_type": "stream",
     "text": [
      "/usr/local/lib/python3.6/site-packages/sklearn/ensemble/forest.py:724: UserWarning: Some inputs do not have OOB scores. This probably means too few trees were used to compute any reliable oob estimates.\n",
      "  warn(\"Some inputs do not have OOB scores. \"\n"
     ]
    },
    {
     "name": "stdout",
     "output_type": "stream",
     "text": [
      "4 -0.6656202017941917\n"
     ]
    },
    {
     "name": "stderr",
     "output_type": "stream",
     "text": [
      "/usr/local/lib/python3.6/site-packages/sklearn/ensemble/forest.py:724: UserWarning: Some inputs do not have OOB scores. This probably means too few trees were used to compute any reliable oob estimates.\n",
      "  warn(\"Some inputs do not have OOB scores. \"\n"
     ]
    },
    {
     "name": "stdout",
     "output_type": "stream",
     "text": [
      "5 -0.6305267106178802\n"
     ]
    },
    {
     "name": "stderr",
     "output_type": "stream",
     "text": [
      "/usr/local/lib/python3.6/site-packages/sklearn/ensemble/forest.py:724: UserWarning: Some inputs do not have OOB scores. This probably means too few trees were used to compute any reliable oob estimates.\n",
      "  warn(\"Some inputs do not have OOB scores. \"\n"
     ]
    },
    {
     "name": "stdout",
     "output_type": "stream",
     "text": [
      "6 -0.5876519023473774\n"
     ]
    },
    {
     "name": "stderr",
     "output_type": "stream",
     "text": [
      "/usr/local/lib/python3.6/site-packages/sklearn/ensemble/forest.py:724: UserWarning: Some inputs do not have OOB scores. This probably means too few trees were used to compute any reliable oob estimates.\n",
      "  warn(\"Some inputs do not have OOB scores. \"\n"
     ]
    },
    {
     "name": "stdout",
     "output_type": "stream",
     "text": [
      "7 -0.5383276397394707\n"
     ]
    },
    {
     "name": "stderr",
     "output_type": "stream",
     "text": [
      "/usr/local/lib/python3.6/site-packages/sklearn/ensemble/forest.py:724: UserWarning: Some inputs do not have OOB scores. This probably means too few trees were used to compute any reliable oob estimates.\n",
      "  warn(\"Some inputs do not have OOB scores. \"\n"
     ]
    },
    {
     "name": "stdout",
     "output_type": "stream",
     "text": [
      "8 -0.4920137781394691\n"
     ]
    },
    {
     "name": "stderr",
     "output_type": "stream",
     "text": [
      "/usr/local/lib/python3.6/site-packages/sklearn/ensemble/forest.py:724: UserWarning: Some inputs do not have OOB scores. This probably means too few trees were used to compute any reliable oob estimates.\n",
      "  warn(\"Some inputs do not have OOB scores. \"\n"
     ]
    },
    {
     "name": "stdout",
     "output_type": "stream",
     "text": [
      "9 -0.45188446732846876\n"
     ]
    },
    {
     "name": "stderr",
     "output_type": "stream",
     "text": [
      "/usr/local/lib/python3.6/site-packages/sklearn/ensemble/forest.py:724: UserWarning: Some inputs do not have OOB scores. This probably means too few trees were used to compute any reliable oob estimates.\n",
      "  warn(\"Some inputs do not have OOB scores. \"\n"
     ]
    },
    {
     "name": "stdout",
     "output_type": "stream",
     "text": [
      "10 -0.4150948728729513\n"
     ]
    },
    {
     "name": "stderr",
     "output_type": "stream",
     "text": [
      "/usr/local/lib/python3.6/site-packages/sklearn/ensemble/forest.py:724: UserWarning: Some inputs do not have OOB scores. This probably means too few trees were used to compute any reliable oob estimates.\n",
      "  warn(\"Some inputs do not have OOB scores. \"\n"
     ]
    },
    {
     "name": "stdout",
     "output_type": "stream",
     "text": [
      "11 -0.38491595540947654\n"
     ]
    },
    {
     "name": "stderr",
     "output_type": "stream",
     "text": [
      "/usr/local/lib/python3.6/site-packages/sklearn/ensemble/forest.py:724: UserWarning: Some inputs do not have OOB scores. This probably means too few trees were used to compute any reliable oob estimates.\n",
      "  warn(\"Some inputs do not have OOB scores. \"\n"
     ]
    },
    {
     "name": "stdout",
     "output_type": "stream",
     "text": [
      "12 -0.3572769380368801\n"
     ]
    },
    {
     "name": "stderr",
     "output_type": "stream",
     "text": [
      "/usr/local/lib/python3.6/site-packages/sklearn/ensemble/forest.py:724: UserWarning: Some inputs do not have OOB scores. This probably means too few trees were used to compute any reliable oob estimates.\n",
      "  warn(\"Some inputs do not have OOB scores. \"\n"
     ]
    },
    {
     "name": "stdout",
     "output_type": "stream",
     "text": [
      "13 -0.3356542572719976\n"
     ]
    },
    {
     "name": "stderr",
     "output_type": "stream",
     "text": [
      "/usr/local/lib/python3.6/site-packages/sklearn/ensemble/forest.py:724: UserWarning: Some inputs do not have OOB scores. This probably means too few trees were used to compute any reliable oob estimates.\n",
      "  warn(\"Some inputs do not have OOB scores. \"\n"
     ]
    },
    {
     "name": "stdout",
     "output_type": "stream",
     "text": [
      "14 -0.3163889208624109\n"
     ]
    },
    {
     "name": "stderr",
     "output_type": "stream",
     "text": [
      "/usr/local/lib/python3.6/site-packages/sklearn/ensemble/forest.py:724: UserWarning: Some inputs do not have OOB scores. This probably means too few trees were used to compute any reliable oob estimates.\n",
      "  warn(\"Some inputs do not have OOB scores. \"\n"
     ]
    },
    {
     "name": "stdout",
     "output_type": "stream",
     "text": [
      "15 -0.2992618701187697\n"
     ]
    },
    {
     "name": "stderr",
     "output_type": "stream",
     "text": [
      "/usr/local/lib/python3.6/site-packages/sklearn/ensemble/forest.py:724: UserWarning: Some inputs do not have OOB scores. This probably means too few trees were used to compute any reliable oob estimates.\n",
      "  warn(\"Some inputs do not have OOB scores. \"\n"
     ]
    },
    {
     "name": "stdout",
     "output_type": "stream",
     "text": [
      "16 -0.2849205436972384\n"
     ]
    },
    {
     "name": "stderr",
     "output_type": "stream",
     "text": [
      "/usr/local/lib/python3.6/site-packages/sklearn/ensemble/forest.py:724: UserWarning: Some inputs do not have OOB scores. This probably means too few trees were used to compute any reliable oob estimates.\n",
      "  warn(\"Some inputs do not have OOB scores. \"\n"
     ]
    },
    {
     "name": "stdout",
     "output_type": "stream",
     "text": [
      "17 -0.2722519947720312\n"
     ]
    },
    {
     "name": "stderr",
     "output_type": "stream",
     "text": [
      "/usr/local/lib/python3.6/site-packages/sklearn/ensemble/forest.py:724: UserWarning: Some inputs do not have OOB scores. This probably means too few trees were used to compute any reliable oob estimates.\n",
      "  warn(\"Some inputs do not have OOB scores. \"\n"
     ]
    },
    {
     "name": "stdout",
     "output_type": "stream",
     "text": [
      "18 -0.26103379877387467\n"
     ]
    },
    {
     "name": "stderr",
     "output_type": "stream",
     "text": [
      "/usr/local/lib/python3.6/site-packages/sklearn/ensemble/forest.py:724: UserWarning: Some inputs do not have OOB scores. This probably means too few trees were used to compute any reliable oob estimates.\n",
      "  warn(\"Some inputs do not have OOB scores. \"\n"
     ]
    },
    {
     "name": "stdout",
     "output_type": "stream",
     "text": [
      "19 -0.2506478278048756\n"
     ]
    },
    {
     "name": "stderr",
     "output_type": "stream",
     "text": [
      "/usr/local/lib/python3.6/site-packages/sklearn/ensemble/forest.py:724: UserWarning: Some inputs do not have OOB scores. This probably means too few trees were used to compute any reliable oob estimates.\n",
      "  warn(\"Some inputs do not have OOB scores. \"\n"
     ]
    },
    {
     "name": "stdout",
     "output_type": "stream",
     "text": [
      "20 -0.2416045171952541\n"
     ]
    },
    {
     "name": "stderr",
     "output_type": "stream",
     "text": [
      "/usr/local/lib/python3.6/site-packages/sklearn/ensemble/forest.py:724: UserWarning: Some inputs do not have OOB scores. This probably means too few trees were used to compute any reliable oob estimates.\n",
      "  warn(\"Some inputs do not have OOB scores. \"\n"
     ]
    },
    {
     "name": "stdout",
     "output_type": "stream",
     "text": [
      "21 -0.23324789581520555\n"
     ]
    },
    {
     "name": "stderr",
     "output_type": "stream",
     "text": [
      "/usr/local/lib/python3.6/site-packages/sklearn/ensemble/forest.py:724: UserWarning: Some inputs do not have OOB scores. This probably means too few trees were used to compute any reliable oob estimates.\n",
      "  warn(\"Some inputs do not have OOB scores. \"\n"
     ]
    },
    {
     "name": "stdout",
     "output_type": "stream",
     "text": [
      "22 -0.22508893550221787\n"
     ]
    },
    {
     "name": "stderr",
     "output_type": "stream",
     "text": [
      "/usr/local/lib/python3.6/site-packages/sklearn/ensemble/forest.py:724: UserWarning: Some inputs do not have OOB scores. This probably means too few trees were used to compute any reliable oob estimates.\n",
      "  warn(\"Some inputs do not have OOB scores. \"\n"
     ]
    },
    {
     "name": "stdout",
     "output_type": "stream",
     "text": [
      "23 -0.21871958674294723\n"
     ]
    },
    {
     "name": "stderr",
     "output_type": "stream",
     "text": [
      "/usr/local/lib/python3.6/site-packages/sklearn/ensemble/forest.py:724: UserWarning: Some inputs do not have OOB scores. This probably means too few trees were used to compute any reliable oob estimates.\n",
      "  warn(\"Some inputs do not have OOB scores. \"\n"
     ]
    },
    {
     "name": "stdout",
     "output_type": "stream",
     "text": [
      "24 -0.21293130734301724\n"
     ]
    },
    {
     "name": "stderr",
     "output_type": "stream",
     "text": [
      "/usr/local/lib/python3.6/site-packages/sklearn/ensemble/forest.py:724: UserWarning: Some inputs do not have OOB scores. This probably means too few trees were used to compute any reliable oob estimates.\n",
      "  warn(\"Some inputs do not have OOB scores. \"\n"
     ]
    },
    {
     "name": "stdout",
     "output_type": "stream",
     "text": [
      "25 -0.20826913571963557\n",
      "26 -0.20343819628122706\n",
      "27 -0.19896569207056025\n",
      "28 -0.19482758854961024\n",
      "29 -0.1907918119270431\n",
      "30 -0.18806611162856623\n",
      "31 -0.18494277315203478\n",
      "32 -0.18300102331230894\n",
      "33 -0.18012289074028565\n",
      "34 -0.17791659274525107\n",
      "35 -0.175319142561009\n",
      "36 -0.17329508376361225\n",
      "37 -0.17096790003228013\n",
      "38 -0.16991599640162214\n",
      "39 -0.1675362867928749\n",
      "40 -0.1660916499210403\n",
      "41 -0.1638612629879761\n",
      "42 -0.16161682451531068\n",
      "43 -0.15988401018584564\n",
      "44 -0.15762848537354346\n",
      "45 -0.15608994548197996\n",
      "46 -0.15451468917660915\n",
      "47 -0.15332922325258092\n",
      "48 -0.15224278103306332\n",
      "49 -0.15133440393598874\n",
      "50 -0.1502236720236605\n",
      "51 -0.14896890480924352\n",
      "52 -0.14801680909779602\n",
      "53 -0.14661301230102985\n",
      "54 -0.14566131970042062\n",
      "55 -0.1448967930082259\n",
      "56 -0.14409554794750323\n",
      "57 -0.14321897954599816\n",
      "58 -0.14244786162489942\n",
      "59 -0.14135878449405714\n",
      "60 -0.1403055370073032\n",
      "61 -0.13932694451153393\n",
      "62 -0.1386406722644966\n",
      "63 -0.13765254411647954\n",
      "64 -0.13676732394665736\n",
      "65 -0.1360521070934031\n",
      "66 -0.1351349155163255\n",
      "67 -0.1343973653585373\n",
      "68 -0.13387049190709677\n",
      "69 -0.13294887912502196\n",
      "70 -0.13224097637487398\n",
      "71 -0.1313480722907825\n",
      "72 -0.13066150529729548\n",
      "73 -0.13029808871804227\n",
      "74 -0.12972949539733447\n",
      "75 -0.12926634399223635\n",
      "76 -0.1289170417063512\n",
      "77 -0.12848148885928734\n",
      "78 -0.1280592545976187\n",
      "79 -0.12770952948309433\n",
      "80 -0.12715675413196337\n",
      "81 -0.12689413760588364\n",
      "82 -0.12647211221402688\n",
      "83 -0.12599022827697182\n",
      "84 -0.12561345039614014\n",
      "85 -0.12507571226642145\n",
      "86 -0.12476053995949687\n",
      "87 -0.12472549416334577\n",
      "88 -0.12434812677616813\n",
      "89 -0.12400151249331604\n",
      "90 -0.12359364797254635\n",
      "91 -0.12344449025751447\n",
      "92 -0.12322063047627707\n",
      "93 -0.12296382258888205\n",
      "94 -0.12284883604002794\n",
      "95 -0.12249899489517291\n",
      "96 -0.12211977975515986\n",
      "97 -0.12172419772660281\n",
      "98 -0.12148992231845468\n",
      "99 -0.12130125781307255\n",
      "100 -0.12090395744042959\n",
      "101 -0.12087184890287994\n",
      "102 -0.1208538178938483\n",
      "103 -0.12070396195393496\n",
      "104 -0.12044372938326053\n",
      "105 -0.12017331101620887\n",
      "106 -0.11991916224072319\n",
      "107 -0.11970550847358519\n",
      "108 -0.11932875989030323\n",
      "109 -0.11890981892616548\n",
      "110 -0.118684240630758\n",
      "111 -0.11860618412343071\n",
      "112 -0.11840371004819006\n",
      "113 -0.11824770678638186\n",
      "114 -0.1180609246577593\n",
      "115 -0.11799485695660183\n",
      "116 -0.11789521396553315\n",
      "117 -0.117647233472574\n",
      "118 -0.11759673264626502\n",
      "119 -0.11756340629923323\n",
      "120 -0.11738240341664996\n",
      "121 -0.11737881190884569\n",
      "122 -0.11743065289027554\n",
      "123 -0.11740438176317536\n",
      "124 -0.11723284166069536\n",
      "125 -0.11711921547339665\n",
      "126 -0.11685588637842437\n",
      "127 -0.11671048836314069\n",
      "128 -0.11656610539809487\n",
      "129 -0.11658339282406471\n",
      "130 -0.11635916557264481\n",
      "131 -0.11632159412651077\n",
      "132 -0.11613781284513602\n",
      "133 -0.11592159893429232\n",
      "134 -0.11561590607259009\n",
      "135 -0.11542495888297655\n",
      "136 -0.11519583006706835\n",
      "137 -0.11503392028298132\n",
      "138 -0.11481568854803381\n",
      "139 -0.11462377338138885\n",
      "140 -0.11453730828479936\n"
     ]
    },
    {
     "ename": "KeyboardInterrupt",
     "evalue": "",
     "output_type": "error",
     "traceback": [
      "\u001b[0;31m---------------------------------------------------------------------------\u001b[0m",
      "\u001b[0;31mKeyboardInterrupt\u001b[0m                         Traceback (most recent call last)",
      "\u001b[0;32m<ipython-input-75-51f28cb90312>\u001b[0m in \u001b[0;36m<module>\u001b[0;34m()\u001b[0m\n\u001b[1;32m      4\u001b[0m \u001b[0;32mfor\u001b[0m \u001b[0mi\u001b[0m \u001b[0;32min\u001b[0m \u001b[0mrange\u001b[0m\u001b[0;34m(\u001b[0m\u001b[0;36m1\u001b[0m\u001b[0;34m,\u001b[0m \u001b[0mn_estimators\u001b[0m \u001b[0;34m+\u001b[0m \u001b[0;36m1\u001b[0m\u001b[0;34m)\u001b[0m\u001b[0;34m:\u001b[0m\u001b[0;34m\u001b[0m\u001b[0m\n\u001b[1;32m      5\u001b[0m     \u001b[0mforest\u001b[0m\u001b[0;34m.\u001b[0m\u001b[0mset_params\u001b[0m\u001b[0;34m(\u001b[0m\u001b[0mn_estimators\u001b[0m\u001b[0;34m=\u001b[0m\u001b[0mi\u001b[0m\u001b[0;34m)\u001b[0m\u001b[0;34m\u001b[0m\u001b[0m\n\u001b[0;32m----> 6\u001b[0;31m     \u001b[0mforest\u001b[0m\u001b[0;34m.\u001b[0m\u001b[0mfit\u001b[0m\u001b[0;34m(\u001b[0m\u001b[0mX\u001b[0m\u001b[0;34m,\u001b[0m \u001b[0my\u001b[0m\u001b[0;34m)\u001b[0m\u001b[0;34m\u001b[0m\u001b[0m\n\u001b[0m\u001b[1;32m      7\u001b[0m     \u001b[0mprint\u001b[0m \u001b[0;34m(\u001b[0m\u001b[0mi\u001b[0m\u001b[0;34m,\u001b[0m \u001b[0mforest\u001b[0m\u001b[0;34m.\u001b[0m\u001b[0moob_score_\u001b[0m\u001b[0;34m)\u001b[0m\u001b[0;34m\u001b[0m\u001b[0m\n",
      "\u001b[0;32m/usr/local/lib/python3.6/site-packages/sklearn/ensemble/forest.py\u001b[0m in \u001b[0;36mfit\u001b[0;34m(self, X, y, sample_weight)\u001b[0m\n\u001b[1;32m    332\u001b[0m \u001b[0;34m\u001b[0m\u001b[0m\n\u001b[1;32m    333\u001b[0m         \u001b[0;32mif\u001b[0m \u001b[0mself\u001b[0m\u001b[0;34m.\u001b[0m\u001b[0moob_score\u001b[0m\u001b[0;34m:\u001b[0m\u001b[0;34m\u001b[0m\u001b[0m\n\u001b[0;32m--> 334\u001b[0;31m             \u001b[0mself\u001b[0m\u001b[0;34m.\u001b[0m\u001b[0m_set_oob_score\u001b[0m\u001b[0;34m(\u001b[0m\u001b[0mX\u001b[0m\u001b[0;34m,\u001b[0m \u001b[0my\u001b[0m\u001b[0;34m)\u001b[0m\u001b[0;34m\u001b[0m\u001b[0m\n\u001b[0m\u001b[1;32m    335\u001b[0m \u001b[0;34m\u001b[0m\u001b[0m\n\u001b[1;32m    336\u001b[0m         \u001b[0;31m# Decapsulate classes_ attributes\u001b[0m\u001b[0;34m\u001b[0m\u001b[0;34m\u001b[0m\u001b[0m\n",
      "\u001b[0;32m/usr/local/lib/python3.6/site-packages/sklearn/ensemble/forest.py\u001b[0m in \u001b[0;36m_set_oob_score\u001b[0;34m(self, X, y)\u001b[0m\n\u001b[1;32m    713\u001b[0m                 estimator.random_state, n_samples)\n\u001b[1;32m    714\u001b[0m             p_estimator = estimator.predict(\n\u001b[0;32m--> 715\u001b[0;31m                 X[unsampled_indices, :], check_input=False)\n\u001b[0m\u001b[1;32m    716\u001b[0m \u001b[0;34m\u001b[0m\u001b[0m\n\u001b[1;32m    717\u001b[0m             \u001b[0;32mif\u001b[0m \u001b[0mself\u001b[0m\u001b[0;34m.\u001b[0m\u001b[0mn_outputs_\u001b[0m \u001b[0;34m==\u001b[0m \u001b[0;36m1\u001b[0m\u001b[0;34m:\u001b[0m\u001b[0;34m\u001b[0m\u001b[0m\n",
      "\u001b[0;32m/usr/local/lib/python3.6/site-packages/sklearn/tree/tree.py\u001b[0m in \u001b[0;36mpredict\u001b[0;34m(self, X, check_input)\u001b[0m\n\u001b[1;32m    411\u001b[0m         \u001b[0mcheck_is_fitted\u001b[0m\u001b[0;34m(\u001b[0m\u001b[0mself\u001b[0m\u001b[0;34m,\u001b[0m \u001b[0;34m'tree_'\u001b[0m\u001b[0;34m)\u001b[0m\u001b[0;34m\u001b[0m\u001b[0m\n\u001b[1;32m    412\u001b[0m         \u001b[0mX\u001b[0m \u001b[0;34m=\u001b[0m \u001b[0mself\u001b[0m\u001b[0;34m.\u001b[0m\u001b[0m_validate_X_predict\u001b[0m\u001b[0;34m(\u001b[0m\u001b[0mX\u001b[0m\u001b[0;34m,\u001b[0m \u001b[0mcheck_input\u001b[0m\u001b[0;34m)\u001b[0m\u001b[0;34m\u001b[0m\u001b[0m\n\u001b[0;32m--> 413\u001b[0;31m         \u001b[0mproba\u001b[0m \u001b[0;34m=\u001b[0m \u001b[0mself\u001b[0m\u001b[0;34m.\u001b[0m\u001b[0mtree_\u001b[0m\u001b[0;34m.\u001b[0m\u001b[0mpredict\u001b[0m\u001b[0;34m(\u001b[0m\u001b[0mX\u001b[0m\u001b[0;34m)\u001b[0m\u001b[0;34m\u001b[0m\u001b[0m\n\u001b[0m\u001b[1;32m    414\u001b[0m         \u001b[0mn_samples\u001b[0m \u001b[0;34m=\u001b[0m \u001b[0mX\u001b[0m\u001b[0;34m.\u001b[0m\u001b[0mshape\u001b[0m\u001b[0;34m[\u001b[0m\u001b[0;36m0\u001b[0m\u001b[0;34m]\u001b[0m\u001b[0;34m\u001b[0m\u001b[0m\n\u001b[1;32m    415\u001b[0m \u001b[0;34m\u001b[0m\u001b[0m\n",
      "\u001b[0;31mKeyboardInterrupt\u001b[0m: "
     ]
    }
   ],
   "source": [
    "n_estimators = 1000\n",
    "forest = RandomForestRegressor(warm_start=True, oob_score=True)\n",
    "\n",
    "for i in range(1, n_estimators + 1):\n",
    "    forest.set_params(n_estimators=i)\n",
    "    forest.fit(X, y)\n",
    "    print (i, forest.oob_score_)"
   ]
  },
  {
   "cell_type": "code",
   "execution_count": 76,
   "metadata": {},
   "outputs": [
    {
     "name": "stderr",
     "output_type": "stream",
     "text": [
      "/usr/local/lib/python3.6/site-packages/sklearn/ensemble/forest.py:724: UserWarning: Some inputs do not have OOB scores. This probably means too few trees were used to compute any reliable oob estimates.\n",
      "  warn(\"Some inputs do not have OOB scores. \"\n",
      "/usr/local/lib/python3.6/site-packages/sklearn/ensemble/forest.py:724: UserWarning: Some inputs do not have OOB scores. This probably means too few trees were used to compute any reliable oob estimates.\n",
      "  warn(\"Some inputs do not have OOB scores. \"\n",
      "/usr/local/lib/python3.6/site-packages/sklearn/ensemble/forest.py:724: UserWarning: Some inputs do not have OOB scores. This probably means too few trees were used to compute any reliable oob estimates.\n",
      "  warn(\"Some inputs do not have OOB scores. \"\n",
      "/usr/local/lib/python3.6/site-packages/sklearn/ensemble/forest.py:724: UserWarning: Some inputs do not have OOB scores. This probably means too few trees were used to compute any reliable oob estimates.\n",
      "  warn(\"Some inputs do not have OOB scores. \"\n",
      "/usr/local/lib/python3.6/site-packages/sklearn/ensemble/forest.py:724: UserWarning: Some inputs do not have OOB scores. This probably means too few trees were used to compute any reliable oob estimates.\n",
      "  warn(\"Some inputs do not have OOB scores. \"\n",
      "/usr/local/lib/python3.6/site-packages/sklearn/ensemble/forest.py:724: UserWarning: Some inputs do not have OOB scores. This probably means too few trees were used to compute any reliable oob estimates.\n",
      "  warn(\"Some inputs do not have OOB scores. \"\n",
      "/usr/local/lib/python3.6/site-packages/sklearn/ensemble/forest.py:724: UserWarning: Some inputs do not have OOB scores. This probably means too few trees were used to compute any reliable oob estimates.\n",
      "  warn(\"Some inputs do not have OOB scores. \"\n",
      "/usr/local/lib/python3.6/site-packages/sklearn/ensemble/forest.py:724: UserWarning: Some inputs do not have OOB scores. This probably means too few trees were used to compute any reliable oob estimates.\n",
      "  warn(\"Some inputs do not have OOB scores. \"\n",
      "/usr/local/lib/python3.6/site-packages/sklearn/ensemble/forest.py:724: UserWarning: Some inputs do not have OOB scores. This probably means too few trees were used to compute any reliable oob estimates.\n",
      "  warn(\"Some inputs do not have OOB scores. \"\n",
      "/usr/local/lib/python3.6/site-packages/sklearn/ensemble/forest.py:724: UserWarning: Some inputs do not have OOB scores. This probably means too few trees were used to compute any reliable oob estimates.\n",
      "  warn(\"Some inputs do not have OOB scores. \"\n",
      "/usr/local/lib/python3.6/site-packages/sklearn/ensemble/forest.py:724: UserWarning: Some inputs do not have OOB scores. This probably means too few trees were used to compute any reliable oob estimates.\n",
      "  warn(\"Some inputs do not have OOB scores. \"\n",
      "/usr/local/lib/python3.6/site-packages/sklearn/ensemble/forest.py:724: UserWarning: Some inputs do not have OOB scores. This probably means too few trees were used to compute any reliable oob estimates.\n",
      "  warn(\"Some inputs do not have OOB scores. \"\n",
      "/usr/local/lib/python3.6/site-packages/sklearn/ensemble/forest.py:724: UserWarning: Some inputs do not have OOB scores. This probably means too few trees were used to compute any reliable oob estimates.\n",
      "  warn(\"Some inputs do not have OOB scores. \"\n",
      "/usr/local/lib/python3.6/site-packages/sklearn/ensemble/forest.py:724: UserWarning: Some inputs do not have OOB scores. This probably means too few trees were used to compute any reliable oob estimates.\n",
      "  warn(\"Some inputs do not have OOB scores. \"\n",
      "/usr/local/lib/python3.6/site-packages/sklearn/ensemble/forest.py:724: UserWarning: Some inputs do not have OOB scores. This probably means too few trees were used to compute any reliable oob estimates.\n",
      "  warn(\"Some inputs do not have OOB scores. \"\n",
      "/usr/local/lib/python3.6/site-packages/sklearn/ensemble/forest.py:724: UserWarning: Some inputs do not have OOB scores. This probably means too few trees were used to compute any reliable oob estimates.\n",
      "  warn(\"Some inputs do not have OOB scores. \"\n",
      "/usr/local/lib/python3.6/site-packages/sklearn/ensemble/forest.py:724: UserWarning: Some inputs do not have OOB scores. This probably means too few trees were used to compute any reliable oob estimates.\n",
      "  warn(\"Some inputs do not have OOB scores. \"\n",
      "/usr/local/lib/python3.6/site-packages/sklearn/ensemble/forest.py:724: UserWarning: Some inputs do not have OOB scores. This probably means too few trees were used to compute any reliable oob estimates.\n",
      "  warn(\"Some inputs do not have OOB scores. \"\n",
      "/usr/local/lib/python3.6/site-packages/sklearn/ensemble/forest.py:724: UserWarning: Some inputs do not have OOB scores. This probably means too few trees were used to compute any reliable oob estimates.\n",
      "  warn(\"Some inputs do not have OOB scores. \"\n",
      "/usr/local/lib/python3.6/site-packages/sklearn/ensemble/forest.py:724: UserWarning: Some inputs do not have OOB scores. This probably means too few trees were used to compute any reliable oob estimates.\n",
      "  warn(\"Some inputs do not have OOB scores. \"\n",
      "/usr/local/lib/python3.6/site-packages/sklearn/ensemble/forest.py:724: UserWarning: Some inputs do not have OOB scores. This probably means too few trees were used to compute any reliable oob estimates.\n",
      "  warn(\"Some inputs do not have OOB scores. \"\n",
      "/usr/local/lib/python3.6/site-packages/sklearn/ensemble/forest.py:724: UserWarning: Some inputs do not have OOB scores. This probably means too few trees were used to compute any reliable oob estimates.\n",
      "  warn(\"Some inputs do not have OOB scores. \"\n",
      "/usr/local/lib/python3.6/site-packages/sklearn/ensemble/forest.py:724: UserWarning: Some inputs do not have OOB scores. This probably means too few trees were used to compute any reliable oob estimates.\n",
      "  warn(\"Some inputs do not have OOB scores. \"\n",
      "/usr/local/lib/python3.6/site-packages/sklearn/ensemble/forest.py:724: UserWarning: Some inputs do not have OOB scores. This probably means too few trees were used to compute any reliable oob estimates.\n",
      "  warn(\"Some inputs do not have OOB scores. \"\n"
     ]
    }
   ],
   "source": [
    "import matplotlib.pyplot as plt\n",
    "from collections import OrderedDict\n",
    "RANDOM_STATE = 123\n",
    "ensemble_clfs = [\n",
    "    (\"RandomForestRegressor, max_features='sqrt'\",\n",
    "        RandomForestRegressor(n_estimators=100,\n",
    "                               warm_start=True, oob_score=True,\n",
    "                               max_features=\"sqrt\",\n",
    "                               random_state=RANDOM_STATE)),\n",
    "    (\"RandomForestRegressor, max_features='log2'\",\n",
    "        RandomForestRegressor(n_estimators=100,\n",
    "                               warm_start=True, max_features='log2',\n",
    "                               oob_score=True,\n",
    "                               random_state=RANDOM_STATE)),\n",
    "    (\"RandomForestRegressor, max_features=None\",\n",
    "        RandomForestRegressor(n_estimators=100,\n",
    "                               warm_start=True, max_features=None,\n",
    "                               oob_score=True,\n",
    "                               random_state=RANDOM_STATE))\n",
    "]\n",
    "\n",
    "# Map a classifier name to a list of (<n_estimators>, <error rate>) pairs.\n",
    "error_rate = OrderedDict((label, []) for label, _ in ensemble_clfs)\n",
    "\n",
    "# Range of `n_estimators` values to explore.\n",
    "min_estimators = 15\n",
    "max_estimators = 175\n",
    "\n",
    "for label, clf in ensemble_clfs:\n",
    "    for i in range(min_estimators, max_estimators + 1):\n",
    "        clf.set_params(n_estimators=i)\n",
    "        clf.fit(X, y)\n",
    "\n",
    "        # Record the OOB error for each `n_estimators=i` setting.\n",
    "        oob_error = 1 - clf.oob_score_\n",
    "        error_rate[label].append((i, oob_error))\n",
    "\n"
   ]
  },
  {
   "cell_type": "code",
   "execution_count": 77,
   "metadata": {},
   "outputs": [
    {
     "data": {
      "image/png": "[encoded data removed]",
      "text/plain": [
       "<matplotlib.figure.Figure at 0x11c14f0f0>"
      ]
     },
     "metadata": {},
     "output_type": "display_data"
    }
   ],
   "source": [
    "import matplotlib.pyplot as plt\n",
    "# Generate the \"OOB error rate\" vs. \"n_estimators\" plot.\n",
    "for label, clf_err in error_rate.items():\n",
    "    xs, ys = zip(*clf_err)\n",
    "    plt.plot(xs, ys, label=label)\n",
    "\n",
    "plt.xlim(min_estimators, max_estimators)\n",
    "plt.xlabel(\"n_estimators\")\n",
    "plt.ylabel(\"OOB error rate\")\n",
    "plt.legend(loc=\"upper right\")\n",
    "plt.show()"
   ]
  },
  {
   "cell_type": "code",
   "execution_count": 80,
   "metadata": {},
   "outputs": [
    {
     "data": {
      "text/plain": [
       "<module 'matplotlib.pyplot' from '/usr/local/lib/python3.6/site-packages/matplotlib/pyplot.py'>"
      ]
     },
     "execution_count": 80,
     "metadata": {},
     "output_type": "execute_result"
    }
   ],
   "source": []
  },
  {
   "cell_type": "code",
   "execution_count": null,
   "metadata": {},
   "outputs": [],
   "source": []
  }
 ],
 "metadata": {
  "kernelspec": {
   "display_name": "Python 3",
   "language": "python",
   "name": "python3"
  },
  "language_info": {
   "codemirror_mode": {
    "name": "ipython",
    "version": 3
   },
   "file_extension": ".py",
   "mimetype": "text/x-python",
   "name": "python",
   "nbconvert_exporter": "python",
   "pygments_lexer": "ipython3",
   "version": "3.6.5"
  }
 },
 "nbformat": 4,
 "nbformat_minor": 1
}
