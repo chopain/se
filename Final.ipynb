{
 "cells": [
  {
   "cell_type": "code",
   "execution_count": 30,
   "metadata": {},
   "outputs": [
    {
     "name": "stdout",
     "output_type": "stream",
     "text": [
      "The autotime extension is already loaded. To reload it, use:\n",
      "  %reload_ext autotime\n",
      "time: 49.2 ms\n"
     ]
    }
   ],
   "source": [
    "import numpy as np # linear algebra\n",
    "import pandas as pd # data processing, CSV file I/O \n",
    "import os\n",
    "from sklearn.model_selection import train_test_split\n",
    "import matplotlib.pyplot as plt\n",
    "from sklearn import model_selection\n",
    "from sklearn.feature_extraction.text import TfidfVectorizer, CountVectorizer\n",
    "from sklearn.ensemble import RandomForestRegressor\n",
    "from sklearn.model_selection import cross_val_score\n",
    "%load_ext autotime"
   ]
  },
  {
   "cell_type": "markdown",
   "metadata": {},
   "source": [
    "We read in the data set and take a subset of the first 20k rows, setting y to be the toxicity (target) value."
   ]
  },
  {
   "cell_type": "code",
   "execution_count": 2,
   "metadata": {},
   "outputs": [
    {
     "name": "stdout",
     "output_type": "stream",
     "text": [
      "time: 20.5 s\n"
     ]
    }
   ],
   "source": [
    "df = pd.read_csv('train.csv')"
   ]
  },
  {
   "cell_type": "code",
   "execution_count": 4,
   "metadata": {},
   "outputs": [
    {
     "name": "stdout",
     "output_type": "stream",
     "text": [
      "time: 4.27 ms\n"
     ]
    }
   ],
   "source": [
    "X = df.head(20000)\n",
    "y = X['target']"
   ]
  },
  {
   "cell_type": "code",
   "execution_count": 5,
   "metadata": {},
   "outputs": [
    {
     "name": "stdout",
     "output_type": "stream",
     "text": [
      "time: 11.4 ms\n"
     ]
    }
   ],
   "source": [
    "X = X.drop(['target'], axis=1)"
   ]
  },
  {
   "cell_type": "markdown",
   "metadata": {},
   "source": [
    "We then do a 70:30 train test split."
   ]
  },
  {
   "cell_type": "code",
   "execution_count": 43,
   "metadata": {},
   "outputs": [
    {
     "name": "stdout",
     "output_type": "stream",
     "text": [
      "time: 67.8 ms\n"
     ]
    }
   ],
   "source": [
    "X_train, X_test, y_train, y_test = train_test_split(X, y, test_size=0.3, random_state=42)"
   ]
  },
  {
   "cell_type": "markdown",
   "metadata": {},
   "source": [
    "Here we transform the text data into count vector and tf-idf feature representations."
   ]
  },
  {
   "cell_type": "code",
   "execution_count": 44,
   "metadata": {},
   "outputs": [
    {
     "name": "stdout",
     "output_type": "stream",
     "text": [
      "time: 1.59 s\n"
     ]
    }
   ],
   "source": [
    "# create a count vectorizer object \n",
    "count_vect = CountVectorizer(analyzer='word', token_pattern=r'\\w{1,}')\n",
    "count_vect.fit(X['comment_text'])\n",
    "\n",
    "# transform the training and validation data using count vectorizer object\n",
    "xtrain_count =  count_vect.transform(X_train['comment_text'])\n",
    "xtest_count =  count_vect.transform(X_test['comment_text'])"
   ]
  },
  {
   "cell_type": "code",
   "execution_count": 45,
   "metadata": {},
   "outputs": [
    {
     "name": "stdout",
     "output_type": "stream",
     "text": [
      "time: 20.3 s\n"
     ]
    }
   ],
   "source": [
    "# word level tf-idf\n",
    "tfidf_vect = TfidfVectorizer(analyzer='word', token_pattern=r'\\w{1,}', max_features=5000)\n",
    "tfidf_vect.fit(X['comment_text'])\n",
    "xtrain_tfidf =  tfidf_vect.transform(X_train['comment_text'])\n",
    "xtest_tfidf =  tfidf_vect.transform(X_test['comment_text'])\n",
    "\n",
    "# ngram level tf-idf \n",
    "tfidf_vect_ngram = TfidfVectorizer(analyzer='word', token_pattern=r'\\w{1,}', ngram_range=(2,3), max_features=5000)\n",
    "tfidf_vect_ngram.fit(X['comment_text'])\n",
    "xtrain_tfidf_ngram =  tfidf_vect_ngram.transform(X_train['comment_text'])\n",
    "xtest_tfidf_ngram =  tfidf_vect_ngram.transform(X_test['comment_text'])\n",
    "\n",
    "# characters level tf-idf\n",
    "tfidf_vect_ngram_chars = TfidfVectorizer(analyzer='char', token_pattern=r'\\w{1,}', ngram_range=(2,3), max_features=5000)\n",
    "tfidf_vect_ngram_chars.fit(X['comment_text'])\n",
    "xtrain_tfidf_ngram_chars =  tfidf_vect_ngram_chars.transform(X_train['comment_text']) \n",
    "xtest_tfidf_ngram_chars =  tfidf_vect_ngram_chars.transform(X_test['comment_text']) "
   ]
  },
  {
   "cell_type": "code",
   "execution_count": 107,
   "metadata": {},
   "outputs": [
    {
     "name": "stdout",
     "output_type": "stream",
     "text": [
      "time: 7min 31s\n"
     ]
    }
   ],
   "source": [
    "# RF on Count Vectors\n",
    "rf = RandomForestRegressor(n_estimators=100, random_state=0)  \n",
    "rf.fit(xtrain_count, y_train)  \n",
    "y_pred = rf.predict(xtest_count)"
   ]
  },
  {
   "cell_type": "code",
   "execution_count": 48,
   "metadata": {},
   "outputs": [
    {
     "name": "stdout",
     "output_type": "stream",
     "text": [
      "Train Score:  0.8984\n",
      "Train Score:  0.3201\n",
      "time: 307 ms\n"
     ]
    }
   ],
   "source": [
    "print(\"Train Score: \", round(rf.score(xtrain_count,y_train),4))\n",
    "print(\"Test Score: \", round(rf.score(xtest_count,y_test),4))"
   ]
  },
  {
   "cell_type": "code",
   "execution_count": 109,
   "metadata": {},
   "outputs": [
    {
     "name": "stdout",
     "output_type": "stream",
     "text": [
      "Train Score:  0.9078\n",
      "Train Score:  0.2792\n",
      "time: 1.67 s\n"
     ]
    }
   ],
   "source": [
    "print(\"Train Score: \", round(rf.score(xtrain_count,y_train),4))\n",
    "print(\"Test Score: \", round(rf.score(xtest_count,y_test),4))"
   ]
  },
  {
   "cell_type": "code",
   "execution_count": 108,
   "metadata": {},
   "outputs": [
    {
     "name": "stdout",
     "output_type": "stream",
     "text": [
      "time: 8min 14s\n"
     ]
    }
   ],
   "source": [
    "# RF on TF-IDF Vectors\n",
    "rf2 = RandomForestRegressor(n_estimators=100, random_state=0)  \n",
    "rf2.fit(xtrain_tfidf, y_train)  \n",
    "y_pred2 = rf2.predict(xtest_tfidf)"
   ]
  },
  {
   "cell_type": "code",
   "execution_count": 50,
   "metadata": {},
   "outputs": [
    {
     "name": "stdout",
     "output_type": "stream",
     "text": [
      "Train Score:  0.8907\n",
      "Train Score:  0.296\n",
      "time: 235 ms\n"
     ]
    }
   ],
   "source": [
    "print(\"Train Score: \", round(rf2.score(xtrain_tfidf,y_train),4))\n",
    "print(\"Train Score: \", round(rf2.score(xtest_tfidf,y_test),4))"
   ]
  },
  {
   "cell_type": "code",
   "execution_count": 110,
   "metadata": {},
   "outputs": [
    {
     "name": "stdout",
     "output_type": "stream",
     "text": [
      "Train Score:  0.9019\n",
      "Train Score:  0.2627\n",
      "time: 1.09 s\n"
     ]
    }
   ],
   "source": [
    "print(\"Train Score: \", round(rf2.score(xtrain_tfidf,y_train),4))\n",
    "print(\"Train Score: \", round(rf2.score(xtest_tfidf,y_test),4))"
   ]
  },
  {
   "cell_type": "code",
   "execution_count": 51,
   "metadata": {},
   "outputs": [
    {
     "name": "stdout",
     "output_type": "stream",
     "text": [
      "time: 1min 11s\n"
     ]
    }
   ],
   "source": [
    "# RF on TF-IDF ngram Vectors\n",
    "rf3 = RandomForestRegressor(n_estimators=20, random_state=0)  \n",
    "rf3.fit(xtrain_tfidf_ngram, y_train)  \n",
    "y_pred2 = rf3.predict(xtest_tfidf_ngram)"
   ]
  },
  {
   "cell_type": "code",
   "execution_count": 52,
   "metadata": {},
   "outputs": [
    {
     "name": "stdout",
     "output_type": "stream",
     "text": [
      "Train Score:  0.8027\n",
      "Train Score:  -0.07\n",
      "time: 310 ms\n"
     ]
    }
   ],
   "source": [
    "print(\"Train Score: \", round(rf3.score(xtrain_tfidf_ngram,y_train),4))\n",
    "print(\"Train Score: \", round(rf3.score(xtest_tfidf_ngram,y_test),4))"
   ]
  },
  {
   "cell_type": "code",
   "execution_count": 53,
   "metadata": {},
   "outputs": [
    {
     "name": "stdout",
     "output_type": "stream",
     "text": [
      "time: 8min 16s\n"
     ]
    }
   ],
   "source": [
    "# RF on TF-IDF character-level ngram Vectors\n",
    "rf4 = RandomForestRegressor(n_estimators=20, random_state=0)  \n",
    "rf4.fit(xtrain_tfidf_ngram_chars, y_train)  \n",
    "y_pred2 = rf3.predict(xtest_tfidf_ngram_chars)"
   ]
  },
  {
   "cell_type": "code",
   "execution_count": 54,
   "metadata": {},
   "outputs": [
    {
     "name": "stdout",
     "output_type": "stream",
     "text": [
      "Train Score:  0.8767\n",
      "Train Score:  0.2151\n",
      "time: 435 ms\n"
     ]
    }
   ],
   "source": [
    "print(\"Train Score: \", round(rf4.score(xtrain_tfidf_ngram_chars,y_train),4))\n",
    "print(\"Train Score: \", round(rf4.score(xtest_tfidf_ngram_chars,y_test),4))"
   ]
  },
  {
   "cell_type": "markdown",
   "metadata": {},
   "source": [
    "The results from using the count vectors are comparable to that of the tf-idf vectors, with less computation, so we use count vectors as our features. We now track the OOB score for n_estimators, to determine a good cut-off point, while considering the max_features."
   ]
  },
  {
   "cell_type": "code",
   "execution_count": 98,
   "metadata": {},
   "outputs": [
    {
     "name": "stderr",
     "output_type": "stream",
     "text": [
      "/usr/local/lib/python3.6/site-packages/sklearn/ensemble/forest.py:724: UserWarning: Some inputs do not have OOB scores. This probably means too few trees were used to compute any reliable oob estimates.\n",
      "  warn(\"Some inputs do not have OOB scores. \"\n",
      "/usr/local/lib/python3.6/site-packages/sklearn/ensemble/forest.py:724: UserWarning: Some inputs do not have OOB scores. This probably means too few trees were used to compute any reliable oob estimates.\n",
      "  warn(\"Some inputs do not have OOB scores. \"\n",
      "/usr/local/lib/python3.6/site-packages/sklearn/ensemble/forest.py:724: UserWarning: Some inputs do not have OOB scores. This probably means too few trees were used to compute any reliable oob estimates.\n",
      "  warn(\"Some inputs do not have OOB scores. \"\n",
      "/usr/local/lib/python3.6/site-packages/sklearn/ensemble/forest.py:724: UserWarning: Some inputs do not have OOB scores. This probably means too few trees were used to compute any reliable oob estimates.\n",
      "  warn(\"Some inputs do not have OOB scores. \"\n",
      "/usr/local/lib/python3.6/site-packages/sklearn/ensemble/forest.py:724: UserWarning: Some inputs do not have OOB scores. This probably means too few trees were used to compute any reliable oob estimates.\n",
      "  warn(\"Some inputs do not have OOB scores. \"\n",
      "/usr/local/lib/python3.6/site-packages/sklearn/ensemble/forest.py:724: UserWarning: Some inputs do not have OOB scores. This probably means too few trees were used to compute any reliable oob estimates.\n",
      "  warn(\"Some inputs do not have OOB scores. \"\n",
      "/usr/local/lib/python3.6/site-packages/sklearn/ensemble/forest.py:724: UserWarning: Some inputs do not have OOB scores. This probably means too few trees were used to compute any reliable oob estimates.\n",
      "  warn(\"Some inputs do not have OOB scores. \"\n",
      "/usr/local/lib/python3.6/site-packages/sklearn/ensemble/forest.py:724: UserWarning: Some inputs do not have OOB scores. This probably means too few trees were used to compute any reliable oob estimates.\n",
      "  warn(\"Some inputs do not have OOB scores. \"\n",
      "/usr/local/lib/python3.6/site-packages/sklearn/ensemble/forest.py:724: UserWarning: Some inputs do not have OOB scores. This probably means too few trees were used to compute any reliable oob estimates.\n",
      "  warn(\"Some inputs do not have OOB scores. \"\n",
      "/usr/local/lib/python3.6/site-packages/sklearn/ensemble/forest.py:724: UserWarning: Some inputs do not have OOB scores. This probably means too few trees were used to compute any reliable oob estimates.\n",
      "  warn(\"Some inputs do not have OOB scores. \"\n",
      "/usr/local/lib/python3.6/site-packages/sklearn/ensemble/forest.py:724: UserWarning: Some inputs do not have OOB scores. This probably means too few trees were used to compute any reliable oob estimates.\n",
      "  warn(\"Some inputs do not have OOB scores. \"\n",
      "/usr/local/lib/python3.6/site-packages/sklearn/ensemble/forest.py:724: UserWarning: Some inputs do not have OOB scores. This probably means too few trees were used to compute any reliable oob estimates.\n",
      "  warn(\"Some inputs do not have OOB scores. \"\n",
      "/usr/local/lib/python3.6/site-packages/sklearn/ensemble/forest.py:724: UserWarning: Some inputs do not have OOB scores. This probably means too few trees were used to compute any reliable oob estimates.\n",
      "  warn(\"Some inputs do not have OOB scores. \"\n",
      "/usr/local/lib/python3.6/site-packages/sklearn/ensemble/forest.py:724: UserWarning: Some inputs do not have OOB scores. This probably means too few trees were used to compute any reliable oob estimates.\n",
      "  warn(\"Some inputs do not have OOB scores. \"\n",
      "/usr/local/lib/python3.6/site-packages/sklearn/ensemble/forest.py:724: UserWarning: Some inputs do not have OOB scores. This probably means too few trees were used to compute any reliable oob estimates.\n",
      "  warn(\"Some inputs do not have OOB scores. \"\n"
     ]
    },
    {
     "data": {
      "image/png": "[encoded data removed]",
      "text/plain": [
       "<matplotlib.figure.Figure at 0x10d7b80b8>"
      ]
     },
     "metadata": {},
     "output_type": "display_data"
    },
    {
     "name": "stdout",
     "output_type": "stream",
     "text": [
      "time: 33min 47s\n"
     ]
    }
   ],
   "source": [
    "from collections import OrderedDict\n",
    "RANDOM_STATE = 123\n",
    "ensemble_clfs = [\n",
    "    (\"RandomForestRegressor, max_features='sqrt'\",\n",
    "        RandomForestRegressor(n_estimators=100,\n",
    "                               warm_start=True, oob_score=True,\n",
    "                               max_features=\"sqrt\",\n",
    "                               random_state=RANDOM_STATE)),\n",
    "    (\"RandomForestRegressor, max_features='log2'\",\n",
    "        RandomForestRegressor(n_estimators=100,\n",
    "                               warm_start=True, max_features='log2',\n",
    "                               oob_score=True,\n",
    "                               random_state=RANDOM_STATE)),\n",
    "    (\"RandomForestRegressor, max_features=None\",\n",
    "        RandomForestRegressor(n_estimators=50,\n",
    "                               warm_start=True, max_features=None,\n",
    "                               oob_score=True,\n",
    "                               random_state=RANDOM_STATE))\n",
    "]\n",
    "\n",
    "# Map a classifier name to a list of (<n_estimators>, <error rate>) pairs.\n",
    "error_rate = OrderedDict((label, []) for label, _ in ensemble_clfs)\n",
    "\n",
    "# Range of `n_estimators` values to explore.\n",
    "min_estimators = 15\n",
    "max_estimators = 175\n",
    "\n",
    "for label, clf in ensemble_clfs:\n",
    "    for i in range(min_estimators, max_estimators + 1):\n",
    "        clf.set_params(n_estimators=i)\n",
    "        clf.fit(xtrain_count, y_train)\n",
    "\n",
    "        # Record the OOB error for each `n_estimators=i` setting.\n",
    "        oob_error = 1 - clf.oob_score_\n",
    "        error_rate[label].append((i, oob_error))\n",
    "        \n",
    "# Generate the \"OOB error rate\" vs. \"n_estimators\" plot.\n",
    "for label, clf_err in error_rate.items():\n",
    "    xs, ys = zip(*clf_err)\n",
    "    plt.plot(xs, ys, label=label)\n",
    "\n",
    "plt.xlim(min_estimators, max_estimators)\n",
    "plt.xlabel(\"n_estimators\")\n",
    "plt.ylabel(\"OOB error rate\")\n",
    "plt.legend(loc=\"upper right\")\n",
    "plt.show()"
   ]
  },
  {
   "cell_type": "code",
   "execution_count": 103,
   "metadata": {},
   "outputs": [
    {
     "data": {
      "image/png": "[encoded data removed]",
      "text/plain": [
       "<matplotlib.figure.Figure at 0x1101d7048>"
      ]
     },
     "metadata": {},
     "output_type": "display_data"
    },
    {
     "name": "stdout",
     "output_type": "stream",
     "text": [
      "time: 1.07 s\n"
     ]
    }
   ],
   "source": [
    "for label, clf_err in error_rate.items():\n",
    "    xs, ys = zip(*clf_err)\n",
    "    plt.plot(xs, ys, label=label)\n",
    "\n",
    "plt.xlim(min_estimators, max_estimators)\n",
    "plt.xlabel(\"n_estimators\")\n",
    "plt.ylabel(\"OOB error rate\")\n",
    "plt.legend(loc=\"upper right\")\n",
    "plt.savefig('oob.png', dpi=300)"
   ]
  },
  {
   "cell_type": "code",
   "execution_count": 102,
   "metadata": {},
   "outputs": [
    {
     "data": {
      "text/plain": [
       "<matplotlib.figure.Figure at 0x10f5a3828>"
      ]
     },
     "metadata": {},
     "output_type": "display_data"
    },
    {
     "name": "stdout",
     "output_type": "stream",
     "text": [
      "time: 450 ms\n"
     ]
    }
   ],
   "source": [
    "plt.savefig('oob.png', dpi=300)"
   ]
  },
  {
   "cell_type": "code",
   "execution_count": 104,
   "metadata": {},
   "outputs": [
    {
     "name": "stdout",
     "output_type": "stream",
     "text": [
      "{'bootstrap': [True, False],\n",
      " 'max_features': ['log2', 'sqrt', None],\n",
      " 'min_samples_split': [2, 5, 10, 15]}\n",
      "time: 47.5 ms\n"
     ]
    }
   ],
   "source": [
    "from sklearn.model_selection import RandomizedSearchCV\n",
    "from pprint import pprint\n",
    "# Number of trees in random forest\n",
    "n_estimators = [int(x) for x in np.linspace(start = 200, stop = 2000, num = 10)]\n",
    "# Number of features to consider at every split\n",
    "max_features = ['log2', 'sqrt', None]\n",
    "# Maximum number of levels in tree\n",
    "max_depth = [int(x) for x in np.linspace(10, 110, num = 11)]\n",
    "max_depth.append(None)\n",
    "# Minimum number of samples required to split a node\n",
    "min_samples_split = [2, 5, 10, 15]\n",
    "# Minimum number of samples required at each leaf node\n",
    "min_samples_leaf = [1, 2, 4]\n",
    "# Method of selecting samples for training each tree\n",
    "bootstrap = [True, False]\n",
    "\n",
    "# Create the random grid\n",
    "random_grid = {'max_features': max_features,\n",
    "               'min_samples_split': min_samples_split,\n",
    "               'bootstrap': bootstrap}\n",
    "\n",
    "pprint(random_grid)"
   ]
  },
  {
   "cell_type": "code",
   "execution_count": 105,
   "metadata": {},
   "outputs": [
    {
     "name": "stdout",
     "output_type": "stream",
     "text": [
      "Fitting 3 folds for each of 10 candidates, totalling 30 fits\n",
      "[CV] min_samples_split=2, max_features=None, bootstrap=True ..........\n",
      "[CV] min_samples_split=2, max_features=None, bootstrap=True ..........\n",
      "[CV] min_samples_split=2, max_features=None, bootstrap=True ..........\n",
      "[CV] min_samples_split=2, max_features=sqrt, bootstrap=False .........\n",
      "[CV] min_samples_split=2, max_features=sqrt, bootstrap=False .........\n",
      "[CV] min_samples_split=2, max_features=sqrt, bootstrap=False .........\n",
      "[CV] min_samples_split=2, max_features=log2, bootstrap=True ..........\n",
      "[CV] min_samples_split=2, max_features=log2, bootstrap=True ..........\n",
      "[CV]  min_samples_split=2, max_features=log2, bootstrap=True, total=   1.6s\n",
      "[CV]  min_samples_split=2, max_features=log2, bootstrap=True, total=   1.7s\n",
      "[CV] min_samples_split=2, max_features=log2, bootstrap=True ..........\n",
      "[CV] min_samples_split=10, max_features=sqrt, bootstrap=False ........\n",
      "[CV]  min_samples_split=2, max_features=log2, bootstrap=True, total=   1.8s\n",
      "[CV] min_samples_split=10, max_features=sqrt, bootstrap=False ........\n",
      "[CV]  min_samples_split=2, max_features=sqrt, bootstrap=False, total=   4.5s\n",
      "[CV] min_samples_split=10, max_features=sqrt, bootstrap=False ........\n",
      "[CV]  min_samples_split=2, max_features=sqrt, bootstrap=False, total=   4.8s\n",
      "[CV] min_samples_split=15, max_features=None, bootstrap=True .........\n",
      "[CV]  min_samples_split=2, max_features=sqrt, bootstrap=False, total=   4.9s\n",
      "[CV] min_samples_split=15, max_features=None, bootstrap=True .........\n",
      "[CV]  min_samples_split=10, max_features=sqrt, bootstrap=False, total=   4.3s\n",
      "[CV] min_samples_split=15, max_features=None, bootstrap=True .........\n",
      "[CV]  min_samples_split=10, max_features=sqrt, bootstrap=False, total=   3.8s\n",
      "[CV] min_samples_split=5, max_features=None, bootstrap=True ..........\n",
      "[CV]  min_samples_split=10, max_features=sqrt, bootstrap=False, total=   4.9s\n",
      "[CV] min_samples_split=5, max_features=None, bootstrap=True ..........\n",
      "[CV]  min_samples_split=15, max_features=None, bootstrap=True, total=  36.2s\n",
      "[CV] min_samples_split=5, max_features=None, bootstrap=True ..........\n",
      "[CV]  min_samples_split=2, max_features=None, bootstrap=True, total=  45.2s\n",
      "[CV] min_samples_split=5, max_features=log2, bootstrap=False .........\n",
      "[CV]  min_samples_split=15, max_features=None, bootstrap=True, total=  40.4s\n",
      "[CV] min_samples_split=5, max_features=log2, bootstrap=False .........\n",
      "[CV]  min_samples_split=15, max_features=None, bootstrap=True, total=  40.2s\n",
      "[CV] min_samples_split=5, max_features=log2, bootstrap=False .........\n",
      "[CV]  min_samples_split=2, max_features=None, bootstrap=True, total=  47.0s\n",
      "[CV] min_samples_split=5, max_features=log2, bootstrap=True ..........\n",
      "[CV]  min_samples_split=5, max_features=log2, bootstrap=False, total=   2.7s\n",
      "[CV]  min_samples_split=5, max_features=log2, bootstrap=False, total=   2.5s\n",
      "[CV] min_samples_split=5, max_features=log2, bootstrap=True ..........\n",
      "[CV] min_samples_split=5, max_features=log2, bootstrap=True ..........\n",
      "[CV]  min_samples_split=5, max_features=log2, bootstrap=True, total=   1.4s\n",
      "[CV] min_samples_split=5, max_features=None, bootstrap=False .........\n",
      "[CV]  min_samples_split=2, max_features=None, bootstrap=True, total=  48.8s\n",
      "[CV] min_samples_split=5, max_features=None, bootstrap=False .........\n",
      "[CV]  min_samples_split=5, max_features=log2, bootstrap=False, total=   2.7s\n",
      "[CV] min_samples_split=5, max_features=None, bootstrap=False .........\n",
      "[CV]  min_samples_split=5, max_features=log2, bootstrap=True, total=   1.6s\n",
      "[CV] min_samples_split=5, max_features=sqrt, bootstrap=True ..........\n",
      "[CV]  min_samples_split=5, max_features=log2, bootstrap=True, total=   1.8s\n",
      "[CV] min_samples_split=5, max_features=sqrt, bootstrap=True ..........\n",
      "[CV]  min_samples_split=5, max_features=None, bootstrap=True, total=  42.3s\n",
      "[CV] min_samples_split=5, max_features=sqrt, bootstrap=True ..........\n",
      "[CV]  min_samples_split=5, max_features=None, bootstrap=True, total=  41.4s\n",
      "[CV]  min_samples_split=5, max_features=sqrt, bootstrap=True, total=   2.5s\n",
      "[CV]  min_samples_split=5, max_features=sqrt, bootstrap=True, total=   2.4s\n",
      "[CV]  min_samples_split=5, max_features=sqrt, bootstrap=True, total=   2.5s\n",
      "[CV]  min_samples_split=5, max_features=None, bootstrap=True, total=  31.2s\n",
      "[CV]  min_samples_split=5, max_features=None, bootstrap=False, total=  40.8s\n",
      "[CV]  min_samples_split=5, max_features=None, bootstrap=False, total=  42.5s\n",
      "[CV]  min_samples_split=5, max_features=None, bootstrap=False, total=  43.5s\n"
     ]
    },
    {
     "name": "stderr",
     "output_type": "stream",
     "text": [
      "[Parallel(n_jobs=-1)]: Done  30 out of  30 | elapsed:  1.6min finished\n"
     ]
    },
    {
     "data": {
      "text/plain": [
       "RandomizedSearchCV(cv=3, error_score='raise',\n",
       "          estimator=RandomForestRegressor(bootstrap=True, criterion='mse', max_depth=None,\n",
       "           max_features='auto', max_leaf_nodes=None,\n",
       "           min_impurity_decrease=0.0, min_impurity_split=None,\n",
       "           min_samples_leaf=1, min_samples_split=2,\n",
       "           min_weight_fraction_leaf=0.0, n_estimators=10, n_jobs=1,\n",
       "           oob_score=False, random_state=None, verbose=0, warm_start=False),\n",
       "          fit_params=None, iid=True, n_iter=10, n_jobs=-1,\n",
       "          param_distributions={'max_features': ['log2', 'sqrt', None], 'min_samples_split': [2, 5, 10, 15], 'bootstrap': [True, False]},\n",
       "          pre_dispatch='2*n_jobs', random_state=42, refit=True,\n",
       "          return_train_score='warn', scoring=None, verbose=2)"
      ]
     },
     "execution_count": 105,
     "metadata": {},
     "output_type": "execute_result"
    },
    {
     "name": "stdout",
     "output_type": "stream",
     "text": [
      "time: 2min 17s\n"
     ]
    }
   ],
   "source": [
    "# Use the random grid to search for best hyperparameters\n",
    "# First create the base model to tune\n",
    "rf = RandomForestRegressor()\n",
    "# Random search of parameters, using 3 fold cross validation, \n",
    "# search across 100 different combinations, and use all available cores\n",
    "rf_random = RandomizedSearchCV(estimator = rf, param_distributions = random_grid, cv = 3, verbose=2, random_state=42, n_jobs = -1)\n",
    "\n",
    "# Fit the random search model\n",
    "rf_random.fit(xtrain_count, y_train)"
   ]
  },
  {
   "cell_type": "code",
   "execution_count": 106,
   "metadata": {},
   "outputs": [
    {
     "data": {
      "text/plain": [
       "{'bootstrap': True, 'max_features': None, 'min_samples_split': 5}"
      ]
     },
     "execution_count": 106,
     "metadata": {},
     "output_type": "execute_result"
    },
    {
     "name": "stdout",
     "output_type": "stream",
     "text": [
      "time: 3.88 ms\n"
     ]
    }
   ],
   "source": [
    "rf_random.best_params_"
   ]
  },
  {
   "cell_type": "code",
   "execution_count": 111,
   "metadata": {},
   "outputs": [
    {
     "name": "stdout",
     "output_type": "stream",
     "text": [
      "time: 5min 47s\n"
     ]
    }
   ],
   "source": [
    "#RF using best params and count vectorization\n",
    "rfb = RandomForestRegressor(n_estimators=85, random_state=0, bootstrap=True, max_features=None, min_samples_split=5)  \n",
    "rfb.fit(xtrain_count, y_train)  \n",
    "y_pred_b = rfb.predict(xtest_count)"
   ]
  },
  {
   "cell_type": "code",
   "execution_count": 76,
   "metadata": {
    "scrolled": true
   },
   "outputs": [
    {
     "name": "stdout",
     "output_type": "stream",
     "text": [
      "Train Score:  0.8684\n",
      "Test Score:  0.3364\n",
      "time: 1.27 s\n"
     ]
    }
   ],
   "source": [
    "print(\"Train Score: \", round(rfb.score(xtrain_count,y_train),4))\n",
    "print(\"Test Score: \", round(rfb.score(xtest_count,y_test),4))"
   ]
  },
  {
   "cell_type": "code",
   "execution_count": 80,
   "metadata": {},
   "outputs": [
    {
     "name": "stdout",
     "output_type": "stream",
     "text": [
      "time: 3.06 ms\n"
     ]
    }
   ],
   "source": [
    "# Here we set each toxicity value to 0 or 1, based on whether the probability is >= 0.5\n",
    "pred = y_pred_b\n",
    "pred[pred >= 0.5] = 1\n",
    "pred[pred < 0.5] = 0"
   ]
  },
  {
   "cell_type": "code",
   "execution_count": 83,
   "metadata": {},
   "outputs": [
    {
     "name": "stdout",
     "output_type": "stream",
     "text": [
      "time: 12.4 ms\n"
     ]
    }
   ],
   "source": [
    "# Same for the test set\n",
    "y_test_round = y_test\n",
    "y_test_round[y_test_round >= 0.5] = 1\n",
    "y_test_round[y_test_round < 0.5] = 0"
   ]
  },
  {
   "cell_type": "code",
   "execution_count": 84,
   "metadata": {},
   "outputs": [
    {
     "name": "stdout",
     "output_type": "stream",
     "text": [
      "time: 5.58 ms\n"
     ]
    }
   ],
   "source": [
    "# Calculate ROC-AUC and plot\n",
    "import matplotlib.pyplot as plt\n",
    "from sklearn.metrics import (confusion_matrix, precision_recall_curve, auc,\n",
    "                             roc_curve, recall_score, classification_report, f1_score,\n",
    "                             precision_recall_fscore_support)\n",
    "\n",
    "fpr, tpr, thresholds = roc_curve(y_test, pred)\n",
    "roc_auc = auc(fpr, tpr)"
   ]
  },
  {
   "cell_type": "code",
   "execution_count": 85,
   "metadata": {
    "scrolled": true
   },
   "outputs": [
    {
     "data": {
      "image/png": "[encoded data removed]",
      "text/plain": [
       "<matplotlib.figure.Figure at 0x11034d048>"
      ]
     },
     "metadata": {},
     "output_type": "display_data"
    },
    {
     "name": "stdout",
     "output_type": "stream",
     "text": [
      "time: 262 ms\n"
     ]
    }
   ],
   "source": [
    "plt.title('Receiver Operating Characteristic')\n",
    "plt.plot(fpr, tpr, label='AUC = %0.4f'% roc_auc)\n",
    "plt.legend(loc='lower right')\n",
    "plt.plot([0,1],[0,1],'r--')\n",
    "plt.xlim([-0.001, 1])\n",
    "plt.ylim([0, 1.001])\n",
    "plt.ylabel('True Positive Rate')\n",
    "plt.xlabel('False Positive Rate')\n",
    "plt.show();"
   ]
  },
  {
   "cell_type": "code",
   "execution_count": 97,
   "metadata": {},
   "outputs": [
    {
     "data": {
      "text/plain": [
       "array([0.00000000e+00, 4.86408755e-06, 2.76589166e-05, ...,\n",
       "       0.00000000e+00, 0.00000000e+00, 0.00000000e+00])"
      ]
     },
     "execution_count": 97,
     "metadata": {},
     "output_type": "execute_result"
    },
    {
     "name": "stdout",
     "output_type": "stream",
     "text": [
      "time: 214 ms\n"
     ]
    }
   ],
   "source": [
    "rfb.feature_importances_"
   ]
  },
  {
   "cell_type": "code",
   "execution_count": null,
   "metadata": {},
   "outputs": [],
   "source": []
  }
 ],
 "metadata": {
  "kernelspec": {
   "display_name": "Python 3",
   "language": "python",
   "name": "python3"
  },
  "language_info": {
   "codemirror_mode": {
    "name": "ipython",
    "version": 3
   },
   "file_extension": ".py",
   "mimetype": "text/x-python",
   "name": "python",
   "nbconvert_exporter": "python",
   "pygments_lexer": "ipython3",
   "version": "3.6.5"
  }
 },
 "nbformat": 4,
 "nbformat_minor": 2
}
